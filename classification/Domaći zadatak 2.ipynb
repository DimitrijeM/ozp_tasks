{
 "cells": [
  {
   "cell_type": "markdown",
   "metadata": {},
   "source": [
    "<img src='img/fon.png' width=200>\n",
    "<center>\n",
    "    <br/>\n",
    "    Otkrivanje zakonitosti u podacima 2019-2020\n",
    "    <br/>\n",
    "    Fakultet Organizacionih Nauka, 2020\n",
    "    <br/>\n",
    "    <h1>D2. Domaći zadatak 2</h1>\n",
    "</center>"
   ]
  },
  {
   "cell_type": "markdown",
   "metadata": {},
   "source": [
    "# Zahtevi domaćeg zadatka\n",
    "\n",
    "\n",
    "0. Učitati podatke o vinima (wine_quality.csv), sa ciljem prepoznavanja \"top_quality\" klase.\n",
    "\n",
    "1. Kreirati minimalno 3 modela za klasifikaciju (sa default parametrima)\n",
    "    - proceniti grešku generalizacije za sve modele, na osnovu nekoliko metrika;\n",
    "    - prikazati i standardnu devijaciju procene greške (od 10 kros-validacionih uzoraka)\n",
    "    - odgovoriti da li su modeli pretrenirani;\n",
    "    - prodiskutovati koja metrika je najadekvatnija za ovaj problem, i koji tip grešaka je skuplji;\n",
    "    - modifikovati granicu odlučivanja, tako da model pravi više jeftinijih grešaka;\n",
    "    - odgovoriti koji atributi su najbitniji za naučene modele (gde je moguće videti)\n",
    "\n",
    "2. Optimizovati minimalno 2 parametra kod najboljeg modela (iz koraka 1)\n",
    "    - ispitati najmanje 100 različitih vrednosti parametara\n",
    "    - uporediti kvalitet optimizovanog i neoptimizovanog modela\n",
    "\n",
    "3. Napraviti 2 razlicita ansambl modela, bazirana na modelima iz koraka 2\n",
    "    - optimizovati parametre ansambl modela\n",
    "    - uporediti kvalitet ansambl i osnovnih modela"
   ]
  },
  {
   "cell_type": "code",
   "execution_count": 1,
   "metadata": {},
   "outputs": [],
   "source": [
    "%matplotlib inline\n",
    "\n",
    "import matplotlib\n",
    "import matplotlib.pyplot as plt\n",
    "import numpy as np\n",
    "import pandas as pd\n",
    "\n",
    "import warnings\n",
    "warnings.filterwarnings('ignore')"
   ]
  },
  {
   "cell_type": "markdown",
   "metadata": {},
   "source": [
    "## Učitavanje podataka"
   ]
  },
  {
   "cell_type": "markdown",
   "metadata": {},
   "source": [
    "0. Učitati podatke o vinima (wine_quality.csv), sa ciljem prepoznavanja \"top_quality\" klase."
   ]
  },
  {
   "cell_type": "code",
   "execution_count": 2,
   "metadata": {
    "scrolled": true
   },
   "outputs": [
    {
     "data": {
      "text/html": [
       "<div>\n",
       "<style scoped>\n",
       "    .dataframe tbody tr th:only-of-type {\n",
       "        vertical-align: middle;\n",
       "    }\n",
       "\n",
       "    .dataframe tbody tr th {\n",
       "        vertical-align: top;\n",
       "    }\n",
       "\n",
       "    .dataframe thead th {\n",
       "        text-align: right;\n",
       "    }\n",
       "</style>\n",
       "<table border=\"1\" class=\"dataframe\">\n",
       "  <thead>\n",
       "    <tr style=\"text-align: right;\">\n",
       "      <th></th>\n",
       "      <th>fixed acidity</th>\n",
       "      <th>volatile acidity</th>\n",
       "      <th>citric acid</th>\n",
       "      <th>residual sugar</th>\n",
       "      <th>chlorides</th>\n",
       "      <th>free sulfur dioxide</th>\n",
       "      <th>total sulfur dioxide</th>\n",
       "      <th>density</th>\n",
       "      <th>pH</th>\n",
       "      <th>sulphates</th>\n",
       "      <th>alcohol</th>\n",
       "      <th>top_quality</th>\n",
       "    </tr>\n",
       "  </thead>\n",
       "  <tbody>\n",
       "    <tr>\n",
       "      <th>0</th>\n",
       "      <td>7.0</td>\n",
       "      <td>0.27</td>\n",
       "      <td>0.36</td>\n",
       "      <td>20.7</td>\n",
       "      <td>0.045</td>\n",
       "      <td>45.0</td>\n",
       "      <td>170.0</td>\n",
       "      <td>1.0010</td>\n",
       "      <td>3.00</td>\n",
       "      <td>0.45</td>\n",
       "      <td>8.8</td>\n",
       "      <td>0</td>\n",
       "    </tr>\n",
       "    <tr>\n",
       "      <th>1</th>\n",
       "      <td>6.3</td>\n",
       "      <td>0.30</td>\n",
       "      <td>0.34</td>\n",
       "      <td>1.6</td>\n",
       "      <td>0.049</td>\n",
       "      <td>14.0</td>\n",
       "      <td>132.0</td>\n",
       "      <td>0.9940</td>\n",
       "      <td>3.30</td>\n",
       "      <td>0.49</td>\n",
       "      <td>9.5</td>\n",
       "      <td>0</td>\n",
       "    </tr>\n",
       "    <tr>\n",
       "      <th>2</th>\n",
       "      <td>8.1</td>\n",
       "      <td>0.28</td>\n",
       "      <td>0.40</td>\n",
       "      <td>6.9</td>\n",
       "      <td>0.050</td>\n",
       "      <td>30.0</td>\n",
       "      <td>97.0</td>\n",
       "      <td>0.9951</td>\n",
       "      <td>3.26</td>\n",
       "      <td>0.44</td>\n",
       "      <td>10.1</td>\n",
       "      <td>0</td>\n",
       "    </tr>\n",
       "    <tr>\n",
       "      <th>3</th>\n",
       "      <td>7.2</td>\n",
       "      <td>0.23</td>\n",
       "      <td>0.32</td>\n",
       "      <td>8.5</td>\n",
       "      <td>0.058</td>\n",
       "      <td>47.0</td>\n",
       "      <td>186.0</td>\n",
       "      <td>0.9956</td>\n",
       "      <td>3.19</td>\n",
       "      <td>0.40</td>\n",
       "      <td>9.9</td>\n",
       "      <td>0</td>\n",
       "    </tr>\n",
       "    <tr>\n",
       "      <th>4</th>\n",
       "      <td>7.2</td>\n",
       "      <td>0.23</td>\n",
       "      <td>0.32</td>\n",
       "      <td>8.5</td>\n",
       "      <td>0.058</td>\n",
       "      <td>47.0</td>\n",
       "      <td>186.0</td>\n",
       "      <td>0.9956</td>\n",
       "      <td>3.19</td>\n",
       "      <td>0.40</td>\n",
       "      <td>9.9</td>\n",
       "      <td>0</td>\n",
       "    </tr>\n",
       "  </tbody>\n",
       "</table>\n",
       "</div>"
      ],
      "text/plain": [
       "   fixed acidity  volatile acidity  citric acid  residual sugar  chlorides  \\\n",
       "0            7.0              0.27         0.36            20.7      0.045   \n",
       "1            6.3              0.30         0.34             1.6      0.049   \n",
       "2            8.1              0.28         0.40             6.9      0.050   \n",
       "3            7.2              0.23         0.32             8.5      0.058   \n",
       "4            7.2              0.23         0.32             8.5      0.058   \n",
       "\n",
       "   free sulfur dioxide  total sulfur dioxide  density    pH  sulphates  \\\n",
       "0                 45.0                 170.0   1.0010  3.00       0.45   \n",
       "1                 14.0                 132.0   0.9940  3.30       0.49   \n",
       "2                 30.0                  97.0   0.9951  3.26       0.44   \n",
       "3                 47.0                 186.0   0.9956  3.19       0.40   \n",
       "4                 47.0                 186.0   0.9956  3.19       0.40   \n",
       "\n",
       "   alcohol  top_quality  \n",
       "0      8.8            0  \n",
       "1      9.5            0  \n",
       "2     10.1            0  \n",
       "3      9.9            0  \n",
       "4      9.9            0  "
      ]
     },
     "execution_count": 2,
     "metadata": {},
     "output_type": "execute_result"
    }
   ],
   "source": [
    "df = pd.read_csv('data/wine_quality.csv')\n",
    "df.head()"
   ]
  },
  {
   "cell_type": "code",
   "execution_count": 4,
   "metadata": {},
   "outputs": [
    {
     "data": {
      "text/plain": [
       "0    0.783585\n",
       "1    0.216415\n",
       "Name: top_quality, dtype: float64"
      ]
     },
     "execution_count": 4,
     "metadata": {},
     "output_type": "execute_result"
    }
   ],
   "source": [
    "df.top_quality.value_counts(normalize=True)"
   ]
  },
  {
   "cell_type": "code",
   "execution_count": 8,
   "metadata": {},
   "outputs": [
    {
     "data": {
      "text/plain": [
       "(4898, 12)"
      ]
     },
     "execution_count": 8,
     "metadata": {},
     "output_type": "execute_result"
    }
   ],
   "source": [
    "df.shape"
   ]
  },
  {
   "cell_type": "markdown",
   "metadata": {},
   "source": [
    "## Uvidi o potrebnom preprocesiranju\n",
    "\n",
    "Svi atributi su numerički, tako da nema potrebe za enkodovanjem. Na različitim su skalama, pa ih moramo normalizovati. Vrednosti target klase su u odnosu 4:1, pa je potrebno balansirati podatke."
   ]
  },
  {
   "cell_type": "markdown",
   "metadata": {},
   "source": [
    "## Kreiranje modela"
   ]
  },
  {
   "cell_type": "markdown",
   "metadata": {},
   "source": [
    "### Otklanjanje izuzetaka"
   ]
  },
  {
   "cell_type": "code",
   "execution_count": 5,
   "metadata": {},
   "outputs": [],
   "source": [
    "from scipy import stats\n",
    "\n",
    "df_no_out = df.loc[(np.abs(stats.zscore(df)) < 3).all(axis=1), :]"
   ]
  },
  {
   "cell_type": "code",
   "execution_count": 7,
   "metadata": {},
   "outputs": [
    {
     "name": "stdout",
     "output_type": "stream",
     "text": [
      "396 outliers have been removed. Percentage: 0.08084932625561454\n"
     ]
    }
   ],
   "source": [
    "print(f'{str(df.shape[0] - df_no_out.shape[0])} outliers have been removed. Percentage: {str((df.shape[0] - df_no_out.shape[0]) / df.shape[0])}')"
   ]
  },
  {
   "cell_type": "markdown",
   "metadata": {},
   "source": [
    "### Podela na trening i test podatke"
   ]
  },
  {
   "cell_type": "code",
   "execution_count": 11,
   "metadata": {},
   "outputs": [],
   "source": [
    "X = df_no_out.drop('top_quality', axis=1)\n",
    "y = df_no_out['top_quality']"
   ]
  },
  {
   "cell_type": "code",
   "execution_count": 12,
   "metadata": {},
   "outputs": [],
   "source": [
    "from sklearn.model_selection import train_test_split\n",
    "X_train, X_test, y_train, y_test = train_test_split(X, y, test_size=0.3, random_state=42, stratify=y)"
   ]
  },
  {
   "cell_type": "code",
   "execution_count": 16,
   "metadata": {
    "scrolled": true
   },
   "outputs": [
    {
     "name": "stdout",
     "output_type": "stream",
     "text": [
      "Velicina treninga: 3151. Velicina testa: 1351\n"
     ]
    }
   ],
   "source": [
    "print(f'Velicina treninga: {str(X_train.shape[0])}. Velicina testa: {str(X_test.shape[0])}')"
   ]
  },
  {
   "cell_type": "markdown",
   "metadata": {},
   "source": [
    "### Skaliranje podataka\n",
    "\n",
    "Korišćen je MaxMinScaler koji je \"naučen\" na treningu, a onda samo iskorišćen za transformaciju testa."
   ]
  },
  {
   "cell_type": "code",
   "execution_count": 18,
   "metadata": {},
   "outputs": [
    {
     "data": {
      "text/plain": [
       "array([[0.79591837, 0.38      , 0.49275362, ..., 0.45882353, 0.47540984,\n",
       "        0.32758621],\n",
       "       [0.28571429, 0.46      , 0.47826087, ..., 0.45882353, 0.62295082,\n",
       "        0.36206897],\n",
       "       [0.79591837, 0.14      , 0.56521739, ..., 0.34117647, 0.27868852,\n",
       "        0.36206897],\n",
       "       ...,\n",
       "       [0.51020408, 0.34      , 0.42028986, ..., 0.25882353, 0.2295082 ,\n",
       "        0.56896552],\n",
       "       [0.42857143, 0.6       , 0.49275362, ..., 0.41176471, 0.8852459 ,\n",
       "        0.27586207],\n",
       "       [0.32653061, 0.2       , 0.44927536, ..., 0.64705882, 0.59016393,\n",
       "        0.46551724]])"
      ]
     },
     "execution_count": 18,
     "metadata": {},
     "output_type": "execute_result"
    }
   ],
   "source": [
    "from sklearn.preprocessing import MinMaxScaler\n",
    "\n",
    "sc = MinMaxScaler()\n",
    "X_train = sc.fit_transform(X_train)\n",
    "X_test = sc.transform(X_test)\n",
    "X_train"
   ]
  },
  {
   "cell_type": "markdown",
   "metadata": {},
   "source": [
    "### Balansiranje podataka"
   ]
  },
  {
   "cell_type": "code",
   "execution_count": 20,
   "metadata": {},
   "outputs": [],
   "source": [
    "from imblearn.under_sampling import RandomUnderSampler\n",
    "\n",
    "under_sampler = RandomUnderSampler(random_state=0)\n",
    "X_train, y_train = under_sampler.fit_resample(X_train, y_train)\n",
    "\n",
    "\n",
    "# from imblearn.over_sampling import SMOTE\n",
    "\n",
    "# smote_over_sampler = SMOTE(random_state=0)\n",
    "# X_train, y_train = smote_over_sampler.fit_sample(X_train, y_train.ravel())"
   ]
  },
  {
   "cell_type": "markdown",
   "metadata": {},
   "source": [
    "### Inicijalni modeli\n",
    "\n",
    "1. Kreirati minimalno 3 modela za klasifikaciju (sa default parametrima)"
   ]
  },
  {
   "cell_type": "code",
   "execution_count": 22,
   "metadata": {},
   "outputs": [
    {
     "data": {
      "text/plain": [
       "LogisticRegression(C=1.0, class_weight=None, dual=False, fit_intercept=True,\n",
       "                   intercept_scaling=1, l1_ratio=None, max_iter=100,\n",
       "                   multi_class='warn', n_jobs=None, penalty='l2',\n",
       "                   random_state=None, solver='warn', tol=0.0001, verbose=0,\n",
       "                   warm_start=False)"
      ]
     },
     "execution_count": 22,
     "metadata": {},
     "output_type": "execute_result"
    }
   ],
   "source": [
    "from sklearn.linear_model import LogisticRegression\n",
    "\n",
    "model_lr = LogisticRegression()\n",
    "model_lr.fit(X_train, y_train)"
   ]
  },
  {
   "cell_type": "code",
   "execution_count": 23,
   "metadata": {},
   "outputs": [
    {
     "data": {
      "text/plain": [
       "GaussianNB(priors=None, var_smoothing=1e-09)"
      ]
     },
     "execution_count": 23,
     "metadata": {},
     "output_type": "execute_result"
    }
   ],
   "source": [
    "from sklearn.naive_bayes import GaussianNB\n",
    "\n",
    "model_nb = GaussianNB()\n",
    "model_nb.fit(X_train, y_train)"
   ]
  },
  {
   "cell_type": "code",
   "execution_count": 24,
   "metadata": {},
   "outputs": [
    {
     "data": {
      "text/plain": [
       "DecisionTreeClassifier(class_weight=None, criterion='gini', max_depth=None,\n",
       "                       max_features=None, max_leaf_nodes=None,\n",
       "                       min_impurity_decrease=0.0, min_impurity_split=None,\n",
       "                       min_samples_leaf=1, min_samples_split=2,\n",
       "                       min_weight_fraction_leaf=0.0, presort=False,\n",
       "                       random_state=None, splitter='best')"
      ]
     },
     "execution_count": 24,
     "metadata": {},
     "output_type": "execute_result"
    }
   ],
   "source": [
    "from sklearn.tree import DecisionTreeClassifier\n",
    "\n",
    "model_tree = DecisionTreeClassifier()\n",
    "model_tree.fit(X_train, y_train)"
   ]
  },
  {
   "cell_type": "code",
   "execution_count": 25,
   "metadata": {
    "scrolled": true
   },
   "outputs": [
    {
     "data": {
      "text/plain": [
       "KNeighborsClassifier(algorithm='auto', leaf_size=30, metric='minkowski',\n",
       "                     metric_params=None, n_jobs=None, n_neighbors=5, p=2,\n",
       "                     weights='uniform')"
      ]
     },
     "execution_count": 25,
     "metadata": {},
     "output_type": "execute_result"
    }
   ],
   "source": [
    "from sklearn.neighbors import KNeighborsClassifier\n",
    "\n",
    "model_knn = KNeighborsClassifier()\n",
    "model_knn.fit(X_train, y_train)"
   ]
  },
  {
   "cell_type": "code",
   "execution_count": 31,
   "metadata": {},
   "outputs": [
    {
     "data": {
      "text/plain": [
       "RandomForestClassifier(bootstrap=True, class_weight=None, criterion='gini',\n",
       "                       max_depth=None, max_features='auto', max_leaf_nodes=None,\n",
       "                       min_impurity_decrease=0.0, min_impurity_split=None,\n",
       "                       min_samples_leaf=1, min_samples_split=2,\n",
       "                       min_weight_fraction_leaf=0.0, n_estimators=10,\n",
       "                       n_jobs=None, oob_score=False, random_state=None,\n",
       "                       verbose=0, warm_start=False)"
      ]
     },
     "execution_count": 31,
     "metadata": {},
     "output_type": "execute_result"
    }
   ],
   "source": [
    "from sklearn.ensemble import RandomForestClassifier\n",
    "\n",
    "model_rff = RandomForestClassifier()\n",
    "model_rff.fit(X_train, y_train)"
   ]
  },
  {
   "cell_type": "markdown",
   "metadata": {},
   "source": [
    "#### Evaluacija "
   ]
  },
  {
   "cell_type": "markdown",
   "metadata": {},
   "source": [
    "    - proceniti grešku generalizacije za sve modele, na osnovu nekoliko metrika;"
   ]
  },
  {
   "cell_type": "code",
   "execution_count": 32,
   "metadata": {},
   "outputs": [],
   "source": [
    "from sklearn.metrics import confusion_matrix, accuracy_score, precision_score, recall_score, roc_auc_score\n",
    "from prettytable import PrettyTable"
   ]
  },
  {
   "cell_type": "code",
   "execution_count": 33,
   "metadata": {},
   "outputs": [],
   "source": [
    "def evaluate(models, scores, X_fun=X_train, y_fun=y_train):\n",
    "    for model in models:\n",
    "        print(str(model).split('(')[0])\n",
    "        y_pred = model.predict(X_fun)\n",
    "        t = PrettyTable(['Mera evaluacije', 'Rezultat'])\n",
    "        for score in scores:\n",
    "            s = score(y_fun, y_pred)\n",
    "            t.add_row([str(score).split()[1], s])\n",
    "        print(t)\n",
    "        print('\\n')"
   ]
  },
  {
   "cell_type": "code",
   "execution_count": 34,
   "metadata": {},
   "outputs": [
    {
     "name": "stdout",
     "output_type": "stream",
     "text": [
      "LogisticRegression\n",
      "+-----------------+--------------------+\n",
      "| Mera evaluacije |      Rezultat      |\n",
      "+-----------------+--------------------+\n",
      "|  accuracy_score | 0.7391608391608392 |\n",
      "| precision_score | 0.7261904761904762 |\n",
      "|   recall_score  | 0.7678321678321678 |\n",
      "|  roc_auc_score  | 0.7391608391608392 |\n",
      "+-----------------+--------------------+\n",
      "\n",
      "\n",
      "GaussianNB\n",
      "+-----------------+--------------------+\n",
      "| Mera evaluacije |      Rezultat      |\n",
      "+-----------------+--------------------+\n",
      "|  accuracy_score | 0.7097902097902098 |\n",
      "| precision_score | 0.6847290640394089 |\n",
      "|   recall_score  | 0.7776223776223776 |\n",
      "|  roc_auc_score  | 0.7097902097902098 |\n",
      "+-----------------+--------------------+\n",
      "\n",
      "\n",
      "DecisionTreeClassifier\n",
      "+-----------------+----------+\n",
      "| Mera evaluacije | Rezultat |\n",
      "+-----------------+----------+\n",
      "|  accuracy_score |   1.0    |\n",
      "| precision_score |   1.0    |\n",
      "|   recall_score  |   1.0    |\n",
      "|  roc_auc_score  |   1.0    |\n",
      "+-----------------+----------+\n",
      "\n",
      "\n",
      "KNeighborsClassifier\n",
      "+-----------------+--------------------+\n",
      "| Mera evaluacije |      Rezultat      |\n",
      "+-----------------+--------------------+\n",
      "|  accuracy_score | 0.8237762237762237 |\n",
      "| precision_score | 0.7941550190597204 |\n",
      "|   recall_score  | 0.8741258741258742 |\n",
      "|  roc_auc_score  | 0.8237762237762238 |\n",
      "+-----------------+--------------------+\n",
      "\n",
      "\n",
      "RandomForestClassifier\n",
      "+-----------------+--------------------+\n",
      "| Mera evaluacije |      Rezultat      |\n",
      "+-----------------+--------------------+\n",
      "|  accuracy_score | 0.9874125874125874 |\n",
      "| precision_score | 0.9929278642149929 |\n",
      "|   recall_score  | 0.9818181818181818 |\n",
      "|  roc_auc_score  | 0.9874125874125875 |\n",
      "+-----------------+--------------------+\n",
      "\n",
      "\n"
     ]
    }
   ],
   "source": [
    "models = [model_lr, model_nb, model_tree, model_knn, model_rff]\n",
    "scores = [accuracy_score, precision_score, recall_score, roc_auc_score]\n",
    "\n",
    "evaluate(models, scores, X_train, y_train)"
   ]
  },
  {
   "cell_type": "code",
   "execution_count": 35,
   "metadata": {},
   "outputs": [
    {
     "name": "stdout",
     "output_type": "stream",
     "text": [
      "LogisticRegression\n",
      "+-----------------+---------------------+\n",
      "| Mera evaluacije |       Rezultat      |\n",
      "+-----------------+---------------------+\n",
      "|  accuracy_score |  0.7172464840858623 |\n",
      "| precision_score | 0.42803030303030304 |\n",
      "|   recall_score  |  0.738562091503268  |\n",
      "|  roc_auc_score  |  0.7247834380961315 |\n",
      "+-----------------+---------------------+\n",
      "\n",
      "\n",
      "GaussianNB\n",
      "+-----------------+---------------------+\n",
      "| Mera evaluacije |       Rezultat      |\n",
      "+-----------------+---------------------+\n",
      "|  accuracy_score |  0.6839378238341969 |\n",
      "| precision_score | 0.39658119658119656 |\n",
      "|   recall_score  |  0.7581699346405228 |\n",
      "|  roc_auc_score  |  0.710185445789161  |\n",
      "+-----------------+---------------------+\n",
      "\n",
      "\n",
      "DecisionTreeClassifier\n",
      "+-----------------+--------------------+\n",
      "| Mera evaluacije |      Rezultat      |\n",
      "+-----------------+--------------------+\n",
      "|  accuracy_score | 0.7394522575869726 |\n",
      "| precision_score | 0.4555984555984556 |\n",
      "|   recall_score  | 0.7712418300653595 |\n",
      "|  roc_auc_score  | 0.7506926853676079 |\n",
      "+-----------------+--------------------+\n",
      "\n",
      "\n",
      "KNeighborsClassifier\n",
      "+-----------------+---------------------+\n",
      "| Mera evaluacije |       Rezultat      |\n",
      "+-----------------+---------------------+\n",
      "|  accuracy_score |  0.7091043671354552 |\n",
      "| precision_score | 0.42512908777969016 |\n",
      "|   recall_score  |  0.8071895424836601 |\n",
      "|  roc_auc_score  |  0.7437861588016386 |\n",
      "+-----------------+---------------------+\n",
      "\n",
      "\n",
      "RandomForestClassifier\n",
      "+-----------------+--------------------+\n",
      "| Mera evaluacije |      Rezultat      |\n",
      "+-----------------+--------------------+\n",
      "|  accuracy_score | 0.7816432272390822 |\n",
      "| precision_score | 0.5116279069767442 |\n",
      "|   recall_score  | 0.7908496732026143 |\n",
      "|  roc_auc_score  | 0.7848985208118334 |\n",
      "+-----------------+--------------------+\n",
      "\n",
      "\n"
     ]
    }
   ],
   "source": [
    "evaluate(models, scores, X_test, y_test)"
   ]
  },
  {
   "cell_type": "markdown",
   "metadata": {},
   "source": [
    "### Evaluacija unakrsnom kros-validacijom"
   ]
  },
  {
   "cell_type": "markdown",
   "metadata": {},
   "source": [
    "    - prikazati i standardnu devijaciju procene greške (od 10 kros-validacionih uzoraka)"
   ]
  },
  {
   "cell_type": "code",
   "execution_count": 40,
   "metadata": {},
   "outputs": [
    {
     "name": "stdout",
     "output_type": "stream",
     "text": [
      "[Logisticka regresija] Tacnost: 0.78 +/- 0.03\n",
      "[Naive bayes] Tacnost: 0.75 +/- 0.05\n",
      "[Stablo odlucivanja] Tacnost: 0.74 +/- 0.04\n",
      "[K-NN] Tacnost: 0.74 +/- 0.03\n",
      "[Random Forest] Tacnost: 0.79 +/- 0.02\n"
     ]
    }
   ],
   "source": [
    "from sklearn.model_selection import cross_val_score\n",
    "\n",
    "for model, label in zip([model_lr, model_nb, model_tree, model_knn, model_rff], ['Logisticka regresija', 'Naive bayes','Stablo odlucivanja', 'K-NN', 'Random Forest']):\n",
    "    scores = cross_val_score(model, X, y, cv=10, scoring='accuracy')\n",
    "    print('[%s] Tacnost: %0.2f +/- %0.2f' % (label, scores.mean(), scores.std()))"
   ]
  },
  {
   "cell_type": "markdown",
   "metadata": {},
   "source": [
    "    - odgovoriti da li su modeli pretrenirani;\n",
    "\n",
    "Možemo reći da su NB i DT model pretrenirani."
   ]
  },
  {
   "cell_type": "markdown",
   "metadata": {},
   "source": [
    "    - prodiskutovati koja metrika je najadekvatnija za ovaj problem, i koji tip grešaka je skuplji;\n",
    "    \n",
    "Recall, objasniti ukratko."
   ]
  },
  {
   "cell_type": "markdown",
   "metadata": {},
   "source": [
    "    - modifikovati granicu odlučivanja, tako da model pravi više jeftinijih grešaka;\n",
    "    "
   ]
  },
  {
   "cell_type": "code",
   "execution_count": null,
   "metadata": {},
   "outputs": [],
   "source": []
  },
  {
   "cell_type": "markdown",
   "metadata": {},
   "source": [
    "    - odgovoriti koji atributi su najbitniji za naučene modele (gde je moguće videti)"
   ]
  },
  {
   "cell_type": "code",
   "execution_count": null,
   "metadata": {},
   "outputs": [],
   "source": []
  },
  {
   "cell_type": "markdown",
   "metadata": {},
   "source": [
    "### Optimizacija metaparametara"
   ]
  },
  {
   "cell_type": "markdown",
   "metadata": {},
   "source": [
    "2. Optimizovati minimalno 2 parametra kod najboljeg modela (iz koraka 1)\n",
    "    - ispitati najmanje 100 različitih vrednosti parametara\n",
    "    - uporediti kvalitet optimizovanog i neoptimizovanog modela"
   ]
  },
  {
   "cell_type": "code",
   "execution_count": 41,
   "metadata": {},
   "outputs": [
    {
     "name": "stderr",
     "output_type": "stream",
     "text": [
      "/Users/dimitrijemilenkovic/anaconda3/lib/python3.7/site-packages/sklearn/model_selection/_search.py:813: DeprecationWarning: The default of the `iid` parameter will change from True to False in version 0.22 and will be removed in 0.24. This will change numeric results when test-set sizes are unequal.\n",
      "  DeprecationWarning)\n"
     ]
    },
    {
     "data": {
      "text/plain": [
       "DecisionTreeClassifier(class_weight=None, criterion='entropy', max_depth=8,\n",
       "                       max_features=None, max_leaf_nodes=None,\n",
       "                       min_impurity_decrease=0.0, min_impurity_split=None,\n",
       "                       min_samples_leaf=1, min_samples_split=2,\n",
       "                       min_weight_fraction_leaf=0.0, presort=False,\n",
       "                       random_state=None, splitter='best')"
      ]
     },
     "execution_count": 41,
     "metadata": {},
     "output_type": "execute_result"
    }
   ],
   "source": [
    "from sklearn.model_selection import GridSearchCV, cross_val_score\n",
    "\n",
    "params = {\n",
    "    'criterion': ['entropy', 'gini'],\n",
    "    'min_samples_leaf': range(1,30,3),\n",
    "    'max_depth': range(2,16,2)\n",
    "}\n",
    "\n",
    "grid_searh = GridSearchCV(DecisionTreeClassifier(), params, cv=10, scoring='recall')\n",
    "grid_searh.fit(X_train, y_train)\n",
    "\n",
    "grid_searh.best_estimator_"
   ]
  },
  {
   "cell_type": "code",
   "execution_count": 42,
   "metadata": {},
   "outputs": [],
   "source": [
    "model_tree_param = grid_searh.best_estimator_"
   ]
  },
  {
   "cell_type": "code",
   "execution_count": 43,
   "metadata": {},
   "outputs": [
    {
     "name": "stdout",
     "output_type": "stream",
     "text": [
      "DecisionTreeClassifier\n",
      "+-----------------+--------------------+\n",
      "| Mera evaluacije |      Rezultat      |\n",
      "+-----------------+--------------------+\n",
      "|  accuracy_score | 0.6802368615840119 |\n",
      "|  roc_auc_score  | 0.7309034618632142 |\n",
      "|   recall_score  | 0.8235294117647058 |\n",
      "| precision_score |        0.4         |\n",
      "+-----------------+--------------------+\n",
      "\n",
      "\n",
      "DecisionTreeClassifier\n",
      "+-----------------+--------------------+\n",
      "| Mera evaluacije |      Rezultat      |\n",
      "+-----------------+--------------------+\n",
      "|  accuracy_score | 0.7394522575869726 |\n",
      "|  roc_auc_score  | 0.7506926853676079 |\n",
      "|   recall_score  | 0.7712418300653595 |\n",
      "| precision_score | 0.4555984555984556 |\n",
      "+-----------------+--------------------+\n",
      "\n",
      "\n"
     ]
    }
   ],
   "source": [
    "evaluate([model_tree_param, model_tree], [accuracy_score, roc_auc_score, recall_score, precision_score], X_test, y_test)"
   ]
  },
  {
   "cell_type": "markdown",
   "metadata": {},
   "source": [
    "### Kreiranje ansambl modela"
   ]
  },
  {
   "cell_type": "markdown",
   "metadata": {},
   "source": [
    "3. Napraviti 2 razlicita ansambl modela, bazirana na modelima iz koraka 2\n",
    "    - optimizovati parametre ansambl modela\n",
    "    - uporediti kvalitet ansambl i osnovnih modela"
   ]
  },
  {
   "cell_type": "code",
   "execution_count": null,
   "metadata": {},
   "outputs": [],
   "source": []
  }
 ],
 "metadata": {
  "kernelspec": {
   "display_name": "Python 3",
   "language": "python",
   "name": "python3"
  },
  "language_info": {
   "codemirror_mode": {
    "name": "ipython",
    "version": 3
   },
   "file_extension": ".py",
   "mimetype": "text/x-python",
   "name": "python",
   "nbconvert_exporter": "python",
   "pygments_lexer": "ipython3",
   "version": "3.7.3"
  },
  "toc": {
   "base_numbering": 1,
   "nav_menu": {},
   "number_sections": true,
   "sideBar": true,
   "skip_h1_title": false,
   "title_cell": "Table of Contents",
   "title_sidebar": "Contents",
   "toc_cell": false,
   "toc_position": {
    "height": "calc(100% - 180px)",
    "left": "10px",
    "top": "150px",
    "width": "475px"
   },
   "toc_section_display": true,
   "toc_window_display": true
  },
  "varInspector": {
   "cols": {
    "lenName": 16,
    "lenType": 16,
    "lenVar": 40
   },
   "kernels_config": {
    "python": {
     "delete_cmd_postfix": "",
     "delete_cmd_prefix": "del ",
     "library": "var_list.py",
     "varRefreshCmd": "print(var_dic_list())"
    },
    "r": {
     "delete_cmd_postfix": ") ",
     "delete_cmd_prefix": "rm(",
     "library": "var_list.r",
     "varRefreshCmd": "cat(var_dic_list()) "
    }
   },
   "position": {
    "height": "283px",
    "left": "1486px",
    "right": "20px",
    "top": "80px",
    "width": "413px"
   },
   "types_to_exclude": [
    "module",
    "function",
    "builtin_function_or_method",
    "instance",
    "_Feature"
   ],
   "window_display": true
  }
 },
 "nbformat": 4,
 "nbformat_minor": 2
}
