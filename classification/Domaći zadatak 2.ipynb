{
 "cells": [
  {
   "cell_type": "markdown",
   "metadata": {},
   "source": [
    "<img src='img/fon.png' width=200>\n",
    "<center>\n",
    "    <br/>\n",
    "    Otkrivanje zakonitosti u podacima 2019-2020\n",
    "    <br/>\n",
    "    Fakultet Organizacionih Nauka, 2020\n",
    "    <br/>\n",
    "    <h1>D2. Domaći zadatak 2</h1>\n",
    "</center>"
   ]
  },
  {
   "cell_type": "markdown",
   "metadata": {},
   "source": [
    "# Zahtevi domaćeg zadatka\n",
    "\n",
    "\n",
    "0. Učitati podatke o vinima (wine_quality.csv), sa ciljem prepoznavanja \"top_quality\" klase.\n",
    "\n",
    "1. Kreirati minimalno 3 modela za klasifikaciju (sa default parametrima)\n",
    "    - proceniti grešku generalizacije za sve modele, na osnovu nekoliko metrika;\n",
    "    - prikazati i standardnu devijaciju procene greške (od 10 kros-validacionih uzoraka)\n",
    "    - odgovoriti da li su modeli pretrenirani;\n",
    "    - prodiskutovati koja metrika je najadekvatnija za ovaj problem, i koji tip grešaka je skuplji;\n",
    "    - modifikovati granicu odlučivanja, tako da model pravi više jeftinijih grešaka;\n",
    "    - odgovoriti koji atributi su najbitniji za naučene modele (gde je moguće videti)\n",
    "\n",
    "2. Optimizovati minimalno 2 parametra kod najboljeg modela (iz koraka 1)\n",
    "    - ispitati najmanje 100 različitih vrednosti parametara\n",
    "    - uporediti kvalitet optimizovanog i neoptimizovanog modela\n",
    "\n",
    "3. Napraviti 2 razlicita ansambl modela, bazirana na modelima iz koraka 2\n",
    "    - optimizovati parametre ansambl modela\n",
    "    - uporediti kvalitet ansambl i osnovnih modela"
   ]
  },
  {
   "cell_type": "code",
   "execution_count": 1,
   "metadata": {},
   "outputs": [],
   "source": [
    "%matplotlib inline\n",
    "\n",
    "import matplotlib\n",
    "import matplotlib.pyplot as plt\n",
    "import numpy as np\n",
    "import pandas as pd\n",
    "\n",
    "import warnings\n",
    "warnings.filterwarnings('ignore')"
   ]
  },
  {
   "cell_type": "markdown",
   "metadata": {},
   "source": [
    "## Učitavanje podataka"
   ]
  },
  {
   "cell_type": "markdown",
   "metadata": {},
   "source": [
    "0. Učitati podatke o vinima (wine_quality.csv), sa ciljem prepoznavanja \"top_quality\" klase."
   ]
  },
  {
   "cell_type": "code",
   "execution_count": 2,
   "metadata": {
    "scrolled": true
   },
   "outputs": [
    {
     "data": {
      "text/html": [
       "<div>\n",
       "<style scoped>\n",
       "    .dataframe tbody tr th:only-of-type {\n",
       "        vertical-align: middle;\n",
       "    }\n",
       "\n",
       "    .dataframe tbody tr th {\n",
       "        vertical-align: top;\n",
       "    }\n",
       "\n",
       "    .dataframe thead th {\n",
       "        text-align: right;\n",
       "    }\n",
       "</style>\n",
       "<table border=\"1\" class=\"dataframe\">\n",
       "  <thead>\n",
       "    <tr style=\"text-align: right;\">\n",
       "      <th></th>\n",
       "      <th>fixed acidity</th>\n",
       "      <th>volatile acidity</th>\n",
       "      <th>citric acid</th>\n",
       "      <th>residual sugar</th>\n",
       "      <th>chlorides</th>\n",
       "      <th>free sulfur dioxide</th>\n",
       "      <th>total sulfur dioxide</th>\n",
       "      <th>density</th>\n",
       "      <th>pH</th>\n",
       "      <th>sulphates</th>\n",
       "      <th>alcohol</th>\n",
       "      <th>top_quality</th>\n",
       "    </tr>\n",
       "  </thead>\n",
       "  <tbody>\n",
       "    <tr>\n",
       "      <th>0</th>\n",
       "      <td>7.0</td>\n",
       "      <td>0.27</td>\n",
       "      <td>0.36</td>\n",
       "      <td>20.7</td>\n",
       "      <td>0.045</td>\n",
       "      <td>45.0</td>\n",
       "      <td>170.0</td>\n",
       "      <td>1.0010</td>\n",
       "      <td>3.00</td>\n",
       "      <td>0.45</td>\n",
       "      <td>8.8</td>\n",
       "      <td>0</td>\n",
       "    </tr>\n",
       "    <tr>\n",
       "      <th>1</th>\n",
       "      <td>6.3</td>\n",
       "      <td>0.30</td>\n",
       "      <td>0.34</td>\n",
       "      <td>1.6</td>\n",
       "      <td>0.049</td>\n",
       "      <td>14.0</td>\n",
       "      <td>132.0</td>\n",
       "      <td>0.9940</td>\n",
       "      <td>3.30</td>\n",
       "      <td>0.49</td>\n",
       "      <td>9.5</td>\n",
       "      <td>0</td>\n",
       "    </tr>\n",
       "    <tr>\n",
       "      <th>2</th>\n",
       "      <td>8.1</td>\n",
       "      <td>0.28</td>\n",
       "      <td>0.40</td>\n",
       "      <td>6.9</td>\n",
       "      <td>0.050</td>\n",
       "      <td>30.0</td>\n",
       "      <td>97.0</td>\n",
       "      <td>0.9951</td>\n",
       "      <td>3.26</td>\n",
       "      <td>0.44</td>\n",
       "      <td>10.1</td>\n",
       "      <td>0</td>\n",
       "    </tr>\n",
       "    <tr>\n",
       "      <th>3</th>\n",
       "      <td>7.2</td>\n",
       "      <td>0.23</td>\n",
       "      <td>0.32</td>\n",
       "      <td>8.5</td>\n",
       "      <td>0.058</td>\n",
       "      <td>47.0</td>\n",
       "      <td>186.0</td>\n",
       "      <td>0.9956</td>\n",
       "      <td>3.19</td>\n",
       "      <td>0.40</td>\n",
       "      <td>9.9</td>\n",
       "      <td>0</td>\n",
       "    </tr>\n",
       "    <tr>\n",
       "      <th>4</th>\n",
       "      <td>7.2</td>\n",
       "      <td>0.23</td>\n",
       "      <td>0.32</td>\n",
       "      <td>8.5</td>\n",
       "      <td>0.058</td>\n",
       "      <td>47.0</td>\n",
       "      <td>186.0</td>\n",
       "      <td>0.9956</td>\n",
       "      <td>3.19</td>\n",
       "      <td>0.40</td>\n",
       "      <td>9.9</td>\n",
       "      <td>0</td>\n",
       "    </tr>\n",
       "  </tbody>\n",
       "</table>\n",
       "</div>"
      ],
      "text/plain": [
       "   fixed acidity  volatile acidity  citric acid  residual sugar  chlorides  \\\n",
       "0            7.0              0.27         0.36            20.7      0.045   \n",
       "1            6.3              0.30         0.34             1.6      0.049   \n",
       "2            8.1              0.28         0.40             6.9      0.050   \n",
       "3            7.2              0.23         0.32             8.5      0.058   \n",
       "4            7.2              0.23         0.32             8.5      0.058   \n",
       "\n",
       "   free sulfur dioxide  total sulfur dioxide  density    pH  sulphates  \\\n",
       "0                 45.0                 170.0   1.0010  3.00       0.45   \n",
       "1                 14.0                 132.0   0.9940  3.30       0.49   \n",
       "2                 30.0                  97.0   0.9951  3.26       0.44   \n",
       "3                 47.0                 186.0   0.9956  3.19       0.40   \n",
       "4                 47.0                 186.0   0.9956  3.19       0.40   \n",
       "\n",
       "   alcohol  top_quality  \n",
       "0      8.8            0  \n",
       "1      9.5            0  \n",
       "2     10.1            0  \n",
       "3      9.9            0  \n",
       "4      9.9            0  "
      ]
     },
     "execution_count": 2,
     "metadata": {},
     "output_type": "execute_result"
    }
   ],
   "source": [
    "df = pd.read_csv('data/wine_quality.csv')\n",
    "df.head()"
   ]
  },
  {
   "cell_type": "code",
   "execution_count": 3,
   "metadata": {},
   "outputs": [
    {
     "data": {
      "text/plain": [
       "(4898, 12)"
      ]
     },
     "execution_count": 3,
     "metadata": {},
     "output_type": "execute_result"
    }
   ],
   "source": [
    "df.shape"
   ]
  },
  {
   "cell_type": "markdown",
   "metadata": {},
   "source": [
    "## Uvidi o potrebnom preprocesiranju\n",
    "\n",
    "Svi atributi su numerički, tako da nema potrebe za enkodovanjem. Na različitim su skalama, pa ih moramo normalizovati. Vrednosti target klase su u odnosu 4:1, pa bi bilo dobro balansirati podatke, što će biti prikazano nakon ispunjenja obaveznih zahteva."
   ]
  },
  {
   "cell_type": "markdown",
   "metadata": {},
   "source": [
    "## Kreiranje modela"
   ]
  },
  {
   "cell_type": "markdown",
   "metadata": {},
   "source": [
    "### Otklanjanje izuzetaka"
   ]
  },
  {
   "cell_type": "code",
   "execution_count": 4,
   "metadata": {},
   "outputs": [],
   "source": [
    "from scipy import stats\n",
    "\n",
    "df_no_out = df.loc[(np.abs(stats.zscore(df)) < 3).all(axis=1), :]"
   ]
  },
  {
   "cell_type": "code",
   "execution_count": 5,
   "metadata": {},
   "outputs": [
    {
     "name": "stdout",
     "output_type": "stream",
     "text": [
      "396 izuzetaka je izbačeno. Procenat dataseta: 0.08084932625561454\n"
     ]
    }
   ],
   "source": [
    "print(f'{str(df.shape[0] - df_no_out.shape[0])} izuzetaka je izbačeno. Procenat dataseta: {str((df.shape[0] - df_no_out.shape[0]) / df.shape[0])}')"
   ]
  },
  {
   "cell_type": "markdown",
   "metadata": {},
   "source": [
    "### Podela na trening i test podatke"
   ]
  },
  {
   "cell_type": "code",
   "execution_count": 6,
   "metadata": {},
   "outputs": [],
   "source": [
    "X = df_no_out.drop('top_quality', axis=1)\n",
    "y = df_no_out['top_quality']"
   ]
  },
  {
   "cell_type": "code",
   "execution_count": 7,
   "metadata": {},
   "outputs": [],
   "source": [
    "from sklearn.model_selection import train_test_split\n",
    "X_train, X_test, y_train, y_test = train_test_split(X, y, test_size=0.3, random_state=42, stratify=y)"
   ]
  },
  {
   "cell_type": "code",
   "execution_count": 8,
   "metadata": {
    "scrolled": true
   },
   "outputs": [
    {
     "name": "stdout",
     "output_type": "stream",
     "text": [
      "Velicina treninga: 3151. Velicina testa: 1351\n"
     ]
    }
   ],
   "source": [
    "print(f'Velicina treninga: {str(X_train.shape[0])}. Velicina testa: {str(X_test.shape[0])}')"
   ]
  },
  {
   "cell_type": "markdown",
   "metadata": {},
   "source": [
    "### Skaliranje podataka\n",
    "\n",
    "Korišćen je MaxMinScaler koji je \"naučen\" na treningu, a onda samo iskorišćen za transformaciju testa."
   ]
  },
  {
   "cell_type": "code",
   "execution_count": 9,
   "metadata": {},
   "outputs": [
    {
     "data": {
      "text/plain": [
       "array([[0.79591837, 0.38      , 0.49275362, ..., 0.45882353, 0.47540984,\n",
       "        0.32758621],\n",
       "       [0.28571429, 0.46      , 0.47826087, ..., 0.45882353, 0.62295082,\n",
       "        0.36206897],\n",
       "       [0.79591837, 0.14      , 0.56521739, ..., 0.34117647, 0.27868852,\n",
       "        0.36206897],\n",
       "       ...,\n",
       "       [0.51020408, 0.34      , 0.42028986, ..., 0.25882353, 0.2295082 ,\n",
       "        0.56896552],\n",
       "       [0.42857143, 0.6       , 0.49275362, ..., 0.41176471, 0.8852459 ,\n",
       "        0.27586207],\n",
       "       [0.32653061, 0.2       , 0.44927536, ..., 0.64705882, 0.59016393,\n",
       "        0.46551724]])"
      ]
     },
     "execution_count": 9,
     "metadata": {},
     "output_type": "execute_result"
    }
   ],
   "source": [
    "from sklearn.preprocessing import MinMaxScaler\n",
    "\n",
    "sc = MinMaxScaler()\n",
    "X_train = sc.fit_transform(X_train)\n",
    "X_test = sc.transform(X_test)\n",
    "X_train"
   ]
  },
  {
   "cell_type": "markdown",
   "metadata": {},
   "source": [
    "### Inicijalni modeli\n",
    "\n",
    "1. Kreirati minimalno 3 modela za klasifikaciju (sa default parametrima)"
   ]
  },
  {
   "cell_type": "code",
   "execution_count": 10,
   "metadata": {},
   "outputs": [
    {
     "data": {
      "text/plain": [
       "LogisticRegression(C=1.0, class_weight=None, dual=False, fit_intercept=True,\n",
       "                   intercept_scaling=1, l1_ratio=None, max_iter=100,\n",
       "                   multi_class='warn', n_jobs=None, penalty='l2',\n",
       "                   random_state=None, solver='warn', tol=0.0001, verbose=0,\n",
       "                   warm_start=False)"
      ]
     },
     "execution_count": 10,
     "metadata": {},
     "output_type": "execute_result"
    }
   ],
   "source": [
    "from sklearn.linear_model import LogisticRegression\n",
    "\n",
    "model_lr = LogisticRegression()\n",
    "model_lr.fit(X_train, y_train)"
   ]
  },
  {
   "cell_type": "code",
   "execution_count": 11,
   "metadata": {},
   "outputs": [
    {
     "data": {
      "text/plain": [
       "DecisionTreeClassifier(class_weight=None, criterion='gini', max_depth=None,\n",
       "                       max_features=None, max_leaf_nodes=None,\n",
       "                       min_impurity_decrease=0.0, min_impurity_split=None,\n",
       "                       min_samples_leaf=1, min_samples_split=2,\n",
       "                       min_weight_fraction_leaf=0.0, presort=False,\n",
       "                       random_state=None, splitter='best')"
      ]
     },
     "execution_count": 11,
     "metadata": {},
     "output_type": "execute_result"
    }
   ],
   "source": [
    "from sklearn.tree import DecisionTreeClassifier\n",
    "\n",
    "model_tree = DecisionTreeClassifier()\n",
    "model_tree.fit(X_train, y_train)"
   ]
  },
  {
   "cell_type": "code",
   "execution_count": 12,
   "metadata": {
    "scrolled": true
   },
   "outputs": [
    {
     "data": {
      "text/plain": [
       "KNeighborsClassifier(algorithm='auto', leaf_size=30, metric='minkowski',\n",
       "                     metric_params=None, n_jobs=None, n_neighbors=5, p=2,\n",
       "                     weights='uniform')"
      ]
     },
     "execution_count": 12,
     "metadata": {},
     "output_type": "execute_result"
    }
   ],
   "source": [
    "from sklearn.neighbors import KNeighborsClassifier\n",
    "\n",
    "model_knn = KNeighborsClassifier()\n",
    "model_knn.fit(X_train, y_train)"
   ]
  },
  {
   "cell_type": "code",
   "execution_count": 13,
   "metadata": {},
   "outputs": [
    {
     "data": {
      "text/plain": [
       "RandomForestClassifier(bootstrap=True, class_weight=None, criterion='gini',\n",
       "                       max_depth=None, max_features='auto', max_leaf_nodes=None,\n",
       "                       min_impurity_decrease=0.0, min_impurity_split=None,\n",
       "                       min_samples_leaf=1, min_samples_split=2,\n",
       "                       min_weight_fraction_leaf=0.0, n_estimators=10,\n",
       "                       n_jobs=None, oob_score=False, random_state=None,\n",
       "                       verbose=0, warm_start=False)"
      ]
     },
     "execution_count": 13,
     "metadata": {},
     "output_type": "execute_result"
    }
   ],
   "source": [
    "from sklearn.ensemble import RandomForestClassifier\n",
    "\n",
    "model_rff = RandomForestClassifier()\n",
    "model_rff.fit(X_train, y_train)"
   ]
  },
  {
   "cell_type": "markdown",
   "metadata": {},
   "source": [
    "#### Evaluacija "
   ]
  },
  {
   "cell_type": "markdown",
   "metadata": {},
   "source": [
    "    - proceniti grešku generalizacije za sve modele, na osnovu nekoliko metrika;"
   ]
  },
  {
   "cell_type": "code",
   "execution_count": 14,
   "metadata": {},
   "outputs": [],
   "source": [
    "from sklearn.metrics import confusion_matrix, accuracy_score, precision_score, recall_score, roc_auc_score\n",
    "from prettytable import PrettyTable"
   ]
  },
  {
   "cell_type": "code",
   "execution_count": 15,
   "metadata": {},
   "outputs": [],
   "source": [
    "def evaluate(models, scores, X=X_train, y=y_train):\n",
    "    t = PrettyTable(['Model\\Mera evaluacije'] + [str(score).split()[1] for score in scores])\n",
    "    for model in models:\n",
    "        y_pred = model.predict(X)\n",
    "        t.add_row([str(model).split('(')[0]] + [score(y, y_pred) for score in scores])\n",
    "    print(t)\n",
    "    print('\\n')"
   ]
  },
  {
   "cell_type": "code",
   "execution_count": 16,
   "metadata": {},
   "outputs": [
    {
     "name": "stdout",
     "output_type": "stream",
     "text": [
      "+------------------------+--------------------+--------------------+---------------------+--------------------+\n",
      "| Model\\Mera evaluacije  |   accuracy_score   |  precision_score   |     recall_score    |   roc_auc_score    |\n",
      "+------------------------+--------------------+--------------------+---------------------+--------------------+\n",
      "|   LogisticRegression   | 0.7959377975245954 | 0.6161290322580645 | 0.26713286713286716 | 0.6091411462101118 |\n",
      "| DecisionTreeClassifier |        1.0         |        1.0         |         1.0         |        1.0         |\n",
      "|  KNeighborsClassifier  | 0.8803554427165979 | 0.7835570469798657 |  0.6531468531468532 | 0.8000955940611113 |\n",
      "| RandomForestClassifier | 0.9879403364011425 | 0.9985272459499264 |  0.9482517482517483 | 0.9739206196102748 |\n",
      "+------------------------+--------------------+--------------------+---------------------+--------------------+\n",
      "\n",
      "\n"
     ]
    }
   ],
   "source": [
    "models = [model_lr, model_tree, model_knn, model_rff]\n",
    "scores = [accuracy_score, precision_score, recall_score, roc_auc_score]\n",
    "\n",
    "evaluate(models, scores, X_train, y_train)"
   ]
  },
  {
   "cell_type": "code",
   "execution_count": 17,
   "metadata": {},
   "outputs": [
    {
     "name": "stdout",
     "output_type": "stream",
     "text": [
      "+------------------------+--------------------+--------------------+---------------------+--------------------+\n",
      "| Model\\Mera evaluacije  |   accuracy_score   |  precision_score   |     recall_score    |   roc_auc_score    |\n",
      "+------------------------+--------------------+--------------------+---------------------+--------------------+\n",
      "|   LogisticRegression   | 0.7868245743893413 | 0.5818181818181818 | 0.20915032679738563 | 0.5825655940207024 |\n",
      "| DecisionTreeClassifier | 0.8179126572908957 |        0.6         |  0.5882352941176471 | 0.7367013791162398 |\n",
      "|  KNeighborsClassifier  | 0.8164322723908216 | 0.6141732283464567 |  0.5098039215686274 | 0.7080120086312037 |\n",
      "| RandomForestClassifier | 0.8638045891931903 | 0.7877358490566038 |  0.545751633986928  | 0.751344716514995  |\n",
      "+------------------------+--------------------+--------------------+---------------------+--------------------+\n",
      "\n",
      "\n"
     ]
    }
   ],
   "source": [
    "evaluate(models, scores, X_test, y_test)"
   ]
  },
  {
   "cell_type": "markdown",
   "metadata": {},
   "source": [
    "#### Evaluacija unakrsnom kros-validacijom"
   ]
  },
  {
   "cell_type": "markdown",
   "metadata": {},
   "source": [
    "    - prikazati i standardnu devijaciju procene greške (od 10 kros-validacionih uzoraka)"
   ]
  },
  {
   "cell_type": "code",
   "execution_count": 18,
   "metadata": {},
   "outputs": [
    {
     "name": "stdout",
     "output_type": "stream",
     "text": [
      "[Logisticka regresija] Tacnost: 0.78 +/- 0.03\n",
      "[Stablo odlucivanja] Tacnost: 0.74 +/- 0.04\n",
      "[K-NN] Tacnost: 0.74 +/- 0.03\n",
      "[Random Forest] Tacnost: 0.80 +/- 0.02\n"
     ]
    }
   ],
   "source": [
    "from sklearn.model_selection import cross_val_score\n",
    "\n",
    "for model, label in zip([model_lr, model_tree, model_knn, model_rff], ['Logisticka regresija', 'Stablo odlucivanja', 'K-NN', 'Random Forest']):\n",
    "    cv_scores = cross_val_score(model, X, y, cv=10, scoring='accuracy')\n",
    "    print('[%s] Tacnost: %0.2f +/- %0.2f' % (label, cv_scores.mean(), cv_scores.std()))"
   ]
  },
  {
   "cell_type": "markdown",
   "metadata": {},
   "source": [
    "    - odgovoriti da li su modeli pretrenirani;\n",
    "\n",
    "Modeli jesu pretrenirani jer postoji varijacija od 2-4% u tačnosti. Posebno je pretreniran DT model. što je očekivano jer nije ograničen nijednim meta-parametrom. Takođe se još iz standardne trening-test evaluacije jasno vidi da su modeli KNN i RF takođe peretrenirani, jer razlike u tačnosti na ova dva skupa su oko 15%."
   ]
  },
  {
   "cell_type": "markdown",
   "metadata": {},
   "source": [
    "    - prodiskutovati koja metrika je najadekvatnija za ovaj problem, i koji tip grešaka je skuplji;\n",
    "    \n",
    "Naša pozitivna klasa je da je vino dobrog kvaliteta. Ako na problem gledamo kao da želimo da otkrijemo sva vina koja su dobra, onda nas greška da ne otkrijemo neko dobro vino (FN) mnogo više košta nego da za neko loše vino kažemo da je dobro (FP). Ako propustimo dobro vino ono ostaje neotkriveno, dok ako za neko loše kažemo da je dobro, u najgorem slučaju, ćemo ga probati i zaključiti da je ipak loše. Dakle, adekvatna mera evaulacije je ona koja naglašava značaj FN greške - to je odziv (Recall).\n",
    "\n",
    "![precision](img/precision.png)"
   ]
  },
  {
   "cell_type": "markdown",
   "metadata": {},
   "source": [
    "#### Modifikovanje praga odlučivanja"
   ]
  },
  {
   "cell_type": "markdown",
   "metadata": {},
   "source": [
    "    - modifikovati granicu odlučivanja, tako da model pravi više jeftinijih grešaka;\n",
    "    "
   ]
  },
  {
   "cell_type": "code",
   "execution_count": 19,
   "metadata": {},
   "outputs": [],
   "source": [
    "def evaluate_with_treshold(models, scores, threshold, X, y):\n",
    "    t = PrettyTable(['Model\\Mera evaluacije'] + [str(score).split()[1] for score in scores])\n",
    "    for model in models:\n",
    "        y_pred = (model.predict_proba(X)[:,1] >= threshold).astype(bool)\n",
    "        t.add_row([str(model).split('(')[0]] + [score(y, y_pred) for score in scores])\n",
    "    print(t)\n",
    "    print('\\n')"
   ]
  },
  {
   "cell_type": "code",
   "execution_count": 20,
   "metadata": {
    "scrolled": false
   },
   "outputs": [
    {
     "name": "stdout",
     "output_type": "stream",
     "text": [
      "+------------------------+--------------------+--------------------+--------------------+--------------------+\n",
      "| Model\\Mera evaluacije  |   accuracy_score   |  precision_score   |    recall_score    |   roc_auc_score    |\n",
      "+------------------------+--------------------+--------------------+--------------------+--------------------+\n",
      "|   LogisticRegression   | 0.7638844811171057 | 0.4838709677419355 | 0.6083916083916084 | 0.7089577089577089 |\n",
      "| DecisionTreeClassifier |        1.0         |        1.0         |        1.0         |        1.0         |\n",
      "|  KNeighborsClassifier  | 0.8562361155188829 | 0.6347736625514403 | 0.862937062937063  | 0.8586031784307646 |\n",
      "| RandomForestClassifier | 0.9679466835925103 | 0.8780788177339901 | 0.9972027972027973 | 0.9782812015570637 |\n",
      "+------------------------+--------------------+--------------------+--------------------+--------------------+\n",
      "\n",
      "\n"
     ]
    }
   ],
   "source": [
    "evaluate_with_treshold(models, scores, 0.3, X_train, y_train)"
   ]
  },
  {
   "cell_type": "markdown",
   "metadata": {},
   "source": [
    "Prikazaćemo rezultate početnih modela i modela sa pomerenom granicom odlučivanja kako bismo lakše poredili šta se desilo sa pomeranjem granice."
   ]
  },
  {
   "cell_type": "code",
   "execution_count": 21,
   "metadata": {},
   "outputs": [
    {
     "name": "stdout",
     "output_type": "stream",
     "text": [
      "+------------------------+--------------------+--------------------+---------------------+--------------------+\n",
      "| Model\\Mera evaluacije  |   accuracy_score   |  precision_score   |     recall_score    |   roc_auc_score    |\n",
      "+------------------------+--------------------+--------------------+---------------------+--------------------+\n",
      "|   LogisticRegression   | 0.7868245743893413 | 0.5818181818181818 | 0.20915032679738563 | 0.5825655940207024 |\n",
      "| DecisionTreeClassifier | 0.8179126572908957 |        0.6         |  0.5882352941176471 | 0.7367013791162398 |\n",
      "|  KNeighborsClassifier  | 0.8164322723908216 | 0.6141732283464567 |  0.5098039215686274 | 0.7080120086312037 |\n",
      "| RandomForestClassifier | 0.8638045891931903 | 0.7877358490566038 |  0.545751633986928  | 0.751344716514995  |\n",
      "+------------------------+--------------------+--------------------+---------------------+--------------------+\n",
      "\n",
      "\n"
     ]
    }
   ],
   "source": [
    "evaluate(models, scores, X_test, y_test)"
   ]
  },
  {
   "cell_type": "code",
   "execution_count": 22,
   "metadata": {},
   "outputs": [
    {
     "name": "stdout",
     "output_type": "stream",
     "text": [
      "+------------------------+--------------------+---------------------+--------------------+--------------------+\n",
      "| Model\\Mera evaluacije  |   accuracy_score   |   precision_score   |    recall_score    |   roc_auc_score    |\n",
      "+------------------------+--------------------+---------------------+--------------------+--------------------+\n",
      "|   LogisticRegression   | 0.7572168763878608 | 0.47058823529411764 | 0.5751633986928104 | 0.6928448572411421 |\n",
      "| DecisionTreeClassifier | 0.8179126572908957 |         0.6         | 0.5882352941176471 | 0.7367013791162398 |\n",
      "|  KNeighborsClassifier  | 0.7668393782383419 | 0.48951048951048953 | 0.6862745098039216 | 0.7383525659067455 |\n",
      "| RandomForestClassifier | 0.8134715025906736 |  0.5602678571428571 | 0.8202614379084967 | 0.8158723457485068 |\n",
      "+------------------------+--------------------+---------------------+--------------------+--------------------+\n",
      "\n",
      "\n"
     ]
    }
   ],
   "source": [
    "evaluate_with_treshold(models, scores, 0.3, X_test, y_test)"
   ]
  },
  {
   "cell_type": "markdown",
   "metadata": {},
   "source": [
    "Vidimo, dakle, da smo pomeranjem granice odlučivanja žrtvovali precision i accuracy kako bismo dobili bolji recall. Primetimo da smo, osim kod DT, kod svih ostalih povećali i roc_auc score. DT model nije promenio nijedan score, što znači da taj model daje prilično ekstremne verovatnoće, pa klase nisu promenjene ni prilikom pomeranja granice.\n",
    "Kod ostalih modela, razlike su velike jer je prag odlučivanja spušten za čak 0.2. Ovakav prag nam odgovara samo u slučaju da nam je baš bitno da ne propustimo mnogo vina top kvaliteta, a da nam je jeftina FP greška, koju ćemo u ovom slučaju često praviti (primetiti _precision_). "
   ]
  },
  {
   "cell_type": "markdown",
   "metadata": {},
   "source": [
    "    - odgovoriti koji atributi su najbitniji za naučene modele (gde je moguće videti)"
   ]
  },
  {
   "cell_type": "code",
   "execution_count": 23,
   "metadata": {},
   "outputs": [],
   "source": [
    "feature_importance = pd.DataFrame({'feature': df.columns[:-1], \n",
    "              'lr_coefs': model_lr.coef_[0],\n",
    "              'rf_importance': model_rff.feature_importances_})"
   ]
  },
  {
   "cell_type": "code",
   "execution_count": 24,
   "metadata": {},
   "outputs": [
    {
     "data": {
      "text/html": [
       "<div>\n",
       "<style scoped>\n",
       "    .dataframe tbody tr th:only-of-type {\n",
       "        vertical-align: middle;\n",
       "    }\n",
       "\n",
       "    .dataframe tbody tr th {\n",
       "        vertical-align: top;\n",
       "    }\n",
       "\n",
       "    .dataframe thead th {\n",
       "        text-align: right;\n",
       "    }\n",
       "</style>\n",
       "<table border=\"1\" class=\"dataframe\">\n",
       "  <thead>\n",
       "    <tr style=\"text-align: right;\">\n",
       "      <th></th>\n",
       "      <th>feature</th>\n",
       "      <th>lr_coefs</th>\n",
       "      <th>rf_importance</th>\n",
       "    </tr>\n",
       "  </thead>\n",
       "  <tbody>\n",
       "    <tr>\n",
       "      <th>10</th>\n",
       "      <td>alcohol</td>\n",
       "      <td>3.463778</td>\n",
       "      <td>0.181967</td>\n",
       "    </tr>\n",
       "    <tr>\n",
       "      <th>7</th>\n",
       "      <td>density</td>\n",
       "      <td>-2.687755</td>\n",
       "      <td>0.102824</td>\n",
       "    </tr>\n",
       "    <tr>\n",
       "      <th>5</th>\n",
       "      <td>free sulfur dioxide</td>\n",
       "      <td>0.885810</td>\n",
       "      <td>0.090180</td>\n",
       "    </tr>\n",
       "    <tr>\n",
       "      <th>8</th>\n",
       "      <td>pH</td>\n",
       "      <td>1.763527</td>\n",
       "      <td>0.090029</td>\n",
       "    </tr>\n",
       "    <tr>\n",
       "      <th>1</th>\n",
       "      <td>volatile acidity</td>\n",
       "      <td>-1.508382</td>\n",
       "      <td>0.085731</td>\n",
       "    </tr>\n",
       "    <tr>\n",
       "      <th>4</th>\n",
       "      <td>chlorides</td>\n",
       "      <td>-1.850007</td>\n",
       "      <td>0.085197</td>\n",
       "    </tr>\n",
       "    <tr>\n",
       "      <th>3</th>\n",
       "      <td>residual sugar</td>\n",
       "      <td>2.086232</td>\n",
       "      <td>0.081874</td>\n",
       "    </tr>\n",
       "    <tr>\n",
       "      <th>6</th>\n",
       "      <td>total sulfur dioxide</td>\n",
       "      <td>-0.289282</td>\n",
       "      <td>0.076215</td>\n",
       "    </tr>\n",
       "    <tr>\n",
       "      <th>0</th>\n",
       "      <td>fixed acidity</td>\n",
       "      <td>0.846896</td>\n",
       "      <td>0.069414</td>\n",
       "    </tr>\n",
       "    <tr>\n",
       "      <th>2</th>\n",
       "      <td>citric acid</td>\n",
       "      <td>-0.086910</td>\n",
       "      <td>0.068357</td>\n",
       "    </tr>\n",
       "    <tr>\n",
       "      <th>9</th>\n",
       "      <td>sulphates</td>\n",
       "      <td>0.645042</td>\n",
       "      <td>0.068211</td>\n",
       "    </tr>\n",
       "  </tbody>\n",
       "</table>\n",
       "</div>"
      ],
      "text/plain": [
       "                 feature  lr_coefs  rf_importance\n",
       "10               alcohol  3.463778       0.181967\n",
       "7                density -2.687755       0.102824\n",
       "5    free sulfur dioxide  0.885810       0.090180\n",
       "8                     pH  1.763527       0.090029\n",
       "1       volatile acidity -1.508382       0.085731\n",
       "4              chlorides -1.850007       0.085197\n",
       "3         residual sugar  2.086232       0.081874\n",
       "6   total sulfur dioxide -0.289282       0.076215\n",
       "0          fixed acidity  0.846896       0.069414\n",
       "2            citric acid -0.086910       0.068357\n",
       "9              sulphates  0.645042       0.068211"
      ]
     },
     "execution_count": 24,
     "metadata": {},
     "output_type": "execute_result"
    }
   ],
   "source": [
    "feature_importance.sort_values(by='rf_importance', ascending=False)"
   ]
  },
  {
   "cell_type": "markdown",
   "metadata": {},
   "source": [
    "Iako potpuno drugačiji modeli, logistička i slučajne šume se slažu oko bitnosti većine atributa. Ono što možemo da primetimo je da se jedino `residual sugar` i `violatile acidity` pokazali kao bitniji u logističkoj, dok se sa tim šume ne slažu. Podsetimo da se LR model veoma slabo bori sa našim nebalansiranim podacima, tako da nam je bolje verovati RF modelu.\n",
    "Sa druge strane, možemo primetiti da su nam koeficijenti logističke dosta korisniji u objašnjavanju modela jer tačno vidimo da li atribut utiče pozitivno ili negativno na ciljnu klasu."
   ]
  },
  {
   "cell_type": "markdown",
   "metadata": {},
   "source": [
    "### Optimizacija metaparametara"
   ]
  },
  {
   "cell_type": "markdown",
   "metadata": {},
   "source": [
    "2. Optimizovati minimalno 2 parametra kod najboljeg modela (iz koraka 1)\n",
    "    - ispitati najmanje 100 različitih vrednosti parametara\n",
    "    - uporediti kvalitet optimizovanog i neoptimizovanog modela"
   ]
  },
  {
   "cell_type": "markdown",
   "metadata": {},
   "source": [
    "Primećujemo da je prvi KNN model koji je napravljen bio pretreniran. Međutim, sa pomeranjem granice odlučivanja vidimo da je model znatno elastičniji na promene u njemu, pa smo tako uspeli da recall na testu značajno povećamo. Zato ćemo izabrati KNN za naš najbolji model, te ćemo pokušati da podešavanjem parametara sprečimo overfitting. Optimizovaćemo recall."
   ]
  },
  {
   "cell_type": "code",
   "execution_count": 25,
   "metadata": {},
   "outputs": [
    {
     "name": "stdout",
     "output_type": "stream",
     "text": [
      "Count of different values of params: 103\n",
      "Count of different model to be trained: 588\n"
     ]
    }
   ],
   "source": [
    "k_options = list(range(2,100))\n",
    "weight_options = [\"uniform\", \"distance\"]\n",
    "algorithm = ['auto','ball_tree','kd_tree']\n",
    "\n",
    "param_grid = dict(n_neighbors=k_options, weights=weight_options, algorithm=algorithm)\n",
    "\n",
    "print(f\"Count of different values of params: {len(k_options)+len(weight_options)+len(algorithm)}\")\n",
    "print(f\"Count of different model to be trained: {len(k_options)*len(weight_options)*len(algorithm)}\")"
   ]
  },
  {
   "cell_type": "code",
   "execution_count": 26,
   "metadata": {
    "scrolled": true
   },
   "outputs": [
    {
     "name": "stderr",
     "output_type": "stream",
     "text": [
      "/Users/dimitrijemilenkovic/anaconda3/lib/python3.7/site-packages/sklearn/model_selection/_search.py:813: DeprecationWarning: The default of the `iid` parameter will change from True to False in version 0.22 and will be removed in 0.24. This will change numeric results when test-set sizes are unequal.\n",
      "  DeprecationWarning)\n"
     ]
    },
    {
     "data": {
      "text/plain": [
       "GridSearchCV(cv=10, error_score='raise-deprecating',\n",
       "             estimator=KNeighborsClassifier(algorithm='auto', leaf_size=30,\n",
       "                                            metric='minkowski',\n",
       "                                            metric_params=None, n_jobs=None,\n",
       "                                            n_neighbors=5, p=2,\n",
       "                                            weights='uniform'),\n",
       "             iid='warn', n_jobs=-1,\n",
       "             param_grid={'algorithm': ['auto', 'ball_tree', 'kd_tree'],\n",
       "                         'n_neighbors': [2, 3, 4, 5, 6, 7, 8, 9, 10, 11, 12, 13,\n",
       "                                         14, 15, 16, 17, 18, 19, 20, 21, 22, 23,\n",
       "                                         24, 25, 26, 27, 28, 29, 30, 31, ...],\n",
       "                         'weights': ['uniform', 'distance']},\n",
       "             pre_dispatch='2*n_jobs', refit=True, return_train_score=False,\n",
       "             scoring='recall', verbose=0)"
      ]
     },
     "execution_count": 26,
     "metadata": {},
     "output_type": "execute_result"
    }
   ],
   "source": [
    "from sklearn.model_selection import GridSearchCV\n",
    "grid = GridSearchCV(KNeighborsClassifier(), param_grid, cv = 10, scoring = 'recall', n_jobs=-1)\n",
    "grid.fit(X_train, y_train)"
   ]
  },
  {
   "cell_type": "code",
   "execution_count": 27,
   "metadata": {
    "scrolled": true
   },
   "outputs": [
    {
     "data": {
      "text/plain": [
       "{'algorithm': 'auto', 'n_neighbors': 2, 'weights': 'distance'}"
      ]
     },
     "execution_count": 27,
     "metadata": {},
     "output_type": "execute_result"
    }
   ],
   "source": [
    "grid.best_params_"
   ]
  },
  {
   "cell_type": "code",
   "execution_count": 28,
   "metadata": {
    "scrolled": false
   },
   "outputs": [
    {
     "data": {
      "text/plain": [
       "0.6195668315049151"
      ]
     },
     "execution_count": 28,
     "metadata": {},
     "output_type": "execute_result"
    }
   ],
   "source": [
    "grid.best_score_"
   ]
  },
  {
   "cell_type": "code",
   "execution_count": 29,
   "metadata": {
    "scrolled": true
   },
   "outputs": [],
   "source": [
    "model_knn_best = grid.best_estimator_"
   ]
  },
  {
   "cell_type": "code",
   "execution_count": 30,
   "metadata": {},
   "outputs": [
    {
     "name": "stdout",
     "output_type": "stream",
     "text": [
      "+------------------------+--------------------+--------------------+---------------------+--------------------+\n",
      "| Model\\Mera evaluacije  |   accuracy_score   |  precision_score   |     recall_score    |   roc_auc_score    |\n",
      "+------------------------+--------------------+--------------------+---------------------+--------------------+\n",
      "|   LogisticRegression   | 0.7868245743893413 | 0.5818181818181818 | 0.20915032679738563 | 0.5825655940207024 |\n",
      "| DecisionTreeClassifier | 0.8179126572908957 |        0.6         |  0.5882352941176471 | 0.7367013791162398 |\n",
      "|  KNeighborsClassifier  | 0.8164322723908216 | 0.6141732283464567 |  0.5098039215686274 | 0.7080120086312037 |\n",
      "| RandomForestClassifier | 0.8638045891931903 | 0.7877358490566038 |  0.545751633986928  | 0.751344716514995  |\n",
      "|  KNeighborsClassifier  | 0.8371576609918578 | 0.6319018404907976 |  0.673202614379085  | 0.7791850392469587 |\n",
      "+------------------------+--------------------+--------------------+---------------------+--------------------+\n",
      "\n",
      "\n"
     ]
    }
   ],
   "source": [
    "evaluate(models+[model_knn_best], scores, X_test, y_test)"
   ]
  },
  {
   "cell_type": "markdown",
   "metadata": {},
   "source": [
    "Optimizovanjem knn meta-parametara dobili smo veoma dobar model. Zanimljivo je da ovaj model osim što postiže najbolji recall (u cilju čega je optimizovan), ima najbolji i roc_auc_score."
   ]
  },
  {
   "cell_type": "markdown",
   "metadata": {},
   "source": [
    "### Kreiranje ansambl modela"
   ]
  },
  {
   "cell_type": "markdown",
   "metadata": {},
   "source": [
    "3. Napraviti 2 razlicita ansambl modela, bazirana na modelima iz koraka 2\n",
    "    - optimizovati parametre ansambl modela\n",
    "    - uporediti kvalitet ansambl i osnovnih modela"
   ]
  },
  {
   "cell_type": "markdown",
   "metadata": {},
   "source": [
    "#### Stacking algoritam"
   ]
  },
  {
   "cell_type": "code",
   "execution_count": 31,
   "metadata": {},
   "outputs": [
    {
     "name": "stdout",
     "output_type": "stream",
     "text": [
      "Tree: 0.5860524256651016\n",
      "KNN: 0.6195226917057903\n",
      "Stacking: 0.587539123630673\n"
     ]
    }
   ],
   "source": [
    "from mlxtend.classifier import StackingClassifier\n",
    "\n",
    "model_tree = DecisionTreeClassifier()\n",
    "model_knn = KNeighborsClassifier(algorithm='auto', n_neighbors=2, weights='distance')\n",
    "\n",
    "model_stacking = StackingClassifier(classifiers=[model_tree, model_knn], meta_classifier = DecisionTreeClassifier())\n",
    "\n",
    "cv_scores = cross_val_score(model_tree, X_train, y_train, cv=10, scoring='recall')\n",
    "print(\"Tree: \" + str(cv_scores.mean()))\n",
    "\n",
    "cv_scores = cross_val_score(model_knn, X_train, y_train, cv=10, scoring='recall')\n",
    "print(\"KNN: \" + str(cv_scores.mean()))\n",
    "\n",
    "cv_scores = cross_val_score(model_stacking, X_train, y_train, cv=10, scoring='recall')\n",
    "print(\"Stacking: \" + str(cv_scores.mean()))"
   ]
  },
  {
   "cell_type": "markdown",
   "metadata": {},
   "source": [
    "Stacking tehnika nam daje ok rezultate, ali značajno komplikuje model, tako da bismo je ipak preskočili pri ovakvim rezultatima."
   ]
  },
  {
   "cell_type": "markdown",
   "metadata": {},
   "source": [
    "#### Bagging algoritam"
   ]
  },
  {
   "cell_type": "markdown",
   "metadata": {},
   "source": [
    "Već smo koristili jedan od algoritama iz ove klase. RandomForest je bagging algoritam koji radi uzorkovanje sa ponavljanjem slučaja i atributa. Probaćemo da napravimo još jedan bagging algoritam koji bi u osnovi koristio DT."
   ]
  },
  {
   "cell_type": "code",
   "execution_count": 32,
   "metadata": {},
   "outputs": [
    {
     "data": {
      "text/plain": [
       "0.5173904538341157"
      ]
     },
     "execution_count": 32,
     "metadata": {},
     "output_type": "execute_result"
    }
   ],
   "source": [
    "from sklearn.ensemble import BaggingClassifier\n",
    "\n",
    "model_tree = DecisionTreeClassifier()\n",
    "model = BaggingClassifier(base_estimator=model_tree, bootstrap=30)\n",
    "\n",
    "cv_scores = cross_val_score(model, X_train, y_train, cv=10, scoring='recall')\n",
    "cv_scores.mean()"
   ]
  },
  {
   "cell_type": "code",
   "execution_count": 33,
   "metadata": {},
   "outputs": [
    {
     "data": {
      "text/plain": [
       "BaggingClassifier(base_estimator=DecisionTreeClassifier(class_weight=None,\n",
       "                                                        criterion='gini',\n",
       "                                                        max_depth=None,\n",
       "                                                        max_features=None,\n",
       "                                                        max_leaf_nodes=None,\n",
       "                                                        min_impurity_decrease=0.0,\n",
       "                                                        min_impurity_split=None,\n",
       "                                                        min_samples_leaf=1,\n",
       "                                                        min_samples_split=2,\n",
       "                                                        min_weight_fraction_leaf=0.0,\n",
       "                                                        presort=False,\n",
       "                                                        random_state=None,\n",
       "                                                        splitter='best'),\n",
       "                  bootstrap=30, bootstrap_features=False, max_features=1.0,\n",
       "                  max_samples=1.0, n_estimators=10, n_jobs=None,\n",
       "                  oob_score=False, random_state=None, verbose=0,\n",
       "                  warm_start=False)"
      ]
     },
     "execution_count": 33,
     "metadata": {},
     "output_type": "execute_result"
    }
   ],
   "source": [
    "bagging_model = BaggingClassifier(base_estimator=DecisionTreeClassifier(), bootstrap=30)\n",
    "bagging_model.fit(X_train, y_train)"
   ]
  },
  {
   "cell_type": "code",
   "execution_count": 34,
   "metadata": {},
   "outputs": [
    {
     "name": "stdout",
     "output_type": "stream",
     "text": [
      "+------------------------+--------------------+--------------------+--------------------+--------------------+\n",
      "| Model\\Mera evaluacije  |   accuracy_score   |  precision_score   |    recall_score    |   roc_auc_score    |\n",
      "+------------------------+--------------------+--------------------+--------------------+--------------------+\n",
      "|  KNeighborsClassifier  |        1.0         |        1.0         |        1.0         |        1.0         |\n",
      "|   BaggingClassifier    | 0.9863535385591876 | 0.9970414201183432 | 0.9426573426573427 | 0.9709181622974725 |\n",
      "| RandomForestClassifier | 0.9879403364011425 | 0.9985272459499264 | 0.9482517482517483 | 0.9739206196102748 |\n",
      "+------------------------+--------------------+--------------------+--------------------+--------------------+\n",
      "\n",
      "\n"
     ]
    }
   ],
   "source": [
    "scores = [accuracy_score, precision_score, recall_score, roc_auc_score]\n",
    "e_models = [model_knn_best, bagging_model, model_rff]\n",
    "evaluate(e_models, scores, X_train, y_train)"
   ]
  },
  {
   "cell_type": "code",
   "execution_count": 35,
   "metadata": {},
   "outputs": [
    {
     "name": "stdout",
     "output_type": "stream",
     "text": [
      "+------------------------+--------------------+--------------------+--------------------+--------------------+\n",
      "| Model\\Mera evaluacije  |   accuracy_score   |  precision_score   |    recall_score    |   roc_auc_score    |\n",
      "+------------------------+--------------------+--------------------+--------------------+--------------------+\n",
      "|  KNeighborsClassifier  | 0.8371576609918578 | 0.6319018404907976 | 0.673202614379085  | 0.7791850392469587 |\n",
      "|   BaggingClassifier    | 0.8578830495928942 |        0.75        | 0.5588235294117647 | 0.7521390374331551 |\n",
      "| RandomForestClassifier | 0.8638045891931903 | 0.7877358490566038 | 0.545751633986928  | 0.751344716514995  |\n",
      "+------------------------+--------------------+--------------------+--------------------+--------------------+\n",
      "\n",
      "\n"
     ]
    }
   ],
   "source": [
    "evaluate(e_models, scores, X_test, y_test)"
   ]
  },
  {
   "cell_type": "markdown",
   "metadata": {},
   "source": [
    "Iako pokazuju neke rezultate, izgrađeni ansambl algoritmi su i dalje gori od optimizovanog KNN modela. Iz ugla tačnosti oni su dobri, međutim jako se loše bore sa našim nebalansiranim podacima, pa je recall i ne baš zadovoljavajuć."
   ]
  },
  {
   "cell_type": "markdown",
   "metadata": {},
   "source": [
    "### Balansiranje podataka"
   ]
  },
  {
   "cell_type": "code",
   "execution_count": 36,
   "metadata": {},
   "outputs": [
    {
     "data": {
      "text/plain": [
       "0    0.783585\n",
       "1    0.216415\n",
       "Name: top_quality, dtype: float64"
      ]
     },
     "execution_count": 36,
     "metadata": {},
     "output_type": "execute_result"
    }
   ],
   "source": [
    "df.top_quality.value_counts(normalize=True)"
   ]
  },
  {
   "cell_type": "markdown",
   "metadata": {},
   "source": [
    "Kako što je već pomenuto, podaci su jako nebalansirani. Zaključili smo da nam je bitnija pozitivna klasa, koje u setu ima 5 puta manje nego negativne klase. S obzirom na to, modeli koje pravimo jako teško postižu dobar recall. \n",
    "Probaćemo da balansiramo trening skup kako bismo proverili da li ćemo tako dobiti bolje rezultate. Odlučeno je da se primeni undersampling tehnika - smanjićemo broj obzervacija negativne klase u trening skupu."
   ]
  },
  {
   "cell_type": "code",
   "execution_count": 37,
   "metadata": {},
   "outputs": [],
   "source": [
    "from imblearn.under_sampling import RandomUnderSampler\n",
    "\n",
    "under_sampler = RandomUnderSampler(random_state=420)\n",
    "X_train_b, y_train_b = under_sampler.fit_resample(X_train, y_train)"
   ]
  },
  {
   "cell_type": "code",
   "execution_count": 38,
   "metadata": {},
   "outputs": [],
   "source": [
    "# optimized knn\n",
    "model_knn_b = KNeighborsClassifier(algorithm='auto', n_neighbors=2, weights='distance')\n",
    "model_knn_b.fit(X_train_b, y_train_b)\n",
    "\n",
    "# bagging\n",
    "bagging_model_b = BaggingClassifier(base_estimator=DecisionTreeClassifier(), bootstrap=30)\n",
    "bagging_model_b.fit(X_train_b, y_train_b)\n",
    "\n",
    "# rf\n",
    "model_rf_b = RandomForestClassifier()\n",
    "model_rf_b.fit(X_train_b, y_train_b)\n",
    "\n",
    "b_models = [model_knn_b, bagging_model_b, model_rf_b]"
   ]
  },
  {
   "cell_type": "code",
   "execution_count": 39,
   "metadata": {},
   "outputs": [
    {
     "name": "stdout",
     "output_type": "stream",
     "text": [
      "+------------------------+--------------------+--------------------+--------------------+--------------------+\n",
      "| Model\\Mera evaluacije  |   accuracy_score   |  precision_score   |    recall_score    |   roc_auc_score    |\n",
      "+------------------------+--------------------+--------------------+--------------------+--------------------+\n",
      "|  KNeighborsClassifier  | 0.8371576609918578 | 0.6319018404907976 | 0.673202614379085  | 0.7791850392469587 |\n",
      "|   BaggingClassifier    | 0.8578830495928942 |        0.75        | 0.5588235294117647 | 0.7521390374331551 |\n",
      "| RandomForestClassifier | 0.8638045891931903 | 0.7877358490566038 | 0.545751633986928  | 0.751344716514995  |\n",
      "|  KNeighborsClassifier  | 0.7401924500370096 | 0.4582560296846011 | 0.8071895424836601 | 0.763881852581543  |\n",
      "|   BaggingClassifier    | 0.7823834196891192 | 0.5131004366812227 | 0.7679738562091504 | 0.7772883635112738 |\n",
      "| RandomForestClassifier | 0.8053293856402665 | 0.550351288056206  | 0.7679738562091504 | 0.7921208993964411 |\n",
      "+------------------------+--------------------+--------------------+--------------------+--------------------+\n",
      "\n",
      "\n"
     ]
    }
   ],
   "source": [
    "evaluate(e_models + b_models, scores, X_test, y_test)"
   ]
  },
  {
   "cell_type": "markdown",
   "metadata": {},
   "source": [
    "Modeli izgrađeni nad balansiranim podacima (poslednja 3 reda tabele) dali su značajno bolje rezultate. Uspeli smo da povećamo recall za čak 13% u poređenju sa prethodno najbolji modelom. "
   ]
  }
 ],
 "metadata": {
  "kernelspec": {
   "display_name": "Python 3",
   "language": "python",
   "name": "python3"
  },
  "language_info": {
   "codemirror_mode": {
    "name": "ipython",
    "version": 3
   },
   "file_extension": ".py",
   "mimetype": "text/x-python",
   "name": "python",
   "nbconvert_exporter": "python",
   "pygments_lexer": "ipython3",
   "version": "3.7.3"
  },
  "toc": {
   "base_numbering": 1,
   "nav_menu": {},
   "number_sections": true,
   "sideBar": true,
   "skip_h1_title": false,
   "title_cell": "Table of Contents",
   "title_sidebar": "Contents",
   "toc_cell": false,
   "toc_position": {
    "height": "calc(100% - 180px)",
    "left": "10px",
    "top": "150px",
    "width": "475px"
   },
   "toc_section_display": true,
   "toc_window_display": true
  },
  "varInspector": {
   "cols": {
    "lenName": 16,
    "lenType": 16,
    "lenVar": 40
   },
   "kernels_config": {
    "python": {
     "delete_cmd_postfix": "",
     "delete_cmd_prefix": "del ",
     "library": "var_list.py",
     "varRefreshCmd": "print(var_dic_list())"
    },
    "r": {
     "delete_cmd_postfix": ") ",
     "delete_cmd_prefix": "rm(",
     "library": "var_list.r",
     "varRefreshCmd": "cat(var_dic_list()) "
    }
   },
   "position": {
    "height": "359px",
    "left": "1492.98px",
    "right": "20px",
    "top": "75px",
    "width": "412.969px"
   },
   "types_to_exclude": [
    "module",
    "function",
    "builtin_function_or_method",
    "instance",
    "_Feature"
   ],
   "window_display": true
  }
 },
 "nbformat": 4,
 "nbformat_minor": 2
}
