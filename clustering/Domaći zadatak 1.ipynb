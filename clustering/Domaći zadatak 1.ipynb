{
 "cells": [
  {
   "cell_type": "markdown",
   "metadata": {},
   "source": [
    "<img src='img/logo.png' width=200>\n",
    "<center>\n",
    "    <br/>\n",
    "    Otkrivanje zakonitosti u podacima 2019-2020\n",
    "    <br/>\n",
    "    Fakultet Organizacionih Nauka, 2020\n",
    "    <br/>\n",
    "    <h1>D1. Domaći zadatak 1</h1>\n",
    "</center>"
   ]
  },
  {
   "cell_type": "markdown",
   "metadata": {},
   "source": [
    "# Zahtevi domaćeg zadatka\n",
    "\n",
    "1. Učitati i spojiti podatke\n",
    "    1. Učitati podatke o transakcijama računa (folder `data` fajl `trans.csv`).\n",
    "    2. Učitati podatke o korisnicima i povezati sa transakcijama (folder `data` fajl `client_accounts.csv`).\n",
    "    3. Izračunati broj različitih računa koje korisnik poseduje.\n",
    "    4. Napraviti pivot tabelu sume iznosa po tipu transakcije za svakog klijenta.\n",
    "    5. Napraviti pivot tabelu sume iznosa po operaciji za svakog klijenta.\n",
    "    6. Popuniti nedostajuće podatke.\n",
    "    7. Rezultate iz C, D i E spojiti u jedan skup podataka nad kojim će se raditi klasterovanje od koraka 3.\n",
    "2. RFM task\n",
    "    1. Koristiti podatke o transakcijama računa (folder `data` fajl `trans.csv`).\n",
    "    2. Recency da se računa kao broj dana od 10.05.2019. godine.\n",
    "    3. Frequency kao broj transakcija.\n",
    "    4. Monetary kao prosečna vrednost transakcije.\n",
    "    5. Podeliti klijente u 5 grupa i koristeći rfm_group_mapping funkciju (predavanja Segmentacija korisnika).\n",
    "    6. Prikazati prosečne vrednosti RFM kategorija po svakog grupi.\n",
    "3. Normalizovati podatke na dva načina po izboru (npr. MaxMin, StandardScaler ili Normalizer). Za svaki od setova normalizovanih podataka uraditi sledeće:\n",
    "    1. Identifikovati ekstremne vrednosti, karakterisati ih (zašto su ekstremne) i izbaciti iz skupa.\n",
    "    2. Optimizovati K-means model po broju klastera koristeći SSE i Silhouette (dva optimizovana modela treba dobiti za svaku normalizaciju - ukupno četiri).\n",
    "    3. Prikazati centroide na osnovu linijskog grafa, \n",
    "    4. Opisati svaki klaster u nekoliko rečenica (zapisati u Notebook-u).\n",
    "    5. Odgovoriti na pitanje koji klaster model je prema vašem mišljenju bolji (optimizovan na osnovu na siluet indeksa ili SSE) i zašto.\n",
    "4. Kreirati hijerarhijski model klasterovanja.\n",
    "    1. Prikazati denrogram.\n",
    "    2. Odrediti granicu preseka na osnovu dendrograma i kreirati klastere (opisati klastere u Notebook-u i opisati zašto ste izabrali baš taj broj klastera)."
   ]
  },
  {
   "cell_type": "code",
   "execution_count": 1,
   "metadata": {},
   "outputs": [],
   "source": [
    "%matplotlib inline\n",
    "\n",
    "import matplotlib\n",
    "import matplotlib.pyplot as plt\n",
    "import numpy as np\n",
    "import pandas as pd\n",
    "\n",
    "import scikitplot as skplt\n",
    "from sklearn.metrics import silhouette_score\n",
    "\n",
    "import warnings\n",
    "warnings.filterwarnings('ignore')"
   ]
  },
  {
   "cell_type": "markdown",
   "metadata": {},
   "source": [
    "## Učitavanje i spajanje podataka"
   ]
  },
  {
   "cell_type": "markdown",
   "metadata": {},
   "source": [
    "    1. Učitati podatke o transakcijama računa (folder `data` fajl `trans.csv`)."
   ]
  },
  {
   "cell_type": "code",
   "execution_count": 2,
   "metadata": {},
   "outputs": [
    {
     "data": {
      "text/html": [
       "<div>\n",
       "<style scoped>\n",
       "    .dataframe tbody tr th:only-of-type {\n",
       "        vertical-align: middle;\n",
       "    }\n",
       "\n",
       "    .dataframe tbody tr th {\n",
       "        vertical-align: top;\n",
       "    }\n",
       "\n",
       "    .dataframe thead th {\n",
       "        text-align: right;\n",
       "    }\n",
       "</style>\n",
       "<table border=\"1\" class=\"dataframe\">\n",
       "  <thead>\n",
       "    <tr style=\"text-align: right;\">\n",
       "      <th></th>\n",
       "      <th>trans_id</th>\n",
       "      <th>account_id</th>\n",
       "      <th>date</th>\n",
       "      <th>type</th>\n",
       "      <th>operation</th>\n",
       "      <th>amount</th>\n",
       "      <th>balance</th>\n",
       "      <th>k_symbol</th>\n",
       "      <th>bank</th>\n",
       "      <th>account</th>\n",
       "    </tr>\n",
       "  </thead>\n",
       "  <tbody>\n",
       "    <tr>\n",
       "      <th>0</th>\n",
       "      <td>695247</td>\n",
       "      <td>2378</td>\n",
       "      <td>2017-09-10 03:24:33</td>\n",
       "      <td>INCOME</td>\n",
       "      <td>DEPOSIT</td>\n",
       "      <td>700.0</td>\n",
       "      <td>700.0</td>\n",
       "      <td>NaN</td>\n",
       "      <td>NaN</td>\n",
       "      <td>NaN</td>\n",
       "    </tr>\n",
       "    <tr>\n",
       "      <th>1</th>\n",
       "      <td>171812</td>\n",
       "      <td>576</td>\n",
       "      <td>2017-09-14 03:24:33</td>\n",
       "      <td>INCOME</td>\n",
       "      <td>DEPOSIT</td>\n",
       "      <td>900.0</td>\n",
       "      <td>900.0</td>\n",
       "      <td>NaN</td>\n",
       "      <td>NaN</td>\n",
       "      <td>NaN</td>\n",
       "    </tr>\n",
       "    <tr>\n",
       "      <th>2</th>\n",
       "      <td>207264</td>\n",
       "      <td>704</td>\n",
       "      <td>2017-09-21 03:24:33</td>\n",
       "      <td>INCOME</td>\n",
       "      <td>DEPOSIT</td>\n",
       "      <td>1000.0</td>\n",
       "      <td>1000.0</td>\n",
       "      <td>NaN</td>\n",
       "      <td>NaN</td>\n",
       "      <td>NaN</td>\n",
       "    </tr>\n",
       "    <tr>\n",
       "      <th>3</th>\n",
       "      <td>1117247</td>\n",
       "      <td>3818</td>\n",
       "      <td>2017-09-06 03:24:33</td>\n",
       "      <td>INCOME</td>\n",
       "      <td>DEPOSIT</td>\n",
       "      <td>600.0</td>\n",
       "      <td>600.0</td>\n",
       "      <td>NaN</td>\n",
       "      <td>NaN</td>\n",
       "      <td>NaN</td>\n",
       "    </tr>\n",
       "    <tr>\n",
       "      <th>4</th>\n",
       "      <td>579373</td>\n",
       "      <td>1972</td>\n",
       "      <td>2017-09-19 03:41:13</td>\n",
       "      <td>INCOME</td>\n",
       "      <td>DEPOSIT</td>\n",
       "      <td>400.0</td>\n",
       "      <td>400.0</td>\n",
       "      <td>NaN</td>\n",
       "      <td>NaN</td>\n",
       "      <td>NaN</td>\n",
       "    </tr>\n",
       "  </tbody>\n",
       "</table>\n",
       "</div>"
      ],
      "text/plain": [
       "   trans_id  account_id                 date    type operation  amount  \\\n",
       "0    695247        2378  2017-09-10 03:24:33  INCOME   DEPOSIT   700.0   \n",
       "1    171812         576  2017-09-14 03:24:33  INCOME   DEPOSIT   900.0   \n",
       "2    207264         704  2017-09-21 03:24:33  INCOME   DEPOSIT  1000.0   \n",
       "3   1117247        3818  2017-09-06 03:24:33  INCOME   DEPOSIT   600.0   \n",
       "4    579373        1972  2017-09-19 03:41:13  INCOME   DEPOSIT   400.0   \n",
       "\n",
       "   balance k_symbol bank  account  \n",
       "0    700.0      NaN  NaN      NaN  \n",
       "1    900.0      NaN  NaN      NaN  \n",
       "2   1000.0      NaN  NaN      NaN  \n",
       "3    600.0      NaN  NaN      NaN  \n",
       "4    400.0      NaN  NaN      NaN  "
      ]
     },
     "execution_count": 2,
     "metadata": {},
     "output_type": "execute_result"
    }
   ],
   "source": [
    "df_trans = pd.read_csv('data/trans.csv')\n",
    "df_trans.head()"
   ]
  },
  {
   "cell_type": "markdown",
   "metadata": {},
   "source": [
    "    2. Učitati podatke o korisnicima i povezati sa transakcijama (folder `data` \n",
    "    fajl `client_accounts.csv`)."
   ]
  },
  {
   "cell_type": "code",
   "execution_count": 3,
   "metadata": {},
   "outputs": [],
   "source": [
    "df_clients_acc = pd.read_csv('data/client_accounts.csv')\n",
    "df_clients_acc.columns = ['account_id', 'client_id']"
   ]
  },
  {
   "cell_type": "code",
   "execution_count": 4,
   "metadata": {},
   "outputs": [],
   "source": [
    "df = pd.merge(df_trans, df_clients_acc, how='left', on='account_id')"
   ]
  },
  {
   "cell_type": "markdown",
   "metadata": {},
   "source": [
    "    3. Izračunati broj različitih računa koje korisnik poseduje."
   ]
  },
  {
   "cell_type": "code",
   "execution_count": 5,
   "metadata": {},
   "outputs": [
    {
     "data": {
      "text/html": [
       "<div>\n",
       "<style scoped>\n",
       "    .dataframe tbody tr th:only-of-type {\n",
       "        vertical-align: middle;\n",
       "    }\n",
       "\n",
       "    .dataframe tbody tr th {\n",
       "        vertical-align: top;\n",
       "    }\n",
       "\n",
       "    .dataframe thead th {\n",
       "        text-align: right;\n",
       "    }\n",
       "</style>\n",
       "<table border=\"1\" class=\"dataframe\">\n",
       "  <thead>\n",
       "    <tr style=\"text-align: right;\">\n",
       "      <th></th>\n",
       "      <th>client_id</th>\n",
       "      <th>account_id</th>\n",
       "    </tr>\n",
       "  </thead>\n",
       "  <tbody>\n",
       "    <tr>\n",
       "      <th>0</th>\n",
       "      <td>1.0</td>\n",
       "      <td>1</td>\n",
       "    </tr>\n",
       "    <tr>\n",
       "      <th>1</th>\n",
       "      <td>2.0</td>\n",
       "      <td>2</td>\n",
       "    </tr>\n",
       "    <tr>\n",
       "      <th>2</th>\n",
       "      <td>3.0</td>\n",
       "      <td>2</td>\n",
       "    </tr>\n",
       "    <tr>\n",
       "      <th>3</th>\n",
       "      <td>4.0</td>\n",
       "      <td>1</td>\n",
       "    </tr>\n",
       "    <tr>\n",
       "      <th>4</th>\n",
       "      <td>5.0</td>\n",
       "      <td>1</td>\n",
       "    </tr>\n",
       "  </tbody>\n",
       "</table>\n",
       "</div>"
      ],
      "text/plain": [
       "   client_id  account_id\n",
       "0        1.0           1\n",
       "1        2.0           2\n",
       "2        3.0           2\n",
       "3        4.0           1\n",
       "4        5.0           1"
      ]
     },
     "execution_count": 5,
     "metadata": {},
     "output_type": "execute_result"
    }
   ],
   "source": [
    "client_df = df.groupby('client_id')['account_id'].nunique().reset_index()\n",
    "client_df.head()"
   ]
  },
  {
   "cell_type": "markdown",
   "metadata": {},
   "source": [
    "\n",
    "    4. Napraviti pivot tabelu sume iznosa po tipu transakcije za svakog klijenta."
   ]
  },
  {
   "cell_type": "code",
   "execution_count": 6,
   "metadata": {},
   "outputs": [
    {
     "data": {
      "text/html": [
       "<div>\n",
       "<style scoped>\n",
       "    .dataframe tbody tr th:only-of-type {\n",
       "        vertical-align: middle;\n",
       "    }\n",
       "\n",
       "    .dataframe tbody tr th {\n",
       "        vertical-align: top;\n",
       "    }\n",
       "\n",
       "    .dataframe thead tr th {\n",
       "        text-align: left;\n",
       "    }\n",
       "</style>\n",
       "<table border=\"1\" class=\"dataframe\">\n",
       "  <thead>\n",
       "    <tr>\n",
       "      <th></th>\n",
       "      <th>client_id</th>\n",
       "      <th colspan=\"3\" halign=\"left\">amount</th>\n",
       "    </tr>\n",
       "    <tr>\n",
       "      <th>type</th>\n",
       "      <th></th>\n",
       "      <th>CHOICE</th>\n",
       "      <th>EXPENDITURE</th>\n",
       "      <th>INCOME</th>\n",
       "    </tr>\n",
       "  </thead>\n",
       "  <tbody>\n",
       "    <tr>\n",
       "      <th>0</th>\n",
       "      <td>1.0</td>\n",
       "      <td>NaN</td>\n",
       "      <td>180854.0</td>\n",
       "      <td>194320.5</td>\n",
       "    </tr>\n",
       "    <tr>\n",
       "      <th>1</th>\n",
       "      <td>2.0</td>\n",
       "      <td>217442.0</td>\n",
       "      <td>1458946.6</td>\n",
       "      <td>1770112.5</td>\n",
       "    </tr>\n",
       "    <tr>\n",
       "      <th>2</th>\n",
       "      <td>3.0</td>\n",
       "      <td>NaN</td>\n",
       "      <td>228021.8</td>\n",
       "      <td>289831.0</td>\n",
       "    </tr>\n",
       "    <tr>\n",
       "      <th>3</th>\n",
       "      <td>4.0</td>\n",
       "      <td>NaN</td>\n",
       "      <td>299949.6</td>\n",
       "      <td>347617.5</td>\n",
       "    </tr>\n",
       "    <tr>\n",
       "      <th>4</th>\n",
       "      <td>5.0</td>\n",
       "      <td>NaN</td>\n",
       "      <td>561772.0</td>\n",
       "      <td>630267.9</td>\n",
       "    </tr>\n",
       "  </tbody>\n",
       "</table>\n",
       "</div>"
      ],
      "text/plain": [
       "     client_id    amount                       \n",
       "type              CHOICE EXPENDITURE     INCOME\n",
       "0          1.0       NaN    180854.0   194320.5\n",
       "1          2.0  217442.0   1458946.6  1770112.5\n",
       "2          3.0       NaN    228021.8   289831.0\n",
       "3          4.0       NaN    299949.6   347617.5\n",
       "4          5.0       NaN    561772.0   630267.9"
      ]
     },
     "execution_count": 6,
     "metadata": {},
     "output_type": "execute_result"
    }
   ],
   "source": [
    "amount_per_type_df = df.pivot_table(index='client_id', columns='type', values=['amount'], aggfunc=np.sum) \\\n",
    "        .reset_index()\n",
    "amount_per_type_df.head()"
   ]
  },
  {
   "cell_type": "code",
   "execution_count": 7,
   "metadata": {},
   "outputs": [
    {
     "data": {
      "text/html": [
       "<div>\n",
       "<style scoped>\n",
       "    .dataframe tbody tr th:only-of-type {\n",
       "        vertical-align: middle;\n",
       "    }\n",
       "\n",
       "    .dataframe tbody tr th {\n",
       "        vertical-align: top;\n",
       "    }\n",
       "\n",
       "    .dataframe thead th {\n",
       "        text-align: right;\n",
       "    }\n",
       "</style>\n",
       "<table border=\"1\" class=\"dataframe\">\n",
       "  <thead>\n",
       "    <tr style=\"text-align: right;\">\n",
       "      <th></th>\n",
       "      <th>client_id</th>\n",
       "      <th>choice_amt</th>\n",
       "      <th>expenditure_amt</th>\n",
       "      <th>income_amt</th>\n",
       "    </tr>\n",
       "  </thead>\n",
       "  <tbody>\n",
       "    <tr>\n",
       "      <th>0</th>\n",
       "      <td>1.0</td>\n",
       "      <td>NaN</td>\n",
       "      <td>180854.0</td>\n",
       "      <td>194320.5</td>\n",
       "    </tr>\n",
       "    <tr>\n",
       "      <th>1</th>\n",
       "      <td>2.0</td>\n",
       "      <td>217442.0</td>\n",
       "      <td>1458946.6</td>\n",
       "      <td>1770112.5</td>\n",
       "    </tr>\n",
       "    <tr>\n",
       "      <th>2</th>\n",
       "      <td>3.0</td>\n",
       "      <td>NaN</td>\n",
       "      <td>228021.8</td>\n",
       "      <td>289831.0</td>\n",
       "    </tr>\n",
       "    <tr>\n",
       "      <th>3</th>\n",
       "      <td>4.0</td>\n",
       "      <td>NaN</td>\n",
       "      <td>299949.6</td>\n",
       "      <td>347617.5</td>\n",
       "    </tr>\n",
       "    <tr>\n",
       "      <th>4</th>\n",
       "      <td>5.0</td>\n",
       "      <td>NaN</td>\n",
       "      <td>561772.0</td>\n",
       "      <td>630267.9</td>\n",
       "    </tr>\n",
       "  </tbody>\n",
       "</table>\n",
       "</div>"
      ],
      "text/plain": [
       "   client_id  choice_amt  expenditure_amt  income_amt\n",
       "0        1.0         NaN         180854.0    194320.5\n",
       "1        2.0    217442.0        1458946.6   1770112.5\n",
       "2        3.0         NaN         228021.8    289831.0\n",
       "3        4.0         NaN         299949.6    347617.5\n",
       "4        5.0         NaN         561772.0    630267.9"
      ]
     },
     "execution_count": 7,
     "metadata": {},
     "output_type": "execute_result"
    }
   ],
   "source": [
    "amount_per_type_df.columns = ['client_id', 'choice_amt', 'expenditure_amt', 'income_amt']\n",
    "amount_per_type_df.head()"
   ]
  },
  {
   "cell_type": "markdown",
   "metadata": {},
   "source": [
    "    5. Napraviti pivot tabelu sume iznosa po operaciji za svakog klijenta."
   ]
  },
  {
   "cell_type": "code",
   "execution_count": 8,
   "metadata": {},
   "outputs": [
    {
     "data": {
      "text/html": [
       "<div>\n",
       "<style scoped>\n",
       "    .dataframe tbody tr th:only-of-type {\n",
       "        vertical-align: middle;\n",
       "    }\n",
       "\n",
       "    .dataframe tbody tr th {\n",
       "        vertical-align: top;\n",
       "    }\n",
       "\n",
       "    .dataframe thead th {\n",
       "        text-align: right;\n",
       "    }\n",
       "</style>\n",
       "<table border=\"1\" class=\"dataframe\">\n",
       "  <thead>\n",
       "    <tr style=\"text-align: right;\">\n",
       "      <th>operation</th>\n",
       "      <th>client_id</th>\n",
       "      <th>ACCOUNT TRANSFER</th>\n",
       "      <th>CARD</th>\n",
       "      <th>CHOICE</th>\n",
       "      <th>DEPOSIT</th>\n",
       "      <th>TRANSFER FROM ACCOUNT</th>\n",
       "    </tr>\n",
       "  </thead>\n",
       "  <tbody>\n",
       "    <tr>\n",
       "      <th>0</th>\n",
       "      <td>1.0</td>\n",
       "      <td>98080.0</td>\n",
       "      <td>NaN</td>\n",
       "      <td>82774.0</td>\n",
       "      <td>25700.0</td>\n",
       "      <td>165555.0</td>\n",
       "    </tr>\n",
       "    <tr>\n",
       "      <th>1</th>\n",
       "      <td>2.0</td>\n",
       "      <td>618247.8</td>\n",
       "      <td>NaN</td>\n",
       "      <td>1058140.8</td>\n",
       "      <td>219389.0</td>\n",
       "      <td>1537936.0</td>\n",
       "    </tr>\n",
       "    <tr>\n",
       "      <th>2</th>\n",
       "      <td>3.0</td>\n",
       "      <td>136164.0</td>\n",
       "      <td>NaN</td>\n",
       "      <td>91857.8</td>\n",
       "      <td>1400.0</td>\n",
       "      <td>284125.0</td>\n",
       "    </tr>\n",
       "    <tr>\n",
       "      <th>3</th>\n",
       "      <td>4.0</td>\n",
       "      <td>185838.0</td>\n",
       "      <td>NaN</td>\n",
       "      <td>114111.6</td>\n",
       "      <td>900.0</td>\n",
       "      <td>340119.0</td>\n",
       "    </tr>\n",
       "    <tr>\n",
       "      <th>4</th>\n",
       "      <td>5.0</td>\n",
       "      <td>97600.0</td>\n",
       "      <td>5900.0</td>\n",
       "      <td>458272.0</td>\n",
       "      <td>623775.0</td>\n",
       "      <td>NaN</td>\n",
       "    </tr>\n",
       "  </tbody>\n",
       "</table>\n",
       "</div>"
      ],
      "text/plain": [
       "operation  client_id  ACCOUNT TRANSFER    CARD     CHOICE   DEPOSIT  \\\n",
       "0                1.0           98080.0     NaN    82774.0   25700.0   \n",
       "1                2.0          618247.8     NaN  1058140.8  219389.0   \n",
       "2                3.0          136164.0     NaN    91857.8    1400.0   \n",
       "3                4.0          185838.0     NaN   114111.6     900.0   \n",
       "4                5.0           97600.0  5900.0   458272.0  623775.0   \n",
       "\n",
       "operation  TRANSFER FROM ACCOUNT  \n",
       "0                       165555.0  \n",
       "1                      1537936.0  \n",
       "2                       284125.0  \n",
       "3                       340119.0  \n",
       "4                            NaN  "
      ]
     },
     "execution_count": 8,
     "metadata": {},
     "output_type": "execute_result"
    }
   ],
   "source": [
    "amount_per_ope_df = df.pivot_table(index='client_id', columns='operation', values='amount', aggfunc=np.sum) \\\n",
    "        .reset_index()\n",
    "amount_per_ope_df.head()"
   ]
  },
  {
   "cell_type": "code",
   "execution_count": 9,
   "metadata": {},
   "outputs": [
    {
     "data": {
      "text/html": [
       "<div>\n",
       "<style scoped>\n",
       "    .dataframe tbody tr th:only-of-type {\n",
       "        vertical-align: middle;\n",
       "    }\n",
       "\n",
       "    .dataframe tbody tr th {\n",
       "        vertical-align: top;\n",
       "    }\n",
       "\n",
       "    .dataframe thead th {\n",
       "        text-align: right;\n",
       "    }\n",
       "</style>\n",
       "<table border=\"1\" class=\"dataframe\">\n",
       "  <thead>\n",
       "    <tr style=\"text-align: right;\">\n",
       "      <th></th>\n",
       "      <th>client_id</th>\n",
       "      <th>account_transfer_amt</th>\n",
       "      <th>card_amt</th>\n",
       "      <th>choice_amt</th>\n",
       "      <th>deposit_amt</th>\n",
       "      <th>transfer_from_account_amt</th>\n",
       "    </tr>\n",
       "  </thead>\n",
       "  <tbody>\n",
       "    <tr>\n",
       "      <th>0</th>\n",
       "      <td>1.0</td>\n",
       "      <td>98080.0</td>\n",
       "      <td>NaN</td>\n",
       "      <td>82774.0</td>\n",
       "      <td>25700.0</td>\n",
       "      <td>165555.0</td>\n",
       "    </tr>\n",
       "    <tr>\n",
       "      <th>1</th>\n",
       "      <td>2.0</td>\n",
       "      <td>618247.8</td>\n",
       "      <td>NaN</td>\n",
       "      <td>1058140.8</td>\n",
       "      <td>219389.0</td>\n",
       "      <td>1537936.0</td>\n",
       "    </tr>\n",
       "    <tr>\n",
       "      <th>2</th>\n",
       "      <td>3.0</td>\n",
       "      <td>136164.0</td>\n",
       "      <td>NaN</td>\n",
       "      <td>91857.8</td>\n",
       "      <td>1400.0</td>\n",
       "      <td>284125.0</td>\n",
       "    </tr>\n",
       "    <tr>\n",
       "      <th>3</th>\n",
       "      <td>4.0</td>\n",
       "      <td>185838.0</td>\n",
       "      <td>NaN</td>\n",
       "      <td>114111.6</td>\n",
       "      <td>900.0</td>\n",
       "      <td>340119.0</td>\n",
       "    </tr>\n",
       "    <tr>\n",
       "      <th>4</th>\n",
       "      <td>5.0</td>\n",
       "      <td>97600.0</td>\n",
       "      <td>5900.0</td>\n",
       "      <td>458272.0</td>\n",
       "      <td>623775.0</td>\n",
       "      <td>NaN</td>\n",
       "    </tr>\n",
       "  </tbody>\n",
       "</table>\n",
       "</div>"
      ],
      "text/plain": [
       "   client_id  account_transfer_amt  card_amt  choice_amt  deposit_amt  \\\n",
       "0        1.0               98080.0       NaN     82774.0      25700.0   \n",
       "1        2.0              618247.8       NaN   1058140.8     219389.0   \n",
       "2        3.0              136164.0       NaN     91857.8       1400.0   \n",
       "3        4.0              185838.0       NaN    114111.6        900.0   \n",
       "4        5.0               97600.0    5900.0    458272.0     623775.0   \n",
       "\n",
       "   transfer_from_account_amt  \n",
       "0                   165555.0  \n",
       "1                  1537936.0  \n",
       "2                   284125.0  \n",
       "3                   340119.0  \n",
       "4                        NaN  "
      ]
     },
     "execution_count": 9,
     "metadata": {},
     "output_type": "execute_result"
    }
   ],
   "source": [
    "amount_per_ope_df.columns = ['client_id', 'account_transfer_amt', 'card_amt', 'choice_amt', 'deposit_amt', 'transfer_from_account_amt']\n",
    "amount_per_ope_df.head()"
   ]
  },
  {
   "cell_type": "markdown",
   "metadata": {},
   "source": [
    "\n",
    "    6. Popuniti nedostajuće podatke."
   ]
  },
  {
   "cell_type": "code",
   "execution_count": 10,
   "metadata": {},
   "outputs": [
    {
     "data": {
      "text/plain": [
       "client_id     0\n",
       "account_id    0\n",
       "dtype: int64"
      ]
     },
     "execution_count": 10,
     "metadata": {},
     "output_type": "execute_result"
    }
   ],
   "source": [
    "client_df.isnull().sum()"
   ]
  },
  {
   "cell_type": "code",
   "execution_count": 11,
   "metadata": {},
   "outputs": [
    {
     "data": {
      "text/plain": [
       "client_id             0\n",
       "choice_amt         2483\n",
       "expenditure_amt       0\n",
       "income_amt            0\n",
       "dtype: int64"
      ]
     },
     "execution_count": 11,
     "metadata": {},
     "output_type": "execute_result"
    }
   ],
   "source": [
    "amount_per_type_df.isnull().sum()"
   ]
  },
  {
   "cell_type": "code",
   "execution_count": 12,
   "metadata": {},
   "outputs": [],
   "source": [
    "amount_per_type_df.choice_amt.fillna(0, inplace=True)"
   ]
  },
  {
   "cell_type": "code",
   "execution_count": 13,
   "metadata": {},
   "outputs": [
    {
     "data": {
      "text/plain": [
       "client_id                       0\n",
       "account_transfer_amt          533\n",
       "card_amt                     2577\n",
       "choice_amt                      0\n",
       "deposit_amt                     0\n",
       "transfer_from_account_amt    1922\n",
       "dtype: int64"
      ]
     },
     "execution_count": 13,
     "metadata": {},
     "output_type": "execute_result"
    }
   ],
   "source": [
    "amount_per_ope_df.isnull().sum()"
   ]
  },
  {
   "cell_type": "code",
   "execution_count": 14,
   "metadata": {},
   "outputs": [],
   "source": [
    "amount_per_ope_df.fillna(0, inplace=True)"
   ]
  },
  {
   "cell_type": "markdown",
   "metadata": {},
   "source": [
    "    7. Rezultate iz C, D i E spojiti u jedan skup podataka nad kojim će se raditi klasterovanje od koraka 3."
   ]
  },
  {
   "cell_type": "code",
   "execution_count": 15,
   "metadata": {
    "scrolled": true
   },
   "outputs": [
    {
     "data": {
      "text/html": [
       "<div>\n",
       "<style scoped>\n",
       "    .dataframe tbody tr th:only-of-type {\n",
       "        vertical-align: middle;\n",
       "    }\n",
       "\n",
       "    .dataframe tbody tr th {\n",
       "        vertical-align: top;\n",
       "    }\n",
       "\n",
       "    .dataframe thead th {\n",
       "        text-align: right;\n",
       "    }\n",
       "</style>\n",
       "<table border=\"1\" class=\"dataframe\">\n",
       "  <thead>\n",
       "    <tr style=\"text-align: right;\">\n",
       "      <th></th>\n",
       "      <th>client_id</th>\n",
       "      <th>account_id</th>\n",
       "      <th>choice_amt_x</th>\n",
       "      <th>expenditure_amt</th>\n",
       "      <th>income_amt</th>\n",
       "      <th>account_transfer_amt</th>\n",
       "      <th>card_amt</th>\n",
       "      <th>choice_amt_y</th>\n",
       "      <th>deposit_amt</th>\n",
       "      <th>transfer_from_account_amt</th>\n",
       "    </tr>\n",
       "  </thead>\n",
       "  <tbody>\n",
       "    <tr>\n",
       "      <th>0</th>\n",
       "      <td>1.0</td>\n",
       "      <td>1</td>\n",
       "      <td>0.0</td>\n",
       "      <td>180854.0</td>\n",
       "      <td>194320.5</td>\n",
       "      <td>98080.0</td>\n",
       "      <td>0.0</td>\n",
       "      <td>82774.0</td>\n",
       "      <td>25700.0</td>\n",
       "      <td>165555.0</td>\n",
       "    </tr>\n",
       "    <tr>\n",
       "      <th>1</th>\n",
       "      <td>2.0</td>\n",
       "      <td>2</td>\n",
       "      <td>217442.0</td>\n",
       "      <td>1458946.6</td>\n",
       "      <td>1770112.5</td>\n",
       "      <td>618247.8</td>\n",
       "      <td>0.0</td>\n",
       "      <td>1058140.8</td>\n",
       "      <td>219389.0</td>\n",
       "      <td>1537936.0</td>\n",
       "    </tr>\n",
       "    <tr>\n",
       "      <th>2</th>\n",
       "      <td>3.0</td>\n",
       "      <td>2</td>\n",
       "      <td>0.0</td>\n",
       "      <td>228021.8</td>\n",
       "      <td>289831.0</td>\n",
       "      <td>136164.0</td>\n",
       "      <td>0.0</td>\n",
       "      <td>91857.8</td>\n",
       "      <td>1400.0</td>\n",
       "      <td>284125.0</td>\n",
       "    </tr>\n",
       "    <tr>\n",
       "      <th>3</th>\n",
       "      <td>4.0</td>\n",
       "      <td>1</td>\n",
       "      <td>0.0</td>\n",
       "      <td>299949.6</td>\n",
       "      <td>347617.5</td>\n",
       "      <td>185838.0</td>\n",
       "      <td>0.0</td>\n",
       "      <td>114111.6</td>\n",
       "      <td>900.0</td>\n",
       "      <td>340119.0</td>\n",
       "    </tr>\n",
       "    <tr>\n",
       "      <th>4</th>\n",
       "      <td>5.0</td>\n",
       "      <td>1</td>\n",
       "      <td>0.0</td>\n",
       "      <td>561772.0</td>\n",
       "      <td>630267.9</td>\n",
       "      <td>97600.0</td>\n",
       "      <td>5900.0</td>\n",
       "      <td>458272.0</td>\n",
       "      <td>623775.0</td>\n",
       "      <td>0.0</td>\n",
       "    </tr>\n",
       "  </tbody>\n",
       "</table>\n",
       "</div>"
      ],
      "text/plain": [
       "   client_id  account_id  choice_amt_x  expenditure_amt  income_amt  \\\n",
       "0        1.0           1           0.0         180854.0    194320.5   \n",
       "1        2.0           2      217442.0        1458946.6   1770112.5   \n",
       "2        3.0           2           0.0         228021.8    289831.0   \n",
       "3        4.0           1           0.0         299949.6    347617.5   \n",
       "4        5.0           1           0.0         561772.0    630267.9   \n",
       "\n",
       "   account_transfer_amt  card_amt  choice_amt_y  deposit_amt  \\\n",
       "0               98080.0       0.0       82774.0      25700.0   \n",
       "1              618247.8       0.0     1058140.8     219389.0   \n",
       "2              136164.0       0.0       91857.8       1400.0   \n",
       "3              185838.0       0.0      114111.6        900.0   \n",
       "4               97600.0    5900.0      458272.0     623775.0   \n",
       "\n",
       "   transfer_from_account_amt  \n",
       "0                   165555.0  \n",
       "1                  1537936.0  \n",
       "2                   284125.0  \n",
       "3                   340119.0  \n",
       "4                        0.0  "
      ]
     },
     "execution_count": 15,
     "metadata": {},
     "output_type": "execute_result"
    }
   ],
   "source": [
    "pcdf = client_df.merge(amount_per_type_df,on='client_id').merge(amount_per_ope_df,on='client_id')\n",
    "pcdf.head()"
   ]
  },
  {
   "cell_type": "code",
   "execution_count": 16,
   "metadata": {},
   "outputs": [
    {
     "data": {
      "text/html": [
       "<div>\n",
       "<style scoped>\n",
       "    .dataframe tbody tr th:only-of-type {\n",
       "        vertical-align: middle;\n",
       "    }\n",
       "\n",
       "    .dataframe tbody tr th {\n",
       "        vertical-align: top;\n",
       "    }\n",
       "\n",
       "    .dataframe thead th {\n",
       "        text-align: right;\n",
       "    }\n",
       "</style>\n",
       "<table border=\"1\" class=\"dataframe\">\n",
       "  <thead>\n",
       "    <tr style=\"text-align: right;\">\n",
       "      <th></th>\n",
       "      <th>choice_amt_x</th>\n",
       "      <th>expenditure_amt</th>\n",
       "      <th>income_amt</th>\n",
       "      <th>account_transfer_amt</th>\n",
       "      <th>card_amt</th>\n",
       "      <th>choice_amt_y</th>\n",
       "      <th>deposit_amt</th>\n",
       "      <th>transfer_from_account_amt</th>\n",
       "    </tr>\n",
       "    <tr>\n",
       "      <th>client_id</th>\n",
       "      <th></th>\n",
       "      <th></th>\n",
       "      <th></th>\n",
       "      <th></th>\n",
       "      <th></th>\n",
       "      <th></th>\n",
       "      <th></th>\n",
       "      <th></th>\n",
       "    </tr>\n",
       "  </thead>\n",
       "  <tbody>\n",
       "    <tr>\n",
       "      <th>1.0</th>\n",
       "      <td>0.0</td>\n",
       "      <td>180854.0</td>\n",
       "      <td>194320.5</td>\n",
       "      <td>98080.0</td>\n",
       "      <td>0.0</td>\n",
       "      <td>82774.0</td>\n",
       "      <td>25700.0</td>\n",
       "      <td>165555.0</td>\n",
       "    </tr>\n",
       "    <tr>\n",
       "      <th>2.0</th>\n",
       "      <td>217442.0</td>\n",
       "      <td>1458946.6</td>\n",
       "      <td>1770112.5</td>\n",
       "      <td>618247.8</td>\n",
       "      <td>0.0</td>\n",
       "      <td>1058140.8</td>\n",
       "      <td>219389.0</td>\n",
       "      <td>1537936.0</td>\n",
       "    </tr>\n",
       "    <tr>\n",
       "      <th>3.0</th>\n",
       "      <td>0.0</td>\n",
       "      <td>228021.8</td>\n",
       "      <td>289831.0</td>\n",
       "      <td>136164.0</td>\n",
       "      <td>0.0</td>\n",
       "      <td>91857.8</td>\n",
       "      <td>1400.0</td>\n",
       "      <td>284125.0</td>\n",
       "    </tr>\n",
       "    <tr>\n",
       "      <th>4.0</th>\n",
       "      <td>0.0</td>\n",
       "      <td>299949.6</td>\n",
       "      <td>347617.5</td>\n",
       "      <td>185838.0</td>\n",
       "      <td>0.0</td>\n",
       "      <td>114111.6</td>\n",
       "      <td>900.0</td>\n",
       "      <td>340119.0</td>\n",
       "    </tr>\n",
       "    <tr>\n",
       "      <th>5.0</th>\n",
       "      <td>0.0</td>\n",
       "      <td>561772.0</td>\n",
       "      <td>630267.9</td>\n",
       "      <td>97600.0</td>\n",
       "      <td>5900.0</td>\n",
       "      <td>458272.0</td>\n",
       "      <td>623775.0</td>\n",
       "      <td>0.0</td>\n",
       "    </tr>\n",
       "  </tbody>\n",
       "</table>\n",
       "</div>"
      ],
      "text/plain": [
       "           choice_amt_x  expenditure_amt  income_amt  account_transfer_amt  \\\n",
       "client_id                                                                    \n",
       "1.0                 0.0         180854.0    194320.5               98080.0   \n",
       "2.0            217442.0        1458946.6   1770112.5              618247.8   \n",
       "3.0                 0.0         228021.8    289831.0              136164.0   \n",
       "4.0                 0.0         299949.6    347617.5              185838.0   \n",
       "5.0                 0.0         561772.0    630267.9               97600.0   \n",
       "\n",
       "           card_amt  choice_amt_y  deposit_amt  transfer_from_account_amt  \n",
       "client_id                                                                  \n",
       "1.0             0.0       82774.0      25700.0                   165555.0  \n",
       "2.0             0.0     1058140.8     219389.0                  1537936.0  \n",
       "3.0             0.0       91857.8       1400.0                   284125.0  \n",
       "4.0             0.0      114111.6        900.0                   340119.0  \n",
       "5.0          5900.0      458272.0     623775.0                        0.0  "
      ]
     },
     "execution_count": 16,
     "metadata": {},
     "output_type": "execute_result"
    }
   ],
   "source": [
    "pcdf = pcdf.drop(columns='account_id')\n",
    "pcdf.set_index('client_id', inplace=True)\n",
    "pcdf.head()"
   ]
  },
  {
   "cell_type": "markdown",
   "metadata": {},
   "source": [
    "## RFM Zadatak"
   ]
  },
  {
   "cell_type": "markdown",
   "metadata": {},
   "source": [
    "    1. Koristiti podatke o transakcijama računa (folder `data` fajl `trans.csv`).\n",
    "    2. Recency da se računa kao broj dana od 10.05.2019. godine.\n",
    "    3. Frequency kao broj transakcija.\n",
    "    4. Monetary kao prosečna vrednost transakcije."
   ]
  },
  {
   "cell_type": "code",
   "execution_count": 17,
   "metadata": {},
   "outputs": [],
   "source": [
    "DATE_TO = '2019-05-10 23:59:59'\n",
    "CLUSTERING_FEATURES_COL = ['recency_raw', 'recency', 'frequency', 'monetary']"
   ]
  },
  {
   "cell_type": "code",
   "execution_count": 18,
   "metadata": {
    "scrolled": true
   },
   "outputs": [
    {
     "data": {
      "text/html": [
       "<div>\n",
       "<style scoped>\n",
       "    .dataframe tbody tr th:only-of-type {\n",
       "        vertical-align: middle;\n",
       "    }\n",
       "\n",
       "    .dataframe tbody tr th {\n",
       "        vertical-align: top;\n",
       "    }\n",
       "\n",
       "    .dataframe thead th {\n",
       "        text-align: right;\n",
       "    }\n",
       "</style>\n",
       "<table border=\"1\" class=\"dataframe\">\n",
       "  <thead>\n",
       "    <tr style=\"text-align: right;\">\n",
       "      <th></th>\n",
       "      <th>trans_id</th>\n",
       "      <th>account_id</th>\n",
       "      <th>date</th>\n",
       "      <th>type</th>\n",
       "      <th>operation</th>\n",
       "      <th>amount</th>\n",
       "      <th>balance</th>\n",
       "      <th>k_symbol</th>\n",
       "      <th>bank</th>\n",
       "      <th>account</th>\n",
       "      <th>client_id</th>\n",
       "    </tr>\n",
       "  </thead>\n",
       "  <tbody>\n",
       "    <tr>\n",
       "      <th>0</th>\n",
       "      <td>695247</td>\n",
       "      <td>2378</td>\n",
       "      <td>2017-09-10 03:24:33</td>\n",
       "      <td>INCOME</td>\n",
       "      <td>DEPOSIT</td>\n",
       "      <td>700.0</td>\n",
       "      <td>700.0</td>\n",
       "      <td>NaN</td>\n",
       "      <td>NaN</td>\n",
       "      <td>NaN</td>\n",
       "      <td>1956.0</td>\n",
       "    </tr>\n",
       "    <tr>\n",
       "      <th>1</th>\n",
       "      <td>171812</td>\n",
       "      <td>576</td>\n",
       "      <td>2017-09-14 03:24:33</td>\n",
       "      <td>INCOME</td>\n",
       "      <td>DEPOSIT</td>\n",
       "      <td>900.0</td>\n",
       "      <td>900.0</td>\n",
       "      <td>NaN</td>\n",
       "      <td>NaN</td>\n",
       "      <td>NaN</td>\n",
       "      <td>478.0</td>\n",
       "    </tr>\n",
       "    <tr>\n",
       "      <th>2</th>\n",
       "      <td>207264</td>\n",
       "      <td>704</td>\n",
       "      <td>2017-09-21 03:24:33</td>\n",
       "      <td>INCOME</td>\n",
       "      <td>DEPOSIT</td>\n",
       "      <td>1000.0</td>\n",
       "      <td>1000.0</td>\n",
       "      <td>NaN</td>\n",
       "      <td>NaN</td>\n",
       "      <td>NaN</td>\n",
       "      <td>586.0</td>\n",
       "    </tr>\n",
       "    <tr>\n",
       "      <th>3</th>\n",
       "      <td>1117247</td>\n",
       "      <td>3818</td>\n",
       "      <td>2017-09-06 03:24:33</td>\n",
       "      <td>INCOME</td>\n",
       "      <td>DEPOSIT</td>\n",
       "      <td>600.0</td>\n",
       "      <td>600.0</td>\n",
       "      <td>NaN</td>\n",
       "      <td>NaN</td>\n",
       "      <td>NaN</td>\n",
       "      <td>3158.0</td>\n",
       "    </tr>\n",
       "    <tr>\n",
       "      <th>4</th>\n",
       "      <td>579373</td>\n",
       "      <td>1972</td>\n",
       "      <td>2017-09-19 03:41:13</td>\n",
       "      <td>INCOME</td>\n",
       "      <td>DEPOSIT</td>\n",
       "      <td>400.0</td>\n",
       "      <td>400.0</td>\n",
       "      <td>NaN</td>\n",
       "      <td>NaN</td>\n",
       "      <td>NaN</td>\n",
       "      <td>1627.0</td>\n",
       "    </tr>\n",
       "    <tr>\n",
       "      <th>5</th>\n",
       "      <td>771035</td>\n",
       "      <td>2632</td>\n",
       "      <td>2017-09-12 03:41:13</td>\n",
       "      <td>INCOME</td>\n",
       "      <td>DEPOSIT</td>\n",
       "      <td>1100.0</td>\n",
       "      <td>1100.0</td>\n",
       "      <td>NaN</td>\n",
       "      <td>NaN</td>\n",
       "      <td>NaN</td>\n",
       "      <td>2174.0</td>\n",
       "    </tr>\n",
       "    <tr>\n",
       "      <th>6</th>\n",
       "      <td>452728</td>\n",
       "      <td>1539</td>\n",
       "      <td>2017-09-08 03:57:53</td>\n",
       "      <td>INCOME</td>\n",
       "      <td>DEPOSIT</td>\n",
       "      <td>600.0</td>\n",
       "      <td>600.0</td>\n",
       "      <td>NaN</td>\n",
       "      <td>NaN</td>\n",
       "      <td>NaN</td>\n",
       "      <td>1275.0</td>\n",
       "    </tr>\n",
       "    <tr>\n",
       "      <th>7</th>\n",
       "      <td>725751</td>\n",
       "      <td>2484</td>\n",
       "      <td>2017-09-07 03:57:53</td>\n",
       "      <td>INCOME</td>\n",
       "      <td>DEPOSIT</td>\n",
       "      <td>1100.0</td>\n",
       "      <td>1100.0</td>\n",
       "      <td>NaN</td>\n",
       "      <td>NaN</td>\n",
       "      <td>NaN</td>\n",
       "      <td>2046.0</td>\n",
       "    </tr>\n",
       "    <tr>\n",
       "      <th>8</th>\n",
       "      <td>497211</td>\n",
       "      <td>1695</td>\n",
       "      <td>2017-09-22 03:57:53</td>\n",
       "      <td>INCOME</td>\n",
       "      <td>DEPOSIT</td>\n",
       "      <td>200.0</td>\n",
       "      <td>200.0</td>\n",
       "      <td>NaN</td>\n",
       "      <td>NaN</td>\n",
       "      <td>NaN</td>\n",
       "      <td>NaN</td>\n",
       "    </tr>\n",
       "    <tr>\n",
       "      <th>9</th>\n",
       "      <td>232960</td>\n",
       "      <td>793</td>\n",
       "      <td>2017-09-08 03:57:53</td>\n",
       "      <td>INCOME</td>\n",
       "      <td>DEPOSIT</td>\n",
       "      <td>800.0</td>\n",
       "      <td>800.0</td>\n",
       "      <td>NaN</td>\n",
       "      <td>NaN</td>\n",
       "      <td>NaN</td>\n",
       "      <td>662.0</td>\n",
       "    </tr>\n",
       "    <tr>\n",
       "      <th>10</th>\n",
       "      <td>505240</td>\n",
       "      <td>1726</td>\n",
       "      <td>2017-09-15 03:57:53</td>\n",
       "      <td>INCOME</td>\n",
       "      <td>DEPOSIT</td>\n",
       "      <td>1000.0</td>\n",
       "      <td>1000.0</td>\n",
       "      <td>NaN</td>\n",
       "      <td>NaN</td>\n",
       "      <td>NaN</td>\n",
       "      <td>1423.0</td>\n",
       "    </tr>\n",
       "    <tr>\n",
       "      <th>11</th>\n",
       "      <td>144541</td>\n",
       "      <td>485</td>\n",
       "      <td>2017-09-11 04:14:33</td>\n",
       "      <td>INCOME</td>\n",
       "      <td>DEPOSIT</td>\n",
       "      <td>300.0</td>\n",
       "      <td>300.0</td>\n",
       "      <td>NaN</td>\n",
       "      <td>NaN</td>\n",
       "      <td>NaN</td>\n",
       "      <td>401.0</td>\n",
       "    </tr>\n",
       "    <tr>\n",
       "      <th>12</th>\n",
       "      <td>637741</td>\n",
       "      <td>2177</td>\n",
       "      <td>2017-09-08 04:14:33</td>\n",
       "      <td>INCOME</td>\n",
       "      <td>DEPOSIT</td>\n",
       "      <td>800.0</td>\n",
       "      <td>800.0</td>\n",
       "      <td>NaN</td>\n",
       "      <td>NaN</td>\n",
       "      <td>NaN</td>\n",
       "      <td>1797.0</td>\n",
       "    </tr>\n",
       "    <tr>\n",
       "      <th>13</th>\n",
       "      <td>689827</td>\n",
       "      <td>2357</td>\n",
       "      <td>2017-09-08 04:14:33</td>\n",
       "      <td>INCOME</td>\n",
       "      <td>DEPOSIT</td>\n",
       "      <td>800.0</td>\n",
       "      <td>800.0</td>\n",
       "      <td>NaN</td>\n",
       "      <td>NaN</td>\n",
       "      <td>NaN</td>\n",
       "      <td>1940.0</td>\n",
       "    </tr>\n",
       "    <tr>\n",
       "      <th>14</th>\n",
       "      <td>846006</td>\n",
       "      <td>2881</td>\n",
       "      <td>2017-09-20 04:14:33</td>\n",
       "      <td>INCOME</td>\n",
       "      <td>DEPOSIT</td>\n",
       "      <td>700.0</td>\n",
       "      <td>700.0</td>\n",
       "      <td>NaN</td>\n",
       "      <td>NaN</td>\n",
       "      <td>NaN</td>\n",
       "      <td>2386.0</td>\n",
       "    </tr>\n",
       "    <tr>\n",
       "      <th>15</th>\n",
       "      <td>637742</td>\n",
       "      <td>2177</td>\n",
       "      <td>2017-09-09 04:31:13</td>\n",
       "      <td>INCOME</td>\n",
       "      <td>TRANSFER FROM ACCOUNT</td>\n",
       "      <td>5123.0</td>\n",
       "      <td>5923.0</td>\n",
       "      <td>DUCHOD</td>\n",
       "      <td>YZ</td>\n",
       "      <td>62457513.0</td>\n",
       "      <td>1797.0</td>\n",
       "    </tr>\n",
       "    <tr>\n",
       "      <th>16</th>\n",
       "      <td>2908688</td>\n",
       "      <td>9635</td>\n",
       "      <td>2017-09-12 04:31:13</td>\n",
       "      <td>INCOME</td>\n",
       "      <td>DEPOSIT</td>\n",
       "      <td>400.0</td>\n",
       "      <td>400.0</td>\n",
       "      <td>NaN</td>\n",
       "      <td>NaN</td>\n",
       "      <td>NaN</td>\n",
       "      <td>NaN</td>\n",
       "    </tr>\n",
       "    <tr>\n",
       "      <th>17</th>\n",
       "      <td>232961</td>\n",
       "      <td>793</td>\n",
       "      <td>2017-09-10 04:31:13</td>\n",
       "      <td>INCOME</td>\n",
       "      <td>TRANSFER FROM ACCOUNT</td>\n",
       "      <td>3401.0</td>\n",
       "      <td>4201.0</td>\n",
       "      <td>NaN</td>\n",
       "      <td>IJ</td>\n",
       "      <td>6149286.0</td>\n",
       "      <td>662.0</td>\n",
       "    </tr>\n",
       "    <tr>\n",
       "      <th>18</th>\n",
       "      <td>192096</td>\n",
       "      <td>652</td>\n",
       "      <td>2017-09-06 04:31:13</td>\n",
       "      <td>INCOME</td>\n",
       "      <td>DEPOSIT</td>\n",
       "      <td>700.0</td>\n",
       "      <td>700.0</td>\n",
       "      <td>NaN</td>\n",
       "      <td>NaN</td>\n",
       "      <td>NaN</td>\n",
       "      <td>541.0</td>\n",
       "    </tr>\n",
       "    <tr>\n",
       "      <th>19</th>\n",
       "      <td>542215</td>\n",
       "      <td>1844</td>\n",
       "      <td>2017-09-10 04:47:53</td>\n",
       "      <td>INCOME</td>\n",
       "      <td>DEPOSIT</td>\n",
       "      <td>500.0</td>\n",
       "      <td>500.0</td>\n",
       "      <td>NaN</td>\n",
       "      <td>NaN</td>\n",
       "      <td>NaN</td>\n",
       "      <td>1521.0</td>\n",
       "    </tr>\n",
       "    <tr>\n",
       "      <th>20</th>\n",
       "      <td>565654</td>\n",
       "      <td>1926</td>\n",
       "      <td>2017-09-20 04:47:53</td>\n",
       "      <td>INCOME</td>\n",
       "      <td>DEPOSIT</td>\n",
       "      <td>700.0</td>\n",
       "      <td>700.0</td>\n",
       "      <td>NaN</td>\n",
       "      <td>NaN</td>\n",
       "      <td>NaN</td>\n",
       "      <td>1589.0</td>\n",
       "    </tr>\n",
       "    <tr>\n",
       "      <th>21</th>\n",
       "      <td>542216</td>\n",
       "      <td>1844</td>\n",
       "      <td>2017-09-21 05:04:33</td>\n",
       "      <td>INCOME</td>\n",
       "      <td>TRANSFER FROM ACCOUNT</td>\n",
       "      <td>3242.0</td>\n",
       "      <td>3742.0</td>\n",
       "      <td>NaN</td>\n",
       "      <td>ST</td>\n",
       "      <td>42988401.0</td>\n",
       "      <td>1521.0</td>\n",
       "    </tr>\n",
       "    <tr>\n",
       "      <th>22</th>\n",
       "      <td>1027725</td>\n",
       "      <td>3510</td>\n",
       "      <td>2017-09-07 05:04:33</td>\n",
       "      <td>INCOME</td>\n",
       "      <td>DEPOSIT</td>\n",
       "      <td>500.0</td>\n",
       "      <td>500.0</td>\n",
       "      <td>NaN</td>\n",
       "      <td>NaN</td>\n",
       "      <td>NaN</td>\n",
       "      <td>2904.0</td>\n",
       "    </tr>\n",
       "    <tr>\n",
       "      <th>23</th>\n",
       "      <td>374589</td>\n",
       "      <td>1276</td>\n",
       "      <td>2017-09-10 05:04:33</td>\n",
       "      <td>INCOME</td>\n",
       "      <td>DEPOSIT</td>\n",
       "      <td>400.0</td>\n",
       "      <td>400.0</td>\n",
       "      <td>NaN</td>\n",
       "      <td>NaN</td>\n",
       "      <td>NaN</td>\n",
       "      <td>1063.0</td>\n",
       "    </tr>\n",
       "    <tr>\n",
       "      <th>24</th>\n",
       "      <td>579374</td>\n",
       "      <td>1972</td>\n",
       "      <td>2017-09-19 05:04:33</td>\n",
       "      <td>INCOME</td>\n",
       "      <td>TRANSFER FROM ACCOUNT</td>\n",
       "      <td>5298.0</td>\n",
       "      <td>5698.0</td>\n",
       "      <td>DUCHOD</td>\n",
       "      <td>UV</td>\n",
       "      <td>14132887.0</td>\n",
       "      <td>1627.0</td>\n",
       "    </tr>\n",
       "    <tr>\n",
       "      <th>25</th>\n",
       "      <td>699220</td>\n",
       "      <td>2393</td>\n",
       "      <td>2017-09-21 05:04:33</td>\n",
       "      <td>INCOME</td>\n",
       "      <td>DEPOSIT</td>\n",
       "      <td>900.0</td>\n",
       "      <td>900.0</td>\n",
       "      <td>NaN</td>\n",
       "      <td>NaN</td>\n",
       "      <td>NaN</td>\n",
       "      <td>1968.0</td>\n",
       "    </tr>\n",
       "    <tr>\n",
       "      <th>26</th>\n",
       "      <td>129502</td>\n",
       "      <td>435</td>\n",
       "      <td>2017-09-20 05:21:13</td>\n",
       "      <td>INCOME</td>\n",
       "      <td>DEPOSIT</td>\n",
       "      <td>400.0</td>\n",
       "      <td>400.0</td>\n",
       "      <td>NaN</td>\n",
       "      <td>NaN</td>\n",
       "      <td>NaN</td>\n",
       "      <td>357.0</td>\n",
       "    </tr>\n",
       "    <tr>\n",
       "      <th>27</th>\n",
       "      <td>374590</td>\n",
       "      <td>1276</td>\n",
       "      <td>2017-09-10 05:21:13</td>\n",
       "      <td>INCOME</td>\n",
       "      <td>DEPOSIT</td>\n",
       "      <td>6774.0</td>\n",
       "      <td>7174.0</td>\n",
       "      <td>NaN</td>\n",
       "      <td>NaN</td>\n",
       "      <td>NaN</td>\n",
       "      <td>1063.0</td>\n",
       "    </tr>\n",
       "    <tr>\n",
       "      <th>28</th>\n",
       "      <td>57433</td>\n",
       "      <td>192</td>\n",
       "      <td>2017-09-22 05:21:13</td>\n",
       "      <td>INCOME</td>\n",
       "      <td>DEPOSIT</td>\n",
       "      <td>300.0</td>\n",
       "      <td>300.0</td>\n",
       "      <td>NaN</td>\n",
       "      <td>NaN</td>\n",
       "      <td>NaN</td>\n",
       "      <td>159.0</td>\n",
       "    </tr>\n",
       "    <tr>\n",
       "      <th>29</th>\n",
       "      <td>497212</td>\n",
       "      <td>1695</td>\n",
       "      <td>2017-09-20 05:21:13</td>\n",
       "      <td>INCOME</td>\n",
       "      <td>DEPOSIT</td>\n",
       "      <td>11832.0</td>\n",
       "      <td>12032.0</td>\n",
       "      <td>NaN</td>\n",
       "      <td>NaN</td>\n",
       "      <td>NaN</td>\n",
       "      <td>NaN</td>\n",
       "    </tr>\n",
       "    <tr>\n",
       "      <th>...</th>\n",
       "      <td>...</td>\n",
       "      <td>...</td>\n",
       "      <td>...</td>\n",
       "      <td>...</td>\n",
       "      <td>...</td>\n",
       "      <td>...</td>\n",
       "      <td>...</td>\n",
       "      <td>...</td>\n",
       "      <td>...</td>\n",
       "      <td>...</td>\n",
       "      <td>...</td>\n",
       "    </tr>\n",
       "    <tr>\n",
       "      <th>1056290</th>\n",
       "      <td>3625267</td>\n",
       "      <td>2866</td>\n",
       "      <td>2019-05-02 21:11:13</td>\n",
       "      <td>INCOME</td>\n",
       "      <td>NaN</td>\n",
       "      <td>152.3</td>\n",
       "      <td>36677.1</td>\n",
       "      <td>UROK</td>\n",
       "      <td>NaN</td>\n",
       "      <td>NaN</td>\n",
       "      <td>2371.0</td>\n",
       "    </tr>\n",
       "    <tr>\n",
       "      <th>1056291</th>\n",
       "      <td>3626903</td>\n",
       "      <td>2913</td>\n",
       "      <td>2019-04-26 21:11:13</td>\n",
       "      <td>INCOME</td>\n",
       "      <td>NaN</td>\n",
       "      <td>69.9</td>\n",
       "      <td>17981.9</td>\n",
       "      <td>UROK</td>\n",
       "      <td>NaN</td>\n",
       "      <td>NaN</td>\n",
       "      <td>2411.0</td>\n",
       "    </tr>\n",
       "    <tr>\n",
       "      <th>1056292</th>\n",
       "      <td>3626931</td>\n",
       "      <td>2914</td>\n",
       "      <td>2019-05-07 21:11:13</td>\n",
       "      <td>INCOME</td>\n",
       "      <td>NaN</td>\n",
       "      <td>164.4</td>\n",
       "      <td>40322.2</td>\n",
       "      <td>UROK</td>\n",
       "      <td>NaN</td>\n",
       "      <td>NaN</td>\n",
       "      <td>NaN</td>\n",
       "    </tr>\n",
       "    <tr>\n",
       "      <th>1056293</th>\n",
       "      <td>3627338</td>\n",
       "      <td>2928</td>\n",
       "      <td>2019-04-28 21:11:13</td>\n",
       "      <td>INCOME</td>\n",
       "      <td>NaN</td>\n",
       "      <td>106.5</td>\n",
       "      <td>26655.7</td>\n",
       "      <td>UROK</td>\n",
       "      <td>NaN</td>\n",
       "      <td>NaN</td>\n",
       "      <td>2423.0</td>\n",
       "    </tr>\n",
       "    <tr>\n",
       "      <th>1056294</th>\n",
       "      <td>3628932</td>\n",
       "      <td>2972</td>\n",
       "      <td>2019-05-03 21:11:13</td>\n",
       "      <td>INCOME</td>\n",
       "      <td>NaN</td>\n",
       "      <td>224.9</td>\n",
       "      <td>75999.3</td>\n",
       "      <td>UROK</td>\n",
       "      <td>NaN</td>\n",
       "      <td>NaN</td>\n",
       "      <td>2461.0</td>\n",
       "    </tr>\n",
       "    <tr>\n",
       "      <th>1056295</th>\n",
       "      <td>3626956</td>\n",
       "      <td>2916</td>\n",
       "      <td>2019-05-03 21:11:13</td>\n",
       "      <td>INCOME</td>\n",
       "      <td>NaN</td>\n",
       "      <td>159.6</td>\n",
       "      <td>40488.2</td>\n",
       "      <td>UROK</td>\n",
       "      <td>NaN</td>\n",
       "      <td>NaN</td>\n",
       "      <td>2414.0</td>\n",
       "    </tr>\n",
       "    <tr>\n",
       "      <th>1056296</th>\n",
       "      <td>3625228</td>\n",
       "      <td>2865</td>\n",
       "      <td>2019-04-26 21:11:13</td>\n",
       "      <td>INCOME</td>\n",
       "      <td>NaN</td>\n",
       "      <td>103.2</td>\n",
       "      <td>27594.2</td>\n",
       "      <td>UROK</td>\n",
       "      <td>NaN</td>\n",
       "      <td>NaN</td>\n",
       "      <td>2371.0</td>\n",
       "    </tr>\n",
       "    <tr>\n",
       "      <th>1056297</th>\n",
       "      <td>3626984</td>\n",
       "      <td>2917</td>\n",
       "      <td>2019-05-05 21:11:13</td>\n",
       "      <td>INCOME</td>\n",
       "      <td>NaN</td>\n",
       "      <td>199.0</td>\n",
       "      <td>46961.8</td>\n",
       "      <td>UROK</td>\n",
       "      <td>NaN</td>\n",
       "      <td>NaN</td>\n",
       "      <td>2415.0</td>\n",
       "    </tr>\n",
       "    <tr>\n",
       "      <th>1056298</th>\n",
       "      <td>3626847</td>\n",
       "      <td>2912</td>\n",
       "      <td>2019-05-06 21:11:13</td>\n",
       "      <td>INCOME</td>\n",
       "      <td>NaN</td>\n",
       "      <td>271.6</td>\n",
       "      <td>58694.2</td>\n",
       "      <td>UROK</td>\n",
       "      <td>NaN</td>\n",
       "      <td>NaN</td>\n",
       "      <td>2410.0</td>\n",
       "    </tr>\n",
       "    <tr>\n",
       "      <th>1056299</th>\n",
       "      <td>3627667</td>\n",
       "      <td>2937</td>\n",
       "      <td>2019-05-01 21:11:13</td>\n",
       "      <td>INCOME</td>\n",
       "      <td>NaN</td>\n",
       "      <td>48.1</td>\n",
       "      <td>12251.0</td>\n",
       "      <td>UROK</td>\n",
       "      <td>NaN</td>\n",
       "      <td>NaN</td>\n",
       "      <td>2431.0</td>\n",
       "    </tr>\n",
       "    <tr>\n",
       "      <th>1056300</th>\n",
       "      <td>3625540</td>\n",
       "      <td>2874</td>\n",
       "      <td>2019-05-08 21:11:13</td>\n",
       "      <td>INCOME</td>\n",
       "      <td>NaN</td>\n",
       "      <td>56.8</td>\n",
       "      <td>13961.9</td>\n",
       "      <td>UROK</td>\n",
       "      <td>NaN</td>\n",
       "      <td>NaN</td>\n",
       "      <td>2379.0</td>\n",
       "    </tr>\n",
       "    <tr>\n",
       "      <th>1056301</th>\n",
       "      <td>3626428</td>\n",
       "      <td>2898</td>\n",
       "      <td>2019-05-01 21:11:13</td>\n",
       "      <td>INCOME</td>\n",
       "      <td>NaN</td>\n",
       "      <td>195.2</td>\n",
       "      <td>38402.4</td>\n",
       "      <td>UROK</td>\n",
       "      <td>NaN</td>\n",
       "      <td>NaN</td>\n",
       "      <td>2400.0</td>\n",
       "    </tr>\n",
       "    <tr>\n",
       "      <th>1056302</th>\n",
       "      <td>3626449</td>\n",
       "      <td>2899</td>\n",
       "      <td>2019-04-25 21:11:13</td>\n",
       "      <td>INCOME</td>\n",
       "      <td>NaN</td>\n",
       "      <td>296.0</td>\n",
       "      <td>79359.6</td>\n",
       "      <td>UROK</td>\n",
       "      <td>NaN</td>\n",
       "      <td>NaN</td>\n",
       "      <td>2401.0</td>\n",
       "    </tr>\n",
       "    <tr>\n",
       "      <th>1056303</th>\n",
       "      <td>3625519</td>\n",
       "      <td>2873</td>\n",
       "      <td>2019-04-23 21:11:13</td>\n",
       "      <td>INCOME</td>\n",
       "      <td>NaN</td>\n",
       "      <td>310.1</td>\n",
       "      <td>77497.6</td>\n",
       "      <td>UROK</td>\n",
       "      <td>NaN</td>\n",
       "      <td>NaN</td>\n",
       "      <td>2378.0</td>\n",
       "    </tr>\n",
       "    <tr>\n",
       "      <th>1056304</th>\n",
       "      <td>3626469</td>\n",
       "      <td>2901</td>\n",
       "      <td>2019-05-04 21:11:13</td>\n",
       "      <td>INCOME</td>\n",
       "      <td>NaN</td>\n",
       "      <td>237.2</td>\n",
       "      <td>55462.0</td>\n",
       "      <td>UROK</td>\n",
       "      <td>NaN</td>\n",
       "      <td>NaN</td>\n",
       "      <td>2403.0</td>\n",
       "    </tr>\n",
       "    <tr>\n",
       "      <th>1056305</th>\n",
       "      <td>3627813</td>\n",
       "      <td>2940</td>\n",
       "      <td>2019-05-05 21:11:13</td>\n",
       "      <td>INCOME</td>\n",
       "      <td>NaN</td>\n",
       "      <td>181.2</td>\n",
       "      <td>38006.4</td>\n",
       "      <td>UROK</td>\n",
       "      <td>NaN</td>\n",
       "      <td>NaN</td>\n",
       "      <td>2434.0</td>\n",
       "    </tr>\n",
       "    <tr>\n",
       "      <th>1056306</th>\n",
       "      <td>3627746</td>\n",
       "      <td>2939</td>\n",
       "      <td>2019-04-30 21:11:13</td>\n",
       "      <td>INCOME</td>\n",
       "      <td>NaN</td>\n",
       "      <td>86.4</td>\n",
       "      <td>20784.2</td>\n",
       "      <td>UROK</td>\n",
       "      <td>NaN</td>\n",
       "      <td>NaN</td>\n",
       "      <td>2433.0</td>\n",
       "    </tr>\n",
       "    <tr>\n",
       "      <th>1056307</th>\n",
       "      <td>3627732</td>\n",
       "      <td>2938</td>\n",
       "      <td>2019-04-30 21:11:13</td>\n",
       "      <td>INCOME</td>\n",
       "      <td>NaN</td>\n",
       "      <td>248.2</td>\n",
       "      <td>50202.6</td>\n",
       "      <td>UROK</td>\n",
       "      <td>NaN</td>\n",
       "      <td>NaN</td>\n",
       "      <td>2432.0</td>\n",
       "    </tr>\n",
       "    <tr>\n",
       "      <th>1056308</th>\n",
       "      <td>3625379</td>\n",
       "      <td>2868</td>\n",
       "      <td>2019-04-21 21:11:13</td>\n",
       "      <td>INCOME</td>\n",
       "      <td>NaN</td>\n",
       "      <td>117.7</td>\n",
       "      <td>28001.9</td>\n",
       "      <td>UROK</td>\n",
       "      <td>NaN</td>\n",
       "      <td>NaN</td>\n",
       "      <td>2373.0</td>\n",
       "    </tr>\n",
       "    <tr>\n",
       "      <th>1056309</th>\n",
       "      <td>3625467</td>\n",
       "      <td>2871</td>\n",
       "      <td>2019-05-08 21:11:13</td>\n",
       "      <td>INCOME</td>\n",
       "      <td>NaN</td>\n",
       "      <td>112.4</td>\n",
       "      <td>27847.7</td>\n",
       "      <td>UROK</td>\n",
       "      <td>NaN</td>\n",
       "      <td>NaN</td>\n",
       "      <td>2376.0</td>\n",
       "    </tr>\n",
       "    <tr>\n",
       "      <th>1056310</th>\n",
       "      <td>3626997</td>\n",
       "      <td>2918</td>\n",
       "      <td>2019-04-21 21:11:13</td>\n",
       "      <td>INCOME</td>\n",
       "      <td>NaN</td>\n",
       "      <td>177.8</td>\n",
       "      <td>53535.7</td>\n",
       "      <td>UROK</td>\n",
       "      <td>NaN</td>\n",
       "      <td>NaN</td>\n",
       "      <td>2416.0</td>\n",
       "    </tr>\n",
       "    <tr>\n",
       "      <th>1056311</th>\n",
       "      <td>3626595</td>\n",
       "      <td>2903</td>\n",
       "      <td>2019-04-30 21:11:13</td>\n",
       "      <td>INCOME</td>\n",
       "      <td>NaN</td>\n",
       "      <td>128.2</td>\n",
       "      <td>21064.3</td>\n",
       "      <td>UROK</td>\n",
       "      <td>NaN</td>\n",
       "      <td>NaN</td>\n",
       "      <td>2404.0</td>\n",
       "    </tr>\n",
       "    <tr>\n",
       "      <th>1056312</th>\n",
       "      <td>3627649</td>\n",
       "      <td>2936</td>\n",
       "      <td>2019-05-06 21:11:13</td>\n",
       "      <td>INCOME</td>\n",
       "      <td>NaN</td>\n",
       "      <td>190.7</td>\n",
       "      <td>45255.1</td>\n",
       "      <td>UROK</td>\n",
       "      <td>NaN</td>\n",
       "      <td>NaN</td>\n",
       "      <td>2430.0</td>\n",
       "    </tr>\n",
       "    <tr>\n",
       "      <th>1056313</th>\n",
       "      <td>3628696</td>\n",
       "      <td>2967</td>\n",
       "      <td>2019-04-22 21:11:13</td>\n",
       "      <td>INCOME</td>\n",
       "      <td>NaN</td>\n",
       "      <td>123.6</td>\n",
       "      <td>23541.1</td>\n",
       "      <td>UROK</td>\n",
       "      <td>NaN</td>\n",
       "      <td>NaN</td>\n",
       "      <td>2457.0</td>\n",
       "    </tr>\n",
       "    <tr>\n",
       "      <th>1056314</th>\n",
       "      <td>3625433</td>\n",
       "      <td>2870</td>\n",
       "      <td>2019-04-23 21:11:13</td>\n",
       "      <td>INCOME</td>\n",
       "      <td>NaN</td>\n",
       "      <td>188.9</td>\n",
       "      <td>44120.0</td>\n",
       "      <td>UROK</td>\n",
       "      <td>NaN</td>\n",
       "      <td>NaN</td>\n",
       "      <td>2375.0</td>\n",
       "    </tr>\n",
       "    <tr>\n",
       "      <th>1056315</th>\n",
       "      <td>3626622</td>\n",
       "      <td>2906</td>\n",
       "      <td>2019-04-25 21:11:13</td>\n",
       "      <td>INCOME</td>\n",
       "      <td>NaN</td>\n",
       "      <td>62.3</td>\n",
       "      <td>13729.4</td>\n",
       "      <td>UROK</td>\n",
       "      <td>NaN</td>\n",
       "      <td>NaN</td>\n",
       "      <td>2406.0</td>\n",
       "    </tr>\n",
       "    <tr>\n",
       "      <th>1056316</th>\n",
       "      <td>3627616</td>\n",
       "      <td>2935</td>\n",
       "      <td>2019-04-27 21:11:13</td>\n",
       "      <td>INCOME</td>\n",
       "      <td>NaN</td>\n",
       "      <td>81.3</td>\n",
       "      <td>19544.9</td>\n",
       "      <td>UROK</td>\n",
       "      <td>NaN</td>\n",
       "      <td>NaN</td>\n",
       "      <td>2429.0</td>\n",
       "    </tr>\n",
       "    <tr>\n",
       "      <th>1056317</th>\n",
       "      <td>3625403</td>\n",
       "      <td>2869</td>\n",
       "      <td>2019-05-09 21:11:13</td>\n",
       "      <td>INCOME</td>\n",
       "      <td>NaN</td>\n",
       "      <td>60.2</td>\n",
       "      <td>14638.2</td>\n",
       "      <td>UROK</td>\n",
       "      <td>NaN</td>\n",
       "      <td>NaN</td>\n",
       "      <td>2374.0</td>\n",
       "    </tr>\n",
       "    <tr>\n",
       "      <th>1056318</th>\n",
       "      <td>3626683</td>\n",
       "      <td>2907</td>\n",
       "      <td>2019-04-24 21:11:13</td>\n",
       "      <td>INCOME</td>\n",
       "      <td>NaN</td>\n",
       "      <td>107.5</td>\n",
       "      <td>23453.0</td>\n",
       "      <td>UROK</td>\n",
       "      <td>NaN</td>\n",
       "      <td>NaN</td>\n",
       "      <td>2406.0</td>\n",
       "    </tr>\n",
       "    <tr>\n",
       "      <th>1056319</th>\n",
       "      <td>3626540</td>\n",
       "      <td>2902</td>\n",
       "      <td>2019-05-03 21:11:13</td>\n",
       "      <td>INCOME</td>\n",
       "      <td>NaN</td>\n",
       "      <td>164.1</td>\n",
       "      <td>41642.9</td>\n",
       "      <td>UROK</td>\n",
       "      <td>NaN</td>\n",
       "      <td>NaN</td>\n",
       "      <td>2404.0</td>\n",
       "    </tr>\n",
       "  </tbody>\n",
       "</table>\n",
       "<p>1056320 rows × 11 columns</p>\n",
       "</div>"
      ],
      "text/plain": [
       "         trans_id  account_id                 date    type  \\\n",
       "0          695247        2378  2017-09-10 03:24:33  INCOME   \n",
       "1          171812         576  2017-09-14 03:24:33  INCOME   \n",
       "2          207264         704  2017-09-21 03:24:33  INCOME   \n",
       "3         1117247        3818  2017-09-06 03:24:33  INCOME   \n",
       "4          579373        1972  2017-09-19 03:41:13  INCOME   \n",
       "5          771035        2632  2017-09-12 03:41:13  INCOME   \n",
       "6          452728        1539  2017-09-08 03:57:53  INCOME   \n",
       "7          725751        2484  2017-09-07 03:57:53  INCOME   \n",
       "8          497211        1695  2017-09-22 03:57:53  INCOME   \n",
       "9          232960         793  2017-09-08 03:57:53  INCOME   \n",
       "10         505240        1726  2017-09-15 03:57:53  INCOME   \n",
       "11         144541         485  2017-09-11 04:14:33  INCOME   \n",
       "12         637741        2177  2017-09-08 04:14:33  INCOME   \n",
       "13         689827        2357  2017-09-08 04:14:33  INCOME   \n",
       "14         846006        2881  2017-09-20 04:14:33  INCOME   \n",
       "15         637742        2177  2017-09-09 04:31:13  INCOME   \n",
       "16        2908688        9635  2017-09-12 04:31:13  INCOME   \n",
       "17         232961         793  2017-09-10 04:31:13  INCOME   \n",
       "18         192096         652  2017-09-06 04:31:13  INCOME   \n",
       "19         542215        1844  2017-09-10 04:47:53  INCOME   \n",
       "20         565654        1926  2017-09-20 04:47:53  INCOME   \n",
       "21         542216        1844  2017-09-21 05:04:33  INCOME   \n",
       "22        1027725        3510  2017-09-07 05:04:33  INCOME   \n",
       "23         374589        1276  2017-09-10 05:04:33  INCOME   \n",
       "24         579374        1972  2017-09-19 05:04:33  INCOME   \n",
       "25         699220        2393  2017-09-21 05:04:33  INCOME   \n",
       "26         129502         435  2017-09-20 05:21:13  INCOME   \n",
       "27         374590        1276  2017-09-10 05:21:13  INCOME   \n",
       "28          57433         192  2017-09-22 05:21:13  INCOME   \n",
       "29         497212        1695  2017-09-20 05:21:13  INCOME   \n",
       "...           ...         ...                  ...     ...   \n",
       "1056290   3625267        2866  2019-05-02 21:11:13  INCOME   \n",
       "1056291   3626903        2913  2019-04-26 21:11:13  INCOME   \n",
       "1056292   3626931        2914  2019-05-07 21:11:13  INCOME   \n",
       "1056293   3627338        2928  2019-04-28 21:11:13  INCOME   \n",
       "1056294   3628932        2972  2019-05-03 21:11:13  INCOME   \n",
       "1056295   3626956        2916  2019-05-03 21:11:13  INCOME   \n",
       "1056296   3625228        2865  2019-04-26 21:11:13  INCOME   \n",
       "1056297   3626984        2917  2019-05-05 21:11:13  INCOME   \n",
       "1056298   3626847        2912  2019-05-06 21:11:13  INCOME   \n",
       "1056299   3627667        2937  2019-05-01 21:11:13  INCOME   \n",
       "1056300   3625540        2874  2019-05-08 21:11:13  INCOME   \n",
       "1056301   3626428        2898  2019-05-01 21:11:13  INCOME   \n",
       "1056302   3626449        2899  2019-04-25 21:11:13  INCOME   \n",
       "1056303   3625519        2873  2019-04-23 21:11:13  INCOME   \n",
       "1056304   3626469        2901  2019-05-04 21:11:13  INCOME   \n",
       "1056305   3627813        2940  2019-05-05 21:11:13  INCOME   \n",
       "1056306   3627746        2939  2019-04-30 21:11:13  INCOME   \n",
       "1056307   3627732        2938  2019-04-30 21:11:13  INCOME   \n",
       "1056308   3625379        2868  2019-04-21 21:11:13  INCOME   \n",
       "1056309   3625467        2871  2019-05-08 21:11:13  INCOME   \n",
       "1056310   3626997        2918  2019-04-21 21:11:13  INCOME   \n",
       "1056311   3626595        2903  2019-04-30 21:11:13  INCOME   \n",
       "1056312   3627649        2936  2019-05-06 21:11:13  INCOME   \n",
       "1056313   3628696        2967  2019-04-22 21:11:13  INCOME   \n",
       "1056314   3625433        2870  2019-04-23 21:11:13  INCOME   \n",
       "1056315   3626622        2906  2019-04-25 21:11:13  INCOME   \n",
       "1056316   3627616        2935  2019-04-27 21:11:13  INCOME   \n",
       "1056317   3625403        2869  2019-05-09 21:11:13  INCOME   \n",
       "1056318   3626683        2907  2019-04-24 21:11:13  INCOME   \n",
       "1056319   3626540        2902  2019-05-03 21:11:13  INCOME   \n",
       "\n",
       "                     operation   amount  balance k_symbol bank     account  \\\n",
       "0                      DEPOSIT    700.0    700.0      NaN  NaN         NaN   \n",
       "1                      DEPOSIT    900.0    900.0      NaN  NaN         NaN   \n",
       "2                      DEPOSIT   1000.0   1000.0      NaN  NaN         NaN   \n",
       "3                      DEPOSIT    600.0    600.0      NaN  NaN         NaN   \n",
       "4                      DEPOSIT    400.0    400.0      NaN  NaN         NaN   \n",
       "5                      DEPOSIT   1100.0   1100.0      NaN  NaN         NaN   \n",
       "6                      DEPOSIT    600.0    600.0      NaN  NaN         NaN   \n",
       "7                      DEPOSIT   1100.0   1100.0      NaN  NaN         NaN   \n",
       "8                      DEPOSIT    200.0    200.0      NaN  NaN         NaN   \n",
       "9                      DEPOSIT    800.0    800.0      NaN  NaN         NaN   \n",
       "10                     DEPOSIT   1000.0   1000.0      NaN  NaN         NaN   \n",
       "11                     DEPOSIT    300.0    300.0      NaN  NaN         NaN   \n",
       "12                     DEPOSIT    800.0    800.0      NaN  NaN         NaN   \n",
       "13                     DEPOSIT    800.0    800.0      NaN  NaN         NaN   \n",
       "14                     DEPOSIT    700.0    700.0      NaN  NaN         NaN   \n",
       "15       TRANSFER FROM ACCOUNT   5123.0   5923.0   DUCHOD   YZ  62457513.0   \n",
       "16                     DEPOSIT    400.0    400.0      NaN  NaN         NaN   \n",
       "17       TRANSFER FROM ACCOUNT   3401.0   4201.0      NaN   IJ   6149286.0   \n",
       "18                     DEPOSIT    700.0    700.0      NaN  NaN         NaN   \n",
       "19                     DEPOSIT    500.0    500.0      NaN  NaN         NaN   \n",
       "20                     DEPOSIT    700.0    700.0      NaN  NaN         NaN   \n",
       "21       TRANSFER FROM ACCOUNT   3242.0   3742.0      NaN   ST  42988401.0   \n",
       "22                     DEPOSIT    500.0    500.0      NaN  NaN         NaN   \n",
       "23                     DEPOSIT    400.0    400.0      NaN  NaN         NaN   \n",
       "24       TRANSFER FROM ACCOUNT   5298.0   5698.0   DUCHOD   UV  14132887.0   \n",
       "25                     DEPOSIT    900.0    900.0      NaN  NaN         NaN   \n",
       "26                     DEPOSIT    400.0    400.0      NaN  NaN         NaN   \n",
       "27                     DEPOSIT   6774.0   7174.0      NaN  NaN         NaN   \n",
       "28                     DEPOSIT    300.0    300.0      NaN  NaN         NaN   \n",
       "29                     DEPOSIT  11832.0  12032.0      NaN  NaN         NaN   \n",
       "...                        ...      ...      ...      ...  ...         ...   \n",
       "1056290                    NaN    152.3  36677.1     UROK  NaN         NaN   \n",
       "1056291                    NaN     69.9  17981.9     UROK  NaN         NaN   \n",
       "1056292                    NaN    164.4  40322.2     UROK  NaN         NaN   \n",
       "1056293                    NaN    106.5  26655.7     UROK  NaN         NaN   \n",
       "1056294                    NaN    224.9  75999.3     UROK  NaN         NaN   \n",
       "1056295                    NaN    159.6  40488.2     UROK  NaN         NaN   \n",
       "1056296                    NaN    103.2  27594.2     UROK  NaN         NaN   \n",
       "1056297                    NaN    199.0  46961.8     UROK  NaN         NaN   \n",
       "1056298                    NaN    271.6  58694.2     UROK  NaN         NaN   \n",
       "1056299                    NaN     48.1  12251.0     UROK  NaN         NaN   \n",
       "1056300                    NaN     56.8  13961.9     UROK  NaN         NaN   \n",
       "1056301                    NaN    195.2  38402.4     UROK  NaN         NaN   \n",
       "1056302                    NaN    296.0  79359.6     UROK  NaN         NaN   \n",
       "1056303                    NaN    310.1  77497.6     UROK  NaN         NaN   \n",
       "1056304                    NaN    237.2  55462.0     UROK  NaN         NaN   \n",
       "1056305                    NaN    181.2  38006.4     UROK  NaN         NaN   \n",
       "1056306                    NaN     86.4  20784.2     UROK  NaN         NaN   \n",
       "1056307                    NaN    248.2  50202.6     UROK  NaN         NaN   \n",
       "1056308                    NaN    117.7  28001.9     UROK  NaN         NaN   \n",
       "1056309                    NaN    112.4  27847.7     UROK  NaN         NaN   \n",
       "1056310                    NaN    177.8  53535.7     UROK  NaN         NaN   \n",
       "1056311                    NaN    128.2  21064.3     UROK  NaN         NaN   \n",
       "1056312                    NaN    190.7  45255.1     UROK  NaN         NaN   \n",
       "1056313                    NaN    123.6  23541.1     UROK  NaN         NaN   \n",
       "1056314                    NaN    188.9  44120.0     UROK  NaN         NaN   \n",
       "1056315                    NaN     62.3  13729.4     UROK  NaN         NaN   \n",
       "1056316                    NaN     81.3  19544.9     UROK  NaN         NaN   \n",
       "1056317                    NaN     60.2  14638.2     UROK  NaN         NaN   \n",
       "1056318                    NaN    107.5  23453.0     UROK  NaN         NaN   \n",
       "1056319                    NaN    164.1  41642.9     UROK  NaN         NaN   \n",
       "\n",
       "         client_id  \n",
       "0           1956.0  \n",
       "1            478.0  \n",
       "2            586.0  \n",
       "3           3158.0  \n",
       "4           1627.0  \n",
       "5           2174.0  \n",
       "6           1275.0  \n",
       "7           2046.0  \n",
       "8              NaN  \n",
       "9            662.0  \n",
       "10          1423.0  \n",
       "11           401.0  \n",
       "12          1797.0  \n",
       "13          1940.0  \n",
       "14          2386.0  \n",
       "15          1797.0  \n",
       "16             NaN  \n",
       "17           662.0  \n",
       "18           541.0  \n",
       "19          1521.0  \n",
       "20          1589.0  \n",
       "21          1521.0  \n",
       "22          2904.0  \n",
       "23          1063.0  \n",
       "24          1627.0  \n",
       "25          1968.0  \n",
       "26           357.0  \n",
       "27          1063.0  \n",
       "28           159.0  \n",
       "29             NaN  \n",
       "...            ...  \n",
       "1056290     2371.0  \n",
       "1056291     2411.0  \n",
       "1056292        NaN  \n",
       "1056293     2423.0  \n",
       "1056294     2461.0  \n",
       "1056295     2414.0  \n",
       "1056296     2371.0  \n",
       "1056297     2415.0  \n",
       "1056298     2410.0  \n",
       "1056299     2431.0  \n",
       "1056300     2379.0  \n",
       "1056301     2400.0  \n",
       "1056302     2401.0  \n",
       "1056303     2378.0  \n",
       "1056304     2403.0  \n",
       "1056305     2434.0  \n",
       "1056306     2433.0  \n",
       "1056307     2432.0  \n",
       "1056308     2373.0  \n",
       "1056309     2376.0  \n",
       "1056310     2416.0  \n",
       "1056311     2404.0  \n",
       "1056312     2430.0  \n",
       "1056313     2457.0  \n",
       "1056314     2375.0  \n",
       "1056315     2406.0  \n",
       "1056316     2429.0  \n",
       "1056317     2374.0  \n",
       "1056318     2406.0  \n",
       "1056319     2404.0  \n",
       "\n",
       "[1056320 rows x 11 columns]"
      ]
     },
     "execution_count": 18,
     "metadata": {},
     "output_type": "execute_result"
    }
   ],
   "source": [
    "df[(df['date']<=DATE_TO)]"
   ]
  },
  {
   "cell_type": "code",
   "execution_count": 19,
   "metadata": {},
   "outputs": [],
   "source": [
    "# filter only purchases happened before observation period end\n",
    "filtered_df = df[(df['date']<=DATE_TO)]"
   ]
  },
  {
   "cell_type": "code",
   "execution_count": 20,
   "metadata": {},
   "outputs": [
    {
     "data": {
      "text/html": [
       "<div>\n",
       "<style scoped>\n",
       "    .dataframe tbody tr th:only-of-type {\n",
       "        vertical-align: middle;\n",
       "    }\n",
       "\n",
       "    .dataframe tbody tr th {\n",
       "        vertical-align: top;\n",
       "    }\n",
       "\n",
       "    .dataframe thead th {\n",
       "        text-align: right;\n",
       "    }\n",
       "</style>\n",
       "<table border=\"1\" class=\"dataframe\">\n",
       "  <thead>\n",
       "    <tr style=\"text-align: right;\">\n",
       "      <th></th>\n",
       "      <th>client_id</th>\n",
       "      <th>trans_count</th>\n",
       "      <th>trans_date_max</th>\n",
       "      <th>amount_mean</th>\n",
       "    </tr>\n",
       "  </thead>\n",
       "  <tbody>\n",
       "    <tr>\n",
       "      <th>0</th>\n",
       "      <td>1.0</td>\n",
       "      <td>239</td>\n",
       "      <td>2019-05-08 13:57:53</td>\n",
       "      <td>1569.767782</td>\n",
       "    </tr>\n",
       "    <tr>\n",
       "      <th>1</th>\n",
       "      <td>2.0</td>\n",
       "      <td>595</td>\n",
       "      <td>2019-05-09 16:44:33</td>\n",
       "      <td>5792.438824</td>\n",
       "    </tr>\n",
       "    <tr>\n",
       "      <th>2</th>\n",
       "      <td>3.0</td>\n",
       "      <td>270</td>\n",
       "      <td>2019-05-08 14:37:53</td>\n",
       "      <td>1917.973333</td>\n",
       "    </tr>\n",
       "    <tr>\n",
       "      <th>3</th>\n",
       "      <td>4.0</td>\n",
       "      <td>246</td>\n",
       "      <td>2019-05-06 15:37:53</td>\n",
       "      <td>2632.386585</td>\n",
       "    </tr>\n",
       "    <tr>\n",
       "      <th>4</th>\n",
       "      <td>5.0</td>\n",
       "      <td>130</td>\n",
       "      <td>2019-05-05 14:14:33</td>\n",
       "      <td>9169.537692</td>\n",
       "    </tr>\n",
       "  </tbody>\n",
       "</table>\n",
       "</div>"
      ],
      "text/plain": [
       "   client_id  trans_count       trans_date_max  amount_mean\n",
       "0        1.0          239  2019-05-08 13:57:53  1569.767782\n",
       "1        2.0          595  2019-05-09 16:44:33  5792.438824\n",
       "2        3.0          270  2019-05-08 14:37:53  1917.973333\n",
       "3        4.0          246  2019-05-06 15:37:53  2632.386585\n",
       "4        5.0          130  2019-05-05 14:14:33  9169.537692"
      ]
     },
     "execution_count": 20,
     "metadata": {},
     "output_type": "execute_result"
    }
   ],
   "source": [
    "# get staging df, with purchase count, average money spent and latest purchase\n",
    "staging_df = filtered_df.groupby('client_id').agg({'trans_id':'count', 'date':'max' ,'amount':'mean'})\n",
    "staging_df.reset_index(inplace=True)\n",
    "staging_df.columns = ['client_id', 'trans_count', 'trans_date_max', 'amount_mean']\n",
    "staging_df.head()"
   ]
  },
  {
   "cell_type": "code",
   "execution_count": 21,
   "metadata": {},
   "outputs": [],
   "source": [
    "staging_df['observation_period_end_date']  = pd.to_datetime(DATE_TO)\n",
    "staging_df['trans_date_max']  = pd.to_datetime(staging_df['trans_date_max'])"
   ]
  },
  {
   "cell_type": "code",
   "execution_count": 22,
   "metadata": {},
   "outputs": [
    {
     "data": {
      "text/html": [
       "<div>\n",
       "<style scoped>\n",
       "    .dataframe tbody tr th:only-of-type {\n",
       "        vertical-align: middle;\n",
       "    }\n",
       "\n",
       "    .dataframe tbody tr th {\n",
       "        vertical-align: top;\n",
       "    }\n",
       "\n",
       "    .dataframe thead th {\n",
       "        text-align: right;\n",
       "    }\n",
       "</style>\n",
       "<table border=\"1\" class=\"dataframe\">\n",
       "  <thead>\n",
       "    <tr style=\"text-align: right;\">\n",
       "      <th></th>\n",
       "      <th>client_id</th>\n",
       "      <th>recency_raw</th>\n",
       "      <th>recency</th>\n",
       "      <th>frequency</th>\n",
       "      <th>monetary</th>\n",
       "    </tr>\n",
       "  </thead>\n",
       "  <tbody>\n",
       "    <tr>\n",
       "      <th>0</th>\n",
       "      <td>1.0</td>\n",
       "      <td>2</td>\n",
       "      <td>0.50</td>\n",
       "      <td>239</td>\n",
       "      <td>1569.767782</td>\n",
       "    </tr>\n",
       "    <tr>\n",
       "      <th>1</th>\n",
       "      <td>2.0</td>\n",
       "      <td>1</td>\n",
       "      <td>1.00</td>\n",
       "      <td>595</td>\n",
       "      <td>5792.438824</td>\n",
       "    </tr>\n",
       "    <tr>\n",
       "      <th>2</th>\n",
       "      <td>3.0</td>\n",
       "      <td>2</td>\n",
       "      <td>0.50</td>\n",
       "      <td>270</td>\n",
       "      <td>1917.973333</td>\n",
       "    </tr>\n",
       "    <tr>\n",
       "      <th>3</th>\n",
       "      <td>4.0</td>\n",
       "      <td>4</td>\n",
       "      <td>0.25</td>\n",
       "      <td>246</td>\n",
       "      <td>2632.386585</td>\n",
       "    </tr>\n",
       "    <tr>\n",
       "      <th>4</th>\n",
       "      <td>5.0</td>\n",
       "      <td>5</td>\n",
       "      <td>0.20</td>\n",
       "      <td>130</td>\n",
       "      <td>9169.537692</td>\n",
       "    </tr>\n",
       "  </tbody>\n",
       "</table>\n",
       "</div>"
      ],
      "text/plain": [
       "   client_id  recency_raw  recency  frequency     monetary\n",
       "0        1.0            2     0.50        239  1569.767782\n",
       "1        2.0            1     1.00        595  5792.438824\n",
       "2        3.0            2     0.50        270  1917.973333\n",
       "3        4.0            4     0.25        246  2632.386585\n",
       "4        5.0            5     0.20        130  9169.537692"
      ]
     },
     "execution_count": 22,
     "metadata": {},
     "output_type": "execute_result"
    }
   ],
   "source": [
    "staging_df['recency_raw'] = (staging_df['observation_period_end_date'].subtract(staging_df['trans_date_max'])).dt.days\n",
    "staging_df['recency'] = 1 / staging_df['recency_raw'] # inverting\n",
    "\n",
    "staging_df.rename(columns={'trans_count':'frequency', 'amount_mean':'monetary'}, inplace=True)\n",
    "columns_to_return = ['client_id'] + CLUSTERING_FEATURES_COL\n",
    "rfm_df = staging_df[columns_to_return]\n",
    "rfm_df.head()"
   ]
  },
  {
   "cell_type": "markdown",
   "metadata": {},
   "source": [
    "    5. Podeliti klijente u 5 grupa i koristeći rfm_group_mapping funkciju (predavanja Segmentacija korisnika)."
   ]
  },
  {
   "cell_type": "code",
   "execution_count": 23,
   "metadata": {},
   "outputs": [],
   "source": [
    "rfm_df['Recency'] = pd.qcut(rfm_df['recency'], q=3, labels=False, duplicates='drop') + 1"
   ]
  },
  {
   "cell_type": "code",
   "execution_count": 24,
   "metadata": {
    "scrolled": true
   },
   "outputs": [
    {
     "data": {
      "text/plain": [
       "1    1322\n",
       "2    1076\n",
       "3     841\n",
       "Name: Recency, dtype: int64"
      ]
     },
     "execution_count": 24,
     "metadata": {},
     "output_type": "execute_result"
    }
   ],
   "source": [
    "rfm_df.Recency.value_counts() #todo: use max-min scaler"
   ]
  },
  {
   "cell_type": "code",
   "execution_count": 25,
   "metadata": {},
   "outputs": [
    {
     "data": {
      "text/plain": [
       "1.0    1322\n",
       "2.5    1076\n",
       "5.0     841\n",
       "Name: Recency, dtype: int64"
      ]
     },
     "execution_count": 25,
     "metadata": {},
     "output_type": "execute_result"
    }
   ],
   "source": [
    "rfm_df.Recency = rfm_df.Recency.replace({1: 1, 2: 2.5, 3:5})\n",
    "rfm_df.Recency.value_counts() "
   ]
  },
  {
   "cell_type": "code",
   "execution_count": 26,
   "metadata": {
    "scrolled": true
   },
   "outputs": [
    {
     "data": {
      "text/html": [
       "<div>\n",
       "<style scoped>\n",
       "    .dataframe tbody tr th:only-of-type {\n",
       "        vertical-align: middle;\n",
       "    }\n",
       "\n",
       "    .dataframe tbody tr th {\n",
       "        vertical-align: top;\n",
       "    }\n",
       "\n",
       "    .dataframe thead th {\n",
       "        text-align: right;\n",
       "    }\n",
       "</style>\n",
       "<table border=\"1\" class=\"dataframe\">\n",
       "  <thead>\n",
       "    <tr style=\"text-align: right;\">\n",
       "      <th></th>\n",
       "      <th>client_id</th>\n",
       "      <th>recency_raw</th>\n",
       "      <th>recency</th>\n",
       "      <th>frequency</th>\n",
       "      <th>monetary</th>\n",
       "      <th>Recency</th>\n",
       "      <th>Frequency</th>\n",
       "      <th>Monetary</th>\n",
       "    </tr>\n",
       "  </thead>\n",
       "  <tbody>\n",
       "    <tr>\n",
       "      <th>0</th>\n",
       "      <td>1.0</td>\n",
       "      <td>2</td>\n",
       "      <td>0.50</td>\n",
       "      <td>239</td>\n",
       "      <td>1569.767782</td>\n",
       "      <td>2.5</td>\n",
       "      <td>3</td>\n",
       "      <td>1</td>\n",
       "    </tr>\n",
       "    <tr>\n",
       "      <th>1</th>\n",
       "      <td>2.0</td>\n",
       "      <td>1</td>\n",
       "      <td>1.00</td>\n",
       "      <td>595</td>\n",
       "      <td>5792.438824</td>\n",
       "      <td>5.0</td>\n",
       "      <td>5</td>\n",
       "      <td>4</td>\n",
       "    </tr>\n",
       "    <tr>\n",
       "      <th>2</th>\n",
       "      <td>3.0</td>\n",
       "      <td>2</td>\n",
       "      <td>0.50</td>\n",
       "      <td>270</td>\n",
       "      <td>1917.973333</td>\n",
       "      <td>2.5</td>\n",
       "      <td>3</td>\n",
       "      <td>1</td>\n",
       "    </tr>\n",
       "    <tr>\n",
       "      <th>3</th>\n",
       "      <td>4.0</td>\n",
       "      <td>4</td>\n",
       "      <td>0.25</td>\n",
       "      <td>246</td>\n",
       "      <td>2632.386585</td>\n",
       "      <td>1.0</td>\n",
       "      <td>3</td>\n",
       "      <td>2</td>\n",
       "    </tr>\n",
       "    <tr>\n",
       "      <th>4</th>\n",
       "      <td>5.0</td>\n",
       "      <td>5</td>\n",
       "      <td>0.20</td>\n",
       "      <td>130</td>\n",
       "      <td>9169.537692</td>\n",
       "      <td>1.0</td>\n",
       "      <td>2</td>\n",
       "      <td>5</td>\n",
       "    </tr>\n",
       "  </tbody>\n",
       "</table>\n",
       "</div>"
      ],
      "text/plain": [
       "   client_id  recency_raw  recency  frequency     monetary  Recency  \\\n",
       "0        1.0            2     0.50        239  1569.767782      2.5   \n",
       "1        2.0            1     1.00        595  5792.438824      5.0   \n",
       "2        3.0            2     0.50        270  1917.973333      2.5   \n",
       "3        4.0            4     0.25        246  2632.386585      1.0   \n",
       "4        5.0            5     0.20        130  9169.537692      1.0   \n",
       "\n",
       "   Frequency  Monetary  \n",
       "0          3         1  \n",
       "1          5         4  \n",
       "2          3         1  \n",
       "3          3         2  \n",
       "4          2         5  "
      ]
     },
     "execution_count": 26,
     "metadata": {},
     "output_type": "execute_result"
    }
   ],
   "source": [
    "rfm_df['Frequency'] = pd.qcut(rfm_df['frequency'], q=5, labels=False) + 1\n",
    "rfm_df['Monetary'] = pd.qcut(rfm_df['monetary'], q=5, labels=False) + 1\n",
    "rfm_df.head()"
   ]
  },
  {
   "cell_type": "code",
   "execution_count": 27,
   "metadata": {},
   "outputs": [
    {
     "data": {
      "text/html": [
       "<div>\n",
       "<style scoped>\n",
       "    .dataframe tbody tr th:only-of-type {\n",
       "        vertical-align: middle;\n",
       "    }\n",
       "\n",
       "    .dataframe tbody tr th {\n",
       "        vertical-align: top;\n",
       "    }\n",
       "\n",
       "    .dataframe thead th {\n",
       "        text-align: right;\n",
       "    }\n",
       "</style>\n",
       "<table border=\"1\" class=\"dataframe\">\n",
       "  <thead>\n",
       "    <tr style=\"text-align: right;\">\n",
       "      <th></th>\n",
       "      <th>client_id</th>\n",
       "      <th>recency_raw</th>\n",
       "      <th>recency</th>\n",
       "      <th>frequency</th>\n",
       "      <th>monetary</th>\n",
       "      <th>Recency</th>\n",
       "      <th>Frequency</th>\n",
       "      <th>Monetary</th>\n",
       "      <th>RFM</th>\n",
       "      <th>RFM_Cluster</th>\n",
       "    </tr>\n",
       "  </thead>\n",
       "  <tbody>\n",
       "    <tr>\n",
       "      <th>0</th>\n",
       "      <td>1.0</td>\n",
       "      <td>2</td>\n",
       "      <td>0.50</td>\n",
       "      <td>239</td>\n",
       "      <td>1569.767782</td>\n",
       "      <td>2.5</td>\n",
       "      <td>3</td>\n",
       "      <td>1</td>\n",
       "      <td>7.5</td>\n",
       "      <td>2</td>\n",
       "    </tr>\n",
       "    <tr>\n",
       "      <th>1</th>\n",
       "      <td>2.0</td>\n",
       "      <td>1</td>\n",
       "      <td>1.00</td>\n",
       "      <td>595</td>\n",
       "      <td>5792.438824</td>\n",
       "      <td>5.0</td>\n",
       "      <td>5</td>\n",
       "      <td>4</td>\n",
       "      <td>100.0</td>\n",
       "      <td>5</td>\n",
       "    </tr>\n",
       "    <tr>\n",
       "      <th>2</th>\n",
       "      <td>3.0</td>\n",
       "      <td>2</td>\n",
       "      <td>0.50</td>\n",
       "      <td>270</td>\n",
       "      <td>1917.973333</td>\n",
       "      <td>2.5</td>\n",
       "      <td>3</td>\n",
       "      <td>1</td>\n",
       "      <td>7.5</td>\n",
       "      <td>2</td>\n",
       "    </tr>\n",
       "    <tr>\n",
       "      <th>3</th>\n",
       "      <td>4.0</td>\n",
       "      <td>4</td>\n",
       "      <td>0.25</td>\n",
       "      <td>246</td>\n",
       "      <td>2632.386585</td>\n",
       "      <td>1.0</td>\n",
       "      <td>3</td>\n",
       "      <td>2</td>\n",
       "      <td>6.0</td>\n",
       "      <td>2</td>\n",
       "    </tr>\n",
       "    <tr>\n",
       "      <th>4</th>\n",
       "      <td>5.0</td>\n",
       "      <td>5</td>\n",
       "      <td>0.20</td>\n",
       "      <td>130</td>\n",
       "      <td>9169.537692</td>\n",
       "      <td>1.0</td>\n",
       "      <td>2</td>\n",
       "      <td>5</td>\n",
       "      <td>10.0</td>\n",
       "      <td>3</td>\n",
       "    </tr>\n",
       "  </tbody>\n",
       "</table>\n",
       "</div>"
      ],
      "text/plain": [
       "   client_id  recency_raw  recency  frequency     monetary  Recency  \\\n",
       "0        1.0            2     0.50        239  1569.767782      2.5   \n",
       "1        2.0            1     1.00        595  5792.438824      5.0   \n",
       "2        3.0            2     0.50        270  1917.973333      2.5   \n",
       "3        4.0            4     0.25        246  2632.386585      1.0   \n",
       "4        5.0            5     0.20        130  9169.537692      1.0   \n",
       "\n",
       "   Frequency  Monetary    RFM  RFM_Cluster  \n",
       "0          3         1    7.5            2  \n",
       "1          5         4  100.0            5  \n",
       "2          3         1    7.5            2  \n",
       "3          3         2    6.0            2  \n",
       "4          2         5   10.0            3  "
      ]
     },
     "execution_count": 27,
     "metadata": {},
     "output_type": "execute_result"
    }
   ],
   "source": [
    "rfm_df['RFM'] = rfm_df[['Recency', 'Frequency', 'Monetary']].agg('prod', axis=1)\n",
    "rfm_df['RFM_Cluster'] = pd.cut(rfm_df['RFM'], bins=[0, 1, 8, 27, 64, 125], labels=False) + 1\n",
    "rfm_df.head()"
   ]
  },
  {
   "cell_type": "code",
   "execution_count": 28,
   "metadata": {},
   "outputs": [],
   "source": [
    "def rfm_group_mapping(R, F, M):\n",
    "    if (R == 1) & (F == 1) & (M == 1):\n",
    "        return 'Lost'\n",
    "    elif (R <= 2) & (F <= 2) & (M <= 2):\n",
    "        return 'Hibernating'\n",
    "    elif (R == 1) & (4 <= F <= 5) & (4 <= M <= 5):\n",
    "        return 'Can\\'t Lose Them'\n",
    "    elif (1 <= R <= 2) & (2 <= F <= 5) & (2 <= M <= 5):\n",
    "        return 'At Risk'\n",
    "    elif (2 <= R <= 3) & (F <= 2) & (M <= 2):\n",
    "        return 'About to Sleep'\n",
    "    elif (2 <= R <= 3) & (2 <= F <= 3) & (2 <= M <= 3):\n",
    "        return 'Need Attention'\n",
    "    elif (3 <= R <= 4) & (F <= 1) & (M <= 1):\n",
    "        return 'Promising'\n",
    "    elif (4 <= R <= 5) & (F <= 1) & (M <= 1):\n",
    "        return 'New Customers'\n",
    "    elif (3 <= R <= 5) & (1 <= F <= 3) & (1 <= M <= 3):\n",
    "        return 'Potential Loyal'\n",
    "    elif (2 <= R <= 5) & (3 <= F <= 5) & (3 <= M <= 5):\n",
    "        return 'Loyal'\n",
    "    elif (4 <= R <= 5) & (4 <= F <= 5) & (4 <= M <= 5):\n",
    "        return 'Champion'\n",
    "    else: \n",
    "        return 'Other'"
   ]
  },
  {
   "cell_type": "code",
   "execution_count": 29,
   "metadata": {},
   "outputs": [],
   "source": [
    "rfm_df['RFM_Group'] = rfm_df \\\n",
    "    .apply(lambda x: rfm_group_mapping(x['Recency'], x['Frequency'], x['Monetary']), axis=1)"
   ]
  },
  {
   "cell_type": "code",
   "execution_count": 30,
   "metadata": {},
   "outputs": [
    {
     "data": {
      "text/plain": [
       "Other              915\n",
       "Loyal              742\n",
       "At Risk            562\n",
       "Potential Loyal    235\n",
       "Hibernating        204\n",
       "About to Sleep     172\n",
       "Can't Lose Them    156\n",
       "Need Attention     119\n",
       "Lost                93\n",
       "New Customers       41\n",
       "Name: RFM_Group, dtype: int64"
      ]
     },
     "execution_count": 30,
     "metadata": {},
     "output_type": "execute_result"
    }
   ],
   "source": [
    "rfm_df.RFM_Group.value_counts()"
   ]
  },
  {
   "cell_type": "markdown",
   "metadata": {},
   "source": [
    "    6. Prikazati prosečne vrednosti RFM kategorija po svakog grupi."
   ]
  },
  {
   "cell_type": "code",
   "execution_count": 31,
   "metadata": {},
   "outputs": [
    {
     "data": {
      "text/html": [
       "<div>\n",
       "<style scoped>\n",
       "    .dataframe tbody tr th:only-of-type {\n",
       "        vertical-align: middle;\n",
       "    }\n",
       "\n",
       "    .dataframe tbody tr th {\n",
       "        vertical-align: top;\n",
       "    }\n",
       "\n",
       "    .dataframe thead tr th {\n",
       "        text-align: left;\n",
       "    }\n",
       "\n",
       "    .dataframe thead tr:last-of-type th {\n",
       "        text-align: right;\n",
       "    }\n",
       "</style>\n",
       "<table border=\"1\" class=\"dataframe\">\n",
       "  <thead>\n",
       "    <tr>\n",
       "      <th></th>\n",
       "      <th colspan=\"3\" halign=\"left\">recency_raw</th>\n",
       "      <th colspan=\"3\" halign=\"left\">frequency</th>\n",
       "      <th colspan=\"3\" halign=\"left\">monetary</th>\n",
       "    </tr>\n",
       "    <tr>\n",
       "      <th></th>\n",
       "      <th>mean</th>\n",
       "      <th>max</th>\n",
       "      <th>min</th>\n",
       "      <th>mean</th>\n",
       "      <th>max</th>\n",
       "      <th>min</th>\n",
       "      <th>mean</th>\n",
       "      <th>max</th>\n",
       "      <th>min</th>\n",
       "    </tr>\n",
       "    <tr>\n",
       "      <th>RFM_Group</th>\n",
       "      <th></th>\n",
       "      <th></th>\n",
       "      <th></th>\n",
       "      <th></th>\n",
       "      <th></th>\n",
       "      <th></th>\n",
       "      <th></th>\n",
       "      <th></th>\n",
       "      <th></th>\n",
       "    </tr>\n",
       "  </thead>\n",
       "  <tbody>\n",
       "    <tr>\n",
       "      <th>About to Sleep</th>\n",
       "      <td>2.000000</td>\n",
       "      <td>2</td>\n",
       "      <td>2</td>\n",
       "      <td>130.034884</td>\n",
       "      <td>199</td>\n",
       "      <td>24</td>\n",
       "      <td>2039.108506</td>\n",
       "      <td>3209.091608</td>\n",
       "      <td>920.614650</td>\n",
       "    </tr>\n",
       "    <tr>\n",
       "      <th>At Risk</th>\n",
       "      <td>3.508897</td>\n",
       "      <td>7</td>\n",
       "      <td>3</td>\n",
       "      <td>276.147687</td>\n",
       "      <td>850</td>\n",
       "      <td>128</td>\n",
       "      <td>5966.949841</td>\n",
       "      <td>17862.352252</td>\n",
       "      <td>2105.892683</td>\n",
       "    </tr>\n",
       "    <tr>\n",
       "      <th>Can't Lose Them</th>\n",
       "      <td>3.551282</td>\n",
       "      <td>7</td>\n",
       "      <td>3</td>\n",
       "      <td>423.474359</td>\n",
       "      <td>914</td>\n",
       "      <td>303</td>\n",
       "      <td>8966.252214</td>\n",
       "      <td>18962.825323</td>\n",
       "      <td>5694.439224</td>\n",
       "    </tr>\n",
       "    <tr>\n",
       "      <th>Hibernating</th>\n",
       "      <td>5.269608</td>\n",
       "      <td>123</td>\n",
       "      <td>3</td>\n",
       "      <td>120.357843</td>\n",
       "      <td>198</td>\n",
       "      <td>12</td>\n",
       "      <td>2319.860853</td>\n",
       "      <td>3247.363924</td>\n",
       "      <td>1055.122436</td>\n",
       "    </tr>\n",
       "    <tr>\n",
       "      <th>Lost</th>\n",
       "      <td>9.602151</td>\n",
       "      <td>235</td>\n",
       "      <td>3</td>\n",
       "      <td>84.591398</td>\n",
       "      <td>127</td>\n",
       "      <td>36</td>\n",
       "      <td>1636.899579</td>\n",
       "      <td>2085.773404</td>\n",
       "      <td>937.878632</td>\n",
       "    </tr>\n",
       "    <tr>\n",
       "      <th>Loyal</th>\n",
       "      <td>1.549865</td>\n",
       "      <td>2</td>\n",
       "      <td>1</td>\n",
       "      <td>413.424528</td>\n",
       "      <td>1008</td>\n",
       "      <td>200</td>\n",
       "      <td>7905.583530</td>\n",
       "      <td>19789.124138</td>\n",
       "      <td>3262.414699</td>\n",
       "    </tr>\n",
       "    <tr>\n",
       "      <th>Need Attention</th>\n",
       "      <td>2.000000</td>\n",
       "      <td>2</td>\n",
       "      <td>2</td>\n",
       "      <td>222.084034</td>\n",
       "      <td>296</td>\n",
       "      <td>128</td>\n",
       "      <td>3798.324088</td>\n",
       "      <td>5680.795062</td>\n",
       "      <td>2124.894208</td>\n",
       "    </tr>\n",
       "    <tr>\n",
       "      <th>New Customers</th>\n",
       "      <td>1.000000</td>\n",
       "      <td>1</td>\n",
       "      <td>1</td>\n",
       "      <td>96.024390</td>\n",
       "      <td>127</td>\n",
       "      <td>51</td>\n",
       "      <td>1684.267017</td>\n",
       "      <td>2103.289024</td>\n",
       "      <td>1007.260000</td>\n",
       "    </tr>\n",
       "    <tr>\n",
       "      <th>Other</th>\n",
       "      <td>2.333333</td>\n",
       "      <td>12</td>\n",
       "      <td>1</td>\n",
       "      <td>239.132240</td>\n",
       "      <td>867</td>\n",
       "      <td>11</td>\n",
       "      <td>5372.057120</td>\n",
       "      <td>21062.613287</td>\n",
       "      <td>856.444321</td>\n",
       "    </tr>\n",
       "    <tr>\n",
       "      <th>Potential Loyal</th>\n",
       "      <td>1.000000</td>\n",
       "      <td>1</td>\n",
       "      <td>1</td>\n",
       "      <td>192.795745</td>\n",
       "      <td>298</td>\n",
       "      <td>20</td>\n",
       "      <td>2925.600748</td>\n",
       "      <td>5662.453304</td>\n",
       "      <td>898.971831</td>\n",
       "    </tr>\n",
       "  </tbody>\n",
       "</table>\n",
       "</div>"
      ],
      "text/plain": [
       "                recency_raw            frequency                monetary  \\\n",
       "                       mean  max min        mean   max  min         mean   \n",
       "RFM_Group                                                                  \n",
       "About to Sleep     2.000000    2   2  130.034884   199   24  2039.108506   \n",
       "At Risk            3.508897    7   3  276.147687   850  128  5966.949841   \n",
       "Can't Lose Them    3.551282    7   3  423.474359   914  303  8966.252214   \n",
       "Hibernating        5.269608  123   3  120.357843   198   12  2319.860853   \n",
       "Lost               9.602151  235   3   84.591398   127   36  1636.899579   \n",
       "Loyal              1.549865    2   1  413.424528  1008  200  7905.583530   \n",
       "Need Attention     2.000000    2   2  222.084034   296  128  3798.324088   \n",
       "New Customers      1.000000    1   1   96.024390   127   51  1684.267017   \n",
       "Other              2.333333   12   1  239.132240   867   11  5372.057120   \n",
       "Potential Loyal    1.000000    1   1  192.795745   298   20  2925.600748   \n",
       "\n",
       "                                            \n",
       "                          max          min  \n",
       "RFM_Group                                   \n",
       "About to Sleep    3209.091608   920.614650  \n",
       "At Risk          17862.352252  2105.892683  \n",
       "Can't Lose Them  18962.825323  5694.439224  \n",
       "Hibernating       3247.363924  1055.122436  \n",
       "Lost              2085.773404   937.878632  \n",
       "Loyal            19789.124138  3262.414699  \n",
       "Need Attention    5680.795062  2124.894208  \n",
       "New Customers     2103.289024  1007.260000  \n",
       "Other            21062.613287   856.444321  \n",
       "Potential Loyal   5662.453304   898.971831  "
      ]
     },
     "execution_count": 31,
     "metadata": {},
     "output_type": "execute_result"
    }
   ],
   "source": [
    "rfm_df.groupby('RFM_Group')[['recency_raw', 'frequency', 'monetary']].agg(['mean', 'max', 'min'])"
   ]
  },
  {
   "cell_type": "markdown",
   "metadata": {},
   "source": [
    "## K-Means Klasterovanje"
   ]
  },
  {
   "cell_type": "code",
   "execution_count": 32,
   "metadata": {
    "scrolled": false
   },
   "outputs": [
    {
     "data": {
      "text/html": [
       "<div>\n",
       "<style scoped>\n",
       "    .dataframe tbody tr th:only-of-type {\n",
       "        vertical-align: middle;\n",
       "    }\n",
       "\n",
       "    .dataframe tbody tr th {\n",
       "        vertical-align: top;\n",
       "    }\n",
       "\n",
       "    .dataframe thead th {\n",
       "        text-align: right;\n",
       "    }\n",
       "</style>\n",
       "<table border=\"1\" class=\"dataframe\">\n",
       "  <thead>\n",
       "    <tr style=\"text-align: right;\">\n",
       "      <th></th>\n",
       "      <th>choice_amt_x</th>\n",
       "      <th>expenditure_amt</th>\n",
       "      <th>income_amt</th>\n",
       "      <th>account_transfer_amt</th>\n",
       "      <th>card_amt</th>\n",
       "      <th>choice_amt_y</th>\n",
       "      <th>deposit_amt</th>\n",
       "      <th>transfer_from_account_amt</th>\n",
       "    </tr>\n",
       "    <tr>\n",
       "      <th>client_id</th>\n",
       "      <th></th>\n",
       "      <th></th>\n",
       "      <th></th>\n",
       "      <th></th>\n",
       "      <th></th>\n",
       "      <th></th>\n",
       "      <th></th>\n",
       "      <th></th>\n",
       "    </tr>\n",
       "  </thead>\n",
       "  <tbody>\n",
       "    <tr>\n",
       "      <th>1.0</th>\n",
       "      <td>0.0</td>\n",
       "      <td>180854.0</td>\n",
       "      <td>194320.5</td>\n",
       "      <td>98080.0</td>\n",
       "      <td>0.0</td>\n",
       "      <td>82774.0</td>\n",
       "      <td>25700.0</td>\n",
       "      <td>165555.0</td>\n",
       "    </tr>\n",
       "    <tr>\n",
       "      <th>2.0</th>\n",
       "      <td>217442.0</td>\n",
       "      <td>1458946.6</td>\n",
       "      <td>1770112.5</td>\n",
       "      <td>618247.8</td>\n",
       "      <td>0.0</td>\n",
       "      <td>1058140.8</td>\n",
       "      <td>219389.0</td>\n",
       "      <td>1537936.0</td>\n",
       "    </tr>\n",
       "    <tr>\n",
       "      <th>3.0</th>\n",
       "      <td>0.0</td>\n",
       "      <td>228021.8</td>\n",
       "      <td>289831.0</td>\n",
       "      <td>136164.0</td>\n",
       "      <td>0.0</td>\n",
       "      <td>91857.8</td>\n",
       "      <td>1400.0</td>\n",
       "      <td>284125.0</td>\n",
       "    </tr>\n",
       "    <tr>\n",
       "      <th>4.0</th>\n",
       "      <td>0.0</td>\n",
       "      <td>299949.6</td>\n",
       "      <td>347617.5</td>\n",
       "      <td>185838.0</td>\n",
       "      <td>0.0</td>\n",
       "      <td>114111.6</td>\n",
       "      <td>900.0</td>\n",
       "      <td>340119.0</td>\n",
       "    </tr>\n",
       "    <tr>\n",
       "      <th>5.0</th>\n",
       "      <td>0.0</td>\n",
       "      <td>561772.0</td>\n",
       "      <td>630267.9</td>\n",
       "      <td>97600.0</td>\n",
       "      <td>5900.0</td>\n",
       "      <td>458272.0</td>\n",
       "      <td>623775.0</td>\n",
       "      <td>0.0</td>\n",
       "    </tr>\n",
       "  </tbody>\n",
       "</table>\n",
       "</div>"
      ],
      "text/plain": [
       "           choice_amt_x  expenditure_amt  income_amt  account_transfer_amt  \\\n",
       "client_id                                                                    \n",
       "1.0                 0.0         180854.0    194320.5               98080.0   \n",
       "2.0            217442.0        1458946.6   1770112.5              618247.8   \n",
       "3.0                 0.0         228021.8    289831.0              136164.0   \n",
       "4.0                 0.0         299949.6    347617.5              185838.0   \n",
       "5.0                 0.0         561772.0    630267.9               97600.0   \n",
       "\n",
       "           card_amt  choice_amt_y  deposit_amt  transfer_from_account_amt  \n",
       "client_id                                                                  \n",
       "1.0             0.0       82774.0      25700.0                   165555.0  \n",
       "2.0             0.0     1058140.8     219389.0                  1537936.0  \n",
       "3.0             0.0       91857.8       1400.0                   284125.0  \n",
       "4.0             0.0      114111.6        900.0                   340119.0  \n",
       "5.0          5900.0      458272.0     623775.0                        0.0  "
      ]
     },
     "execution_count": 32,
     "metadata": {},
     "output_type": "execute_result"
    }
   ],
   "source": [
    "pcdf.head()"
   ]
  },
  {
   "cell_type": "markdown",
   "metadata": {},
   "source": [
    "### Otklanjanje izuzetaka"
   ]
  },
  {
   "cell_type": "markdown",
   "metadata": {},
   "source": [
    "\n",
    "1. Identifikovati ekstremne vrednosti, karakterisati ih (zašto su ekstremne) i izbaciti iz skupa."
   ]
  },
  {
   "cell_type": "code",
   "execution_count": 33,
   "metadata": {
    "scrolled": true
   },
   "outputs": [
    {
     "data": {
      "text/plain": [
       "array([[-0.41954103, -0.79326471, -0.80928515, ..., -0.75232267,\n",
       "        -0.82025459, -0.03378273],\n",
       "       [ 1.72929859,  1.20887115,  1.36487943, ...,  0.80657472,\n",
       "        -0.54037477,  3.03773333],\n",
       "       [-0.41954103, -0.71937621, -0.67750662, ..., -0.73780432,\n",
       "        -0.85536799,  0.23158794],\n",
       "       ...,\n",
       "       [-0.41954103, -0.69863164, -0.63778949, ..., -0.5599593 ,\n",
       "        -0.40167684, -0.40431018],\n",
       "       [-0.12772489,  1.12735754,  1.0082593 , ...,  0.88226837,\n",
       "        -0.851611  ,  2.9512109 ],\n",
       "       [-0.41954103, -0.06501972, -0.13328707, ..., -0.34711734,\n",
       "         0.12528572, -0.40431018]])"
      ]
     },
     "execution_count": 33,
     "metadata": {},
     "output_type": "execute_result"
    }
   ],
   "source": [
    "from scipy import stats\n",
    "\n",
    "stats.zscore(pcdf)"
   ]
  },
  {
   "cell_type": "code",
   "execution_count": 34,
   "metadata": {},
   "outputs": [],
   "source": [
    "pcdf_full = pcdf\n",
    "pcdf = pcdf.loc[(np.abs(stats.zscore(pcdf)) < 3).all(axis=1), :]"
   ]
  },
  {
   "cell_type": "code",
   "execution_count": 35,
   "metadata": {
    "scrolled": true
   },
   "outputs": [
    {
     "name": "stdout",
     "output_type": "stream",
     "text": [
      "303 outliers have been removed. Percentage: 0.09354739117011424\n"
     ]
    }
   ],
   "source": [
    "print(f'{str(pcdf_full.shape[0] - pcdf.shape[0])} outliers have been removed. Percentage: {str((pcdf_full.shape[0] - pcdf.shape[0]) / pcdf_full.shape[0])}')"
   ]
  },
  {
   "cell_type": "code",
   "execution_count": 36,
   "metadata": {
    "scrolled": true
   },
   "outputs": [
    {
     "data": {
      "text/html": [
       "<div>\n",
       "<style scoped>\n",
       "    .dataframe tbody tr th:only-of-type {\n",
       "        vertical-align: middle;\n",
       "    }\n",
       "\n",
       "    .dataframe tbody tr th {\n",
       "        vertical-align: top;\n",
       "    }\n",
       "\n",
       "    .dataframe thead th {\n",
       "        text-align: right;\n",
       "    }\n",
       "</style>\n",
       "<table border=\"1\" class=\"dataframe\">\n",
       "  <thead>\n",
       "    <tr style=\"text-align: right;\">\n",
       "      <th></th>\n",
       "      <th>choice_amt_x</th>\n",
       "      <th>expenditure_amt</th>\n",
       "      <th>income_amt</th>\n",
       "      <th>account_transfer_amt</th>\n",
       "      <th>card_amt</th>\n",
       "      <th>choice_amt_y</th>\n",
       "      <th>deposit_amt</th>\n",
       "      <th>transfer_from_account_amt</th>\n",
       "    </tr>\n",
       "    <tr>\n",
       "      <th>client_id</th>\n",
       "      <th></th>\n",
       "      <th></th>\n",
       "      <th></th>\n",
       "      <th></th>\n",
       "      <th></th>\n",
       "      <th></th>\n",
       "      <th></th>\n",
       "      <th></th>\n",
       "    </tr>\n",
       "  </thead>\n",
       "  <tbody>\n",
       "    <tr>\n",
       "      <th>1.0</th>\n",
       "      <td>0.0</td>\n",
       "      <td>180854.0</td>\n",
       "      <td>194320.5</td>\n",
       "      <td>98080.0</td>\n",
       "      <td>0.0</td>\n",
       "      <td>82774.0</td>\n",
       "      <td>25700.0</td>\n",
       "      <td>165555.0</td>\n",
       "    </tr>\n",
       "    <tr>\n",
       "      <th>3.0</th>\n",
       "      <td>0.0</td>\n",
       "      <td>228021.8</td>\n",
       "      <td>289831.0</td>\n",
       "      <td>136164.0</td>\n",
       "      <td>0.0</td>\n",
       "      <td>91857.8</td>\n",
       "      <td>1400.0</td>\n",
       "      <td>284125.0</td>\n",
       "    </tr>\n",
       "    <tr>\n",
       "      <th>4.0</th>\n",
       "      <td>0.0</td>\n",
       "      <td>299949.6</td>\n",
       "      <td>347617.5</td>\n",
       "      <td>185838.0</td>\n",
       "      <td>0.0</td>\n",
       "      <td>114111.6</td>\n",
       "      <td>900.0</td>\n",
       "      <td>340119.0</td>\n",
       "    </tr>\n",
       "    <tr>\n",
       "      <th>5.0</th>\n",
       "      <td>0.0</td>\n",
       "      <td>561772.0</td>\n",
       "      <td>630267.9</td>\n",
       "      <td>97600.0</td>\n",
       "      <td>5900.0</td>\n",
       "      <td>458272.0</td>\n",
       "      <td>623775.0</td>\n",
       "      <td>0.0</td>\n",
       "    </tr>\n",
       "    <tr>\n",
       "      <th>6.0</th>\n",
       "      <td>0.0</td>\n",
       "      <td>820144.4</td>\n",
       "      <td>892761.7</td>\n",
       "      <td>319628.0</td>\n",
       "      <td>0.0</td>\n",
       "      <td>500516.4</td>\n",
       "      <td>885084.0</td>\n",
       "      <td>0.0</td>\n",
       "    </tr>\n",
       "  </tbody>\n",
       "</table>\n",
       "</div>"
      ],
      "text/plain": [
       "           choice_amt_x  expenditure_amt  income_amt  account_transfer_amt  \\\n",
       "client_id                                                                    \n",
       "1.0                 0.0         180854.0    194320.5               98080.0   \n",
       "3.0                 0.0         228021.8    289831.0              136164.0   \n",
       "4.0                 0.0         299949.6    347617.5              185838.0   \n",
       "5.0                 0.0         561772.0    630267.9               97600.0   \n",
       "6.0                 0.0         820144.4    892761.7              319628.0   \n",
       "\n",
       "           card_amt  choice_amt_y  deposit_amt  transfer_from_account_amt  \n",
       "client_id                                                                  \n",
       "1.0             0.0       82774.0      25700.0                   165555.0  \n",
       "3.0             0.0       91857.8       1400.0                   284125.0  \n",
       "4.0             0.0      114111.6        900.0                   340119.0  \n",
       "5.0          5900.0      458272.0     623775.0                        0.0  \n",
       "6.0             0.0      500516.4     885084.0                        0.0  "
      ]
     },
     "execution_count": 36,
     "metadata": {},
     "output_type": "execute_result"
    }
   ],
   "source": [
    "pcdf.head()"
   ]
  },
  {
   "cell_type": "markdown",
   "metadata": {},
   "source": [
    "Opservacije čija vrednost bar jedne osobine odstupa više od 3 standardne devijacije od srednje vrednosti su izuzeci. Uočeno je 303 takve opservacije, što je 9% seta."
   ]
  },
  {
   "cell_type": "markdown",
   "metadata": {},
   "source": [
    "### Skup podataka normalizovan StandardScalerom"
   ]
  },
  {
   "cell_type": "markdown",
   "metadata": {},
   "source": [
    "Normalizovati podatke na dva načina po izboru (npr. MaxMin, StandardScaler ili Normalizer). "
   ]
  },
  {
   "cell_type": "code",
   "execution_count": 37,
   "metadata": {},
   "outputs": [
    {
     "data": {
      "text/html": [
       "<div>\n",
       "<style scoped>\n",
       "    .dataframe tbody tr th:only-of-type {\n",
       "        vertical-align: middle;\n",
       "    }\n",
       "\n",
       "    .dataframe tbody tr th {\n",
       "        vertical-align: top;\n",
       "    }\n",
       "\n",
       "    .dataframe thead th {\n",
       "        text-align: right;\n",
       "    }\n",
       "</style>\n",
       "<table border=\"1\" class=\"dataframe\">\n",
       "  <thead>\n",
       "    <tr style=\"text-align: right;\">\n",
       "      <th></th>\n",
       "      <th>choice_amt_x</th>\n",
       "      <th>expenditure_amt</th>\n",
       "      <th>income_amt</th>\n",
       "      <th>account_transfer_amt</th>\n",
       "      <th>card_amt</th>\n",
       "      <th>choice_amt_y</th>\n",
       "      <th>deposit_amt</th>\n",
       "      <th>transfer_from_account_amt</th>\n",
       "    </tr>\n",
       "    <tr>\n",
       "      <th>client_id</th>\n",
       "      <th></th>\n",
       "      <th></th>\n",
       "      <th></th>\n",
       "      <th></th>\n",
       "      <th></th>\n",
       "      <th></th>\n",
       "      <th></th>\n",
       "      <th></th>\n",
       "    </tr>\n",
       "  </thead>\n",
       "  <tbody>\n",
       "    <tr>\n",
       "      <th>1.0</th>\n",
       "      <td>-0.391733</td>\n",
       "      <td>-0.799081</td>\n",
       "      <td>-0.834880</td>\n",
       "      <td>-0.388010</td>\n",
       "      <td>-0.328628</td>\n",
       "      <td>-0.783284</td>\n",
       "      <td>-0.860262</td>\n",
       "      <td>0.213225</td>\n",
       "    </tr>\n",
       "    <tr>\n",
       "      <th>3.0</th>\n",
       "      <td>-0.391733</td>\n",
       "      <td>-0.700622</td>\n",
       "      <td>-0.654338</td>\n",
       "      <td>-0.117868</td>\n",
       "      <td>-0.328628</td>\n",
       "      <td>-0.762949</td>\n",
       "      <td>-0.903230</td>\n",
       "      <td>0.741801</td>\n",
       "    </tr>\n",
       "    <tr>\n",
       "      <th>4.0</th>\n",
       "      <td>-0.391733</td>\n",
       "      <td>-0.550479</td>\n",
       "      <td>-0.545105</td>\n",
       "      <td>0.234485</td>\n",
       "      <td>-0.328628</td>\n",
       "      <td>-0.713130</td>\n",
       "      <td>-0.904114</td>\n",
       "      <td>0.991418</td>\n",
       "    </tr>\n",
       "    <tr>\n",
       "      <th>5.0</th>\n",
       "      <td>-0.391733</td>\n",
       "      <td>-0.003948</td>\n",
       "      <td>-0.010816</td>\n",
       "      <td>-0.391415</td>\n",
       "      <td>0.415389</td>\n",
       "      <td>0.057328</td>\n",
       "      <td>0.197267</td>\n",
       "      <td>-0.524806</td>\n",
       "    </tr>\n",
       "    <tr>\n",
       "      <th>6.0</th>\n",
       "      <td>-0.391733</td>\n",
       "      <td>0.535382</td>\n",
       "      <td>0.485372</td>\n",
       "      <td>1.183500</td>\n",
       "      <td>-0.328628</td>\n",
       "      <td>0.151899</td>\n",
       "      <td>0.659320</td>\n",
       "      <td>-0.524806</td>\n",
       "    </tr>\n",
       "  </tbody>\n",
       "</table>\n",
       "</div>"
      ],
      "text/plain": [
       "           choice_amt_x  expenditure_amt  income_amt  account_transfer_amt  \\\n",
       "client_id                                                                    \n",
       "1.0           -0.391733        -0.799081   -0.834880             -0.388010   \n",
       "3.0           -0.391733        -0.700622   -0.654338             -0.117868   \n",
       "4.0           -0.391733        -0.550479   -0.545105              0.234485   \n",
       "5.0           -0.391733        -0.003948   -0.010816             -0.391415   \n",
       "6.0           -0.391733         0.535382    0.485372              1.183500   \n",
       "\n",
       "           card_amt  choice_amt_y  deposit_amt  transfer_from_account_amt  \n",
       "client_id                                                                  \n",
       "1.0       -0.328628     -0.783284    -0.860262                   0.213225  \n",
       "3.0       -0.328628     -0.762949    -0.903230                   0.741801  \n",
       "4.0       -0.328628     -0.713130    -0.904114                   0.991418  \n",
       "5.0        0.415389      0.057328     0.197267                  -0.524806  \n",
       "6.0       -0.328628      0.151899     0.659320                  -0.524806  "
      ]
     },
     "execution_count": 37,
     "metadata": {},
     "output_type": "execute_result"
    }
   ],
   "source": [
    "from sklearn.preprocessing import StandardScaler\n",
    "\n",
    "st_scaler = StandardScaler()\n",
    "sdf = pd.DataFrame(st_scaler.fit_transform(pcdf), columns=pcdf.columns, index=pcdf.index)\n",
    "sdf.head()"
   ]
  },
  {
   "cell_type": "markdown",
   "metadata": {},
   "source": [
    "    2. Optimizovati K-means model po broju klastera koristeći SSE i Silhouette (dva optimizovana modela treba dobiti za svaku normalizaciju - ukupno četiri)."
   ]
  },
  {
   "cell_type": "markdown",
   "metadata": {},
   "source": [
    "#### Optimizacija metaparametra pomoću SSE"
   ]
  },
  {
   "cell_type": "code",
   "execution_count": 38,
   "metadata": {},
   "outputs": [],
   "source": [
    "from sklearn.cluster import KMeans\n",
    "\n",
    "sse = [KMeans(n_clusters=k, random_state=42).fit(sdf).inertia_ for k in range(1, 10)]"
   ]
  },
  {
   "cell_type": "code",
   "execution_count": 39,
   "metadata": {},
   "outputs": [
    {
     "data": {
      "text/plain": [
       "Text(0, 0.5, 'Suma kvadrata udaljenosti elementa od centroida')"
      ]
     },
     "execution_count": 39,
     "metadata": {},
     "output_type": "execute_result"
    },
    {
     "data": {
      "image/png": "[encoded data removed]",
      "text/plain": [
       "<Figure size 432x288 with 1 Axes>"
      ]
     },
     "metadata": {
      "needs_background": "light"
     },
     "output_type": "display_data"
    }
   ],
   "source": [
    "plt.plot(range(1, 10), sse)\n",
    "plt.xlabel('Broj klastera')\n",
    "plt.ylabel('Suma kvadrata udaljenosti elementa od centroida')"
   ]
  },
  {
   "cell_type": "code",
   "execution_count": 40,
   "metadata": {},
   "outputs": [
    {
     "data": {
      "text/plain": [
       "11555.19386440866"
      ]
     },
     "execution_count": 40,
     "metadata": {},
     "output_type": "execute_result"
    }
   ],
   "source": [
    "sse[2] #k=3"
   ]
  },
  {
   "cell_type": "code",
   "execution_count": 41,
   "metadata": {},
   "outputs": [
    {
     "data": {
      "text/plain": [
       "KMeans(algorithm='auto', copy_x=True, init='k-means++', max_iter=300,\n",
       "       n_clusters=3, n_init=10, n_jobs=None, precompute_distances='auto',\n",
       "       random_state=42, tol=0.0001, verbose=0)"
      ]
     },
     "execution_count": 41,
     "metadata": {},
     "output_type": "execute_result"
    }
   ],
   "source": [
    "k=3\n",
    "model = KMeans(n_clusters=k, random_state=42)\n",
    "\n",
    "model.fit(sdf)"
   ]
  },
  {
   "cell_type": "code",
   "execution_count": 42,
   "metadata": {
    "scrolled": true
   },
   "outputs": [
    {
     "data": {
      "text/plain": [
       "array([[-0.33178704, -0.51524843, -0.52163384, -0.30369489, -0.13738515,\n",
       "        -0.50053673, -0.45187459, -0.08391699],\n",
       "       [ 0.68864593,  1.4555372 ,  1.4420057 ,  0.8725093 ,  0.3781575 ,\n",
       "         1.3748978 ,  1.50850012, -0.42285909],\n",
       "       [ 1.77889764,  0.63589566,  0.81766069,  0.29442018,  0.22433077,\n",
       "         0.83298924, -0.72009887,  3.73835367]])"
      ]
     },
     "execution_count": 42,
     "metadata": {},
     "output_type": "execute_result"
    }
   ],
   "source": [
    "model.cluster_centers_"
   ]
  },
  {
   "cell_type": "code",
   "execution_count": 43,
   "metadata": {
    "scrolled": true
   },
   "outputs": [
    {
     "data": {
      "text/html": [
       "<div>\n",
       "<style scoped>\n",
       "    .dataframe tbody tr th:only-of-type {\n",
       "        vertical-align: middle;\n",
       "    }\n",
       "\n",
       "    .dataframe tbody tr th {\n",
       "        vertical-align: top;\n",
       "    }\n",
       "\n",
       "    .dataframe thead th {\n",
       "        text-align: right;\n",
       "    }\n",
       "</style>\n",
       "<table border=\"1\" class=\"dataframe\">\n",
       "  <thead>\n",
       "    <tr style=\"text-align: right;\">\n",
       "      <th></th>\n",
       "      <th>choice_amt_x</th>\n",
       "      <th>expenditure_amt</th>\n",
       "      <th>income_amt</th>\n",
       "      <th>account_transfer_amt</th>\n",
       "      <th>card_amt</th>\n",
       "      <th>choice_amt_y</th>\n",
       "      <th>deposit_amt</th>\n",
       "      <th>transfer_from_account_amt</th>\n",
       "    </tr>\n",
       "    <tr>\n",
       "      <th>Cluster</th>\n",
       "      <th></th>\n",
       "      <th></th>\n",
       "      <th></th>\n",
       "      <th></th>\n",
       "      <th></th>\n",
       "      <th></th>\n",
       "      <th></th>\n",
       "      <th></th>\n",
       "    </tr>\n",
       "  </thead>\n",
       "  <tbody>\n",
       "    <tr>\n",
       "      <th>0</th>\n",
       "      <td>-0.331787</td>\n",
       "      <td>-0.515248</td>\n",
       "      <td>-0.521634</td>\n",
       "      <td>-0.303695</td>\n",
       "      <td>-0.137385</td>\n",
       "      <td>-0.500537</td>\n",
       "      <td>-0.451875</td>\n",
       "      <td>-0.083917</td>\n",
       "    </tr>\n",
       "    <tr>\n",
       "      <th>1</th>\n",
       "      <td>0.688646</td>\n",
       "      <td>1.455537</td>\n",
       "      <td>1.442006</td>\n",
       "      <td>0.872509</td>\n",
       "      <td>0.378158</td>\n",
       "      <td>1.374898</td>\n",
       "      <td>1.508500</td>\n",
       "      <td>-0.422859</td>\n",
       "    </tr>\n",
       "    <tr>\n",
       "      <th>2</th>\n",
       "      <td>1.778898</td>\n",
       "      <td>0.635896</td>\n",
       "      <td>0.817661</td>\n",
       "      <td>0.294420</td>\n",
       "      <td>0.224331</td>\n",
       "      <td>0.832989</td>\n",
       "      <td>-0.720099</td>\n",
       "      <td>3.738354</td>\n",
       "    </tr>\n",
       "  </tbody>\n",
       "</table>\n",
       "</div>"
      ],
      "text/plain": [
       "         choice_amt_x  expenditure_amt  income_amt  account_transfer_amt  \\\n",
       "Cluster                                                                    \n",
       "0           -0.331787        -0.515248   -0.521634             -0.303695   \n",
       "1            0.688646         1.455537    1.442006              0.872509   \n",
       "2            1.778898         0.635896    0.817661              0.294420   \n",
       "\n",
       "         card_amt  choice_amt_y  deposit_amt  transfer_from_account_amt  \n",
       "Cluster                                                                  \n",
       "0       -0.137385     -0.500537    -0.451875                  -0.083917  \n",
       "1        0.378158      1.374898     1.508500                  -0.422859  \n",
       "2        0.224331      0.832989    -0.720099                   3.738354  "
      ]
     },
     "execution_count": 43,
     "metadata": {},
     "output_type": "execute_result"
    }
   ],
   "source": [
    "sdf_with_cluster = sdf.copy()\n",
    "sdf_with_cluster['Cluster'] = model.predict(sdf)\n",
    "\n",
    "sdf_with_cluster.groupby('Cluster').mean()"
   ]
  },
  {
   "cell_type": "markdown",
   "metadata": {},
   "source": [
    "    3. Prikazati centroide na osnovu linijskog grafa, \n",
    "    4. Opisati svaki klaster u nekoliko rečenica (zapisati u Notebook-u)."
   ]
  },
  {
   "cell_type": "code",
   "execution_count": 44,
   "metadata": {},
   "outputs": [
    {
     "data": {
      "image/png": "[encoded data removed]",
      "text/plain": [
       "<Figure size 1440x504 with 1 Axes>"
      ]
     },
     "metadata": {
      "needs_background": "light"
     },
     "output_type": "display_data"
    }
   ],
   "source": [
    "plt.rcParams['figure.figsize'] = (20, 7)\n",
    "\n",
    "plt.plot(model.cluster_centers_[0, :], c='r', label=\"Pasivni\")\n",
    "plt.plot(model.cluster_centers_[1, :], c='y', label=\"Štediše\")\n",
    "plt.plot(model.cluster_centers_[2, :], c='b', label=\"Biznis\")\n",
    "\n",
    "plt.xticks(list(range(sdf_with_cluster.shape[1] - 1)), sdf_with_cluster.columns[:-1])\n",
    "plt.legend(loc=\"upper left\")\n",
    "\n",
    "plt.show()"
   ]
  },
  {
   "cell_type": "code",
   "execution_count": 45,
   "metadata": {},
   "outputs": [
    {
     "data": {
      "text/plain": [
       "11555.19386440866"
      ]
     },
     "execution_count": 45,
     "metadata": {},
     "output_type": "execute_result"
    }
   ],
   "source": [
    "model.inertia_"
   ]
  },
  {
   "cell_type": "markdown",
   "metadata": {},
   "source": [
    "Prvi klaster (linija crvene boje) je karakterisan sa niskim iznosima svih tipova transakcija i to ga izdvaja od ostalih. Moglo bi se reći da korisnici iz ovog klastera koriste račun za uplate (npr. prijem plate) i ne koriste druge tipove transakcija. Ovu grupu možemo da nazovemo `Pasivni`.\n",
    "\n",
    "Drugi klaster (linija žute boje) predstavlja ljude koji imaju visoke transakcije. Posebno ih karakteriše veoma visok iznos štednje, kao i visoka primanja i troškovi. To je grupa `Štediše`.\n",
    "\n",
    "Treći klaster (linija plave boje) predstavlja ljude koje karakteriše visok nivo transfera na račun, dok su po ostalim tipovima transakcija prosečni. Takođe ih izdvaja i nizak nivo štednje. Nazvaćemo ih `Biznis`. \n"
   ]
  },
  {
   "cell_type": "code",
   "execution_count": 46,
   "metadata": {},
   "outputs": [],
   "source": [
    "model_eval_df = pd.DataFrame(columns=['norm', 'eval_method', \"clusters\", \"sse\", \"silhoutte_score\"])"
   ]
  },
  {
   "cell_type": "code",
   "execution_count": 47,
   "metadata": {},
   "outputs": [
    {
     "data": {
      "text/html": [
       "<div>\n",
       "<style scoped>\n",
       "    .dataframe tbody tr th:only-of-type {\n",
       "        vertical-align: middle;\n",
       "    }\n",
       "\n",
       "    .dataframe tbody tr th {\n",
       "        vertical-align: top;\n",
       "    }\n",
       "\n",
       "    .dataframe thead th {\n",
       "        text-align: right;\n",
       "    }\n",
       "</style>\n",
       "<table border=\"1\" class=\"dataframe\">\n",
       "  <thead>\n",
       "    <tr style=\"text-align: right;\">\n",
       "      <th></th>\n",
       "      <th>norm</th>\n",
       "      <th>eval_method</th>\n",
       "      <th>clusters</th>\n",
       "      <th>sse</th>\n",
       "      <th>silhoutte_score</th>\n",
       "    </tr>\n",
       "  </thead>\n",
       "  <tbody>\n",
       "    <tr>\n",
       "      <th>0</th>\n",
       "      <td>standard_scaler</td>\n",
       "      <td>sse</td>\n",
       "      <td>3</td>\n",
       "      <td>11555.193864</td>\n",
       "      <td>0.551638</td>\n",
       "    </tr>\n",
       "  </tbody>\n",
       "</table>\n",
       "</div>"
      ],
      "text/plain": [
       "              norm eval_method clusters           sse  silhoutte_score\n",
       "0  standard_scaler         sse        3  11555.193864         0.551638"
      ]
     },
     "execution_count": 47,
     "metadata": {},
     "output_type": "execute_result"
    }
   ],
   "source": [
    "model_eval_df.loc[len(model_eval_df)] = ['standard_scaler', 'sse', k, model.inertia_, silhouette_score(pcdf, model.labels_)]\n",
    "model_eval_df"
   ]
  },
  {
   "cell_type": "markdown",
   "metadata": {},
   "source": [
    "#### Optimizacija metaparametra pomoću Silhoutte skora"
   ]
  },
  {
   "cell_type": "code",
   "execution_count": 48,
   "metadata": {},
   "outputs": [],
   "source": [
    "silhouette_index = [silhouette_score(sdf, KMeans(n_clusters=k, random_state=42).fit_predict(sdf)) \\\n",
    "                    for k in range(2, 10)]"
   ]
  },
  {
   "cell_type": "code",
   "execution_count": 49,
   "metadata": {},
   "outputs": [
    {
     "name": "stdout",
     "output_type": "stream",
     "text": [
      "[0.4991016593516114, 0.5083141032296767, 0.41735858385094715, 0.4640324153102587, 0.39350175546492955, 0.34165844922525207, 0.3481863101029792, 0.32656879063075583]\n"
     ]
    },
    {
     "data": {
      "text/plain": [
       "Text(0, 0.5, 'Suma kvadrata udaljenosti elementa od centroida')"
      ]
     },
     "execution_count": 49,
     "metadata": {},
     "output_type": "execute_result"
    },
    {
     "data": {
      "image/png": "[encoded data removed]",
      "text/plain": [
       "<Figure size 1440x504 with 1 Axes>"
      ]
     },
     "metadata": {
      "needs_background": "light"
     },
     "output_type": "display_data"
    }
   ],
   "source": [
    "print(silhouette_index)\n",
    "plt.plot(range(2, 10), silhouette_index)\n",
    "plt.xlabel('Broj klastera')\n",
    "plt.ylabel('Suma kvadrata udaljenosti elementa od centroida')"
   ]
  },
  {
   "cell_type": "code",
   "execution_count": 50,
   "metadata": {},
   "outputs": [
    {
     "data": {
      "text/plain": [
       "0.4640324153102587"
      ]
     },
     "execution_count": 50,
     "metadata": {},
     "output_type": "execute_result"
    }
   ],
   "source": [
    "silhouette_index[3]  # k=4"
   ]
  },
  {
   "cell_type": "code",
   "execution_count": 81,
   "metadata": {},
   "outputs": [
    {
     "data": {
      "text/plain": [
       "KMeans(algorithm='auto', copy_x=True, init='k-means++', max_iter=300,\n",
       "       n_clusters=4, n_init=10, n_jobs=None, precompute_distances='auto',\n",
       "       random_state=42, tol=0.0001, verbose=0)"
      ]
     },
     "execution_count": 81,
     "metadata": {},
     "output_type": "execute_result"
    }
   ],
   "source": [
    "k=4\n",
    "model = KMeans(n_clusters=4, random_state=42)\n",
    "model.fit(sdf)"
   ]
  },
  {
   "cell_type": "code",
   "execution_count": 82,
   "metadata": {},
   "outputs": [
    {
     "data": {
      "text/plain": [
       "array([[-3.53440105e-01, -6.68036291e-01, -6.69438371e-01,\n",
       "        -4.54751934e-01, -2.46115293e-01, -6.17808871e-01,\n",
       "        -6.18413753e-01, -1.02452977e-02,  1.45439216e-14],\n",
       "       [ 1.54859561e+00,  2.04837788e+00,  2.08528360e+00,\n",
       "         7.49372768e-01,  4.45919842e-01,  2.16820212e+00,\n",
       "         2.10845589e+00, -4.23384936e-01,  2.00000000e+00],\n",
       "       [ 1.77889764e+00,  6.35895655e-01,  8.17660688e-01,\n",
       "         2.94420180e-01,  2.24330770e-01,  8.32989245e-01,\n",
       "        -7.20098868e-01,  3.73835367e+00,  3.00000000e+00],\n",
       "       [-1.50463656e-01,  5.38863115e-01,  4.96337718e-01,\n",
       "         6.63126953e-01,  3.31038181e-01,  3.41777393e-01,\n",
       "         6.25282061e-01, -4.15493556e-01,  1.00000000e+00]])"
      ]
     },
     "execution_count": 82,
     "metadata": {},
     "output_type": "execute_result"
    }
   ],
   "source": [
    "model.cluster_centers_"
   ]
  },
  {
   "cell_type": "code",
   "execution_count": 83,
   "metadata": {},
   "outputs": [
    {
     "data": {
      "text/html": [
       "<div>\n",
       "<style scoped>\n",
       "    .dataframe tbody tr th:only-of-type {\n",
       "        vertical-align: middle;\n",
       "    }\n",
       "\n",
       "    .dataframe tbody tr th {\n",
       "        vertical-align: top;\n",
       "    }\n",
       "\n",
       "    .dataframe thead th {\n",
       "        text-align: right;\n",
       "    }\n",
       "</style>\n",
       "<table border=\"1\" class=\"dataframe\">\n",
       "  <thead>\n",
       "    <tr style=\"text-align: right;\">\n",
       "      <th></th>\n",
       "      <th>choice_amt_x</th>\n",
       "      <th>expenditure_amt</th>\n",
       "      <th>income_amt</th>\n",
       "      <th>account_transfer_amt</th>\n",
       "      <th>card_amt</th>\n",
       "      <th>choice_amt_y</th>\n",
       "      <th>deposit_amt</th>\n",
       "      <th>transfer_from_account_amt</th>\n",
       "    </tr>\n",
       "    <tr>\n",
       "      <th>Cluster</th>\n",
       "      <th></th>\n",
       "      <th></th>\n",
       "      <th></th>\n",
       "      <th></th>\n",
       "      <th></th>\n",
       "      <th></th>\n",
       "      <th></th>\n",
       "      <th></th>\n",
       "    </tr>\n",
       "  </thead>\n",
       "  <tbody>\n",
       "    <tr>\n",
       "      <th>0</th>\n",
       "      <td>-0.353440</td>\n",
       "      <td>-0.668036</td>\n",
       "      <td>-0.669438</td>\n",
       "      <td>-0.454752</td>\n",
       "      <td>-0.246115</td>\n",
       "      <td>-0.617809</td>\n",
       "      <td>-0.618414</td>\n",
       "      <td>-0.010245</td>\n",
       "    </tr>\n",
       "    <tr>\n",
       "      <th>1</th>\n",
       "      <td>1.548596</td>\n",
       "      <td>2.048378</td>\n",
       "      <td>2.085284</td>\n",
       "      <td>0.749373</td>\n",
       "      <td>0.445920</td>\n",
       "      <td>2.168202</td>\n",
       "      <td>2.108456</td>\n",
       "      <td>-0.423385</td>\n",
       "    </tr>\n",
       "    <tr>\n",
       "      <th>2</th>\n",
       "      <td>1.778898</td>\n",
       "      <td>0.635896</td>\n",
       "      <td>0.817661</td>\n",
       "      <td>0.294420</td>\n",
       "      <td>0.224331</td>\n",
       "      <td>0.832989</td>\n",
       "      <td>-0.720099</td>\n",
       "      <td>3.738354</td>\n",
       "    </tr>\n",
       "    <tr>\n",
       "      <th>3</th>\n",
       "      <td>-0.150464</td>\n",
       "      <td>0.538863</td>\n",
       "      <td>0.496338</td>\n",
       "      <td>0.663127</td>\n",
       "      <td>0.331038</td>\n",
       "      <td>0.341777</td>\n",
       "      <td>0.625282</td>\n",
       "      <td>-0.415494</td>\n",
       "    </tr>\n",
       "  </tbody>\n",
       "</table>\n",
       "</div>"
      ],
      "text/plain": [
       "         choice_amt_x  expenditure_amt  income_amt  account_transfer_amt  \\\n",
       "Cluster                                                                    \n",
       "0           -0.353440        -0.668036   -0.669438             -0.454752   \n",
       "1            1.548596         2.048378    2.085284              0.749373   \n",
       "2            1.778898         0.635896    0.817661              0.294420   \n",
       "3           -0.150464         0.538863    0.496338              0.663127   \n",
       "\n",
       "         card_amt  choice_amt_y  deposit_amt  transfer_from_account_amt  \n",
       "Cluster                                                                  \n",
       "0       -0.246115     -0.617809    -0.618414                  -0.010245  \n",
       "1        0.445920      2.168202     2.108456                  -0.423385  \n",
       "2        0.224331      0.832989    -0.720099                   3.738354  \n",
       "3        0.331038      0.341777     0.625282                  -0.415494  "
      ]
     },
     "execution_count": 83,
     "metadata": {},
     "output_type": "execute_result"
    }
   ],
   "source": [
    "sdf_with_cluster = sdf\n",
    "sdf_with_cluster['Cluster'] = model.predict(sdf)\n",
    "\n",
    "sdf_with_cluster.groupby('Cluster').mean()"
   ]
  },
  {
   "cell_type": "markdown",
   "metadata": {},
   "source": [
    "    3. Prikazati centroide na osnovu linijskog grafa, \n",
    "    4. Opisati svaki klaster u nekoliko rečenica (zapisati u Notebook-u)."
   ]
  },
  {
   "cell_type": "code",
   "execution_count": 84,
   "metadata": {},
   "outputs": [
    {
     "data": {
      "image/png": "[encoded data removed]",
      "text/plain": [
       "<Figure size 1440x504 with 1 Axes>"
      ]
     },
     "metadata": {
      "needs_background": "light"
     },
     "output_type": "display_data"
    }
   ],
   "source": [
    "plt.rcParams['figure.figsize'] = (20, 7)\n",
    "\n",
    "plt.plot(model.cluster_centers_[0, :], c='r', label='Pasivni')\n",
    "plt.plot(model.cluster_centers_[1, :], c='y', label='Štediše')\n",
    "plt.plot(model.cluster_centers_[2, :], c='b', label='Biznis')\n",
    "plt.plot(model.cluster_centers_[3, :], c='pink', label='Prosečni')\n",
    "\n",
    "plt.xticks(list(range(sdf.shape[1] - 1)), sdf.columns[:-1])\n",
    "plt.legend(loc=\"upper left\")\n",
    "\n",
    "plt.show()"
   ]
  },
  {
   "cell_type": "markdown",
   "metadata": {},
   "source": [
    "Dobijeni su klasteri koji jako liče na prve rezultate, s tim što je izdvojen novi klaster koji predstavlja prosečne korisnike. S toga smo iskoristili prethodno definisana imena i dodajemo novi kao:\n",
    "\n",
    "Četvrti klaster (linija roze boje) predstavlja ljude koji imaju umeren promet na računu. Njih možemo nazvati `Prosečni`."
   ]
  },
  {
   "cell_type": "code",
   "execution_count": 55,
   "metadata": {},
   "outputs": [
    {
     "data": {
      "text/html": [
       "<div>\n",
       "<style scoped>\n",
       "    .dataframe tbody tr th:only-of-type {\n",
       "        vertical-align: middle;\n",
       "    }\n",
       "\n",
       "    .dataframe tbody tr th {\n",
       "        vertical-align: top;\n",
       "    }\n",
       "\n",
       "    .dataframe thead th {\n",
       "        text-align: right;\n",
       "    }\n",
       "</style>\n",
       "<table border=\"1\" class=\"dataframe\">\n",
       "  <thead>\n",
       "    <tr style=\"text-align: right;\">\n",
       "      <th></th>\n",
       "      <th>norm</th>\n",
       "      <th>eval_method</th>\n",
       "      <th>clusters</th>\n",
       "      <th>sse</th>\n",
       "      <th>silhoutte_score</th>\n",
       "    </tr>\n",
       "  </thead>\n",
       "  <tbody>\n",
       "    <tr>\n",
       "      <th>0</th>\n",
       "      <td>standard_scaler</td>\n",
       "      <td>sse</td>\n",
       "      <td>3</td>\n",
       "      <td>11555.193864</td>\n",
       "      <td>0.551638</td>\n",
       "    </tr>\n",
       "    <tr>\n",
       "      <th>1</th>\n",
       "      <td>standard_scaler</td>\n",
       "      <td>silhoutte</td>\n",
       "      <td>4</td>\n",
       "      <td>9329.710073</td>\n",
       "      <td>0.449800</td>\n",
       "    </tr>\n",
       "  </tbody>\n",
       "</table>\n",
       "</div>"
      ],
      "text/plain": [
       "              norm eval_method clusters           sse  silhoutte_score\n",
       "0  standard_scaler         sse        3  11555.193864         0.551638\n",
       "1  standard_scaler   silhoutte        4   9329.710073         0.449800"
      ]
     },
     "execution_count": 55,
     "metadata": {},
     "output_type": "execute_result"
    }
   ],
   "source": [
    "model_eval_df.loc[len(model_eval_df)] = ['standard_scaler', 'silhoutte', k, model.inertia_, silhouette_score(sdf, model.labels_)]\n",
    "model_eval_df"
   ]
  },
  {
   "cell_type": "markdown",
   "metadata": {},
   "source": [
    "### MinMax normalizovan skup podataka"
   ]
  },
  {
   "cell_type": "code",
   "execution_count": 56,
   "metadata": {},
   "outputs": [
    {
     "data": {
      "text/html": [
       "<div>\n",
       "<style scoped>\n",
       "    .dataframe tbody tr th:only-of-type {\n",
       "        vertical-align: middle;\n",
       "    }\n",
       "\n",
       "    .dataframe tbody tr th {\n",
       "        vertical-align: top;\n",
       "    }\n",
       "\n",
       "    .dataframe thead th {\n",
       "        text-align: right;\n",
       "    }\n",
       "</style>\n",
       "<table border=\"1\" class=\"dataframe\">\n",
       "  <thead>\n",
       "    <tr style=\"text-align: right;\">\n",
       "      <th></th>\n",
       "      <th>choice_amt_x</th>\n",
       "      <th>expenditure_amt</th>\n",
       "      <th>income_amt</th>\n",
       "      <th>account_transfer_amt</th>\n",
       "      <th>card_amt</th>\n",
       "      <th>choice_amt_y</th>\n",
       "      <th>deposit_amt</th>\n",
       "      <th>transfer_from_account_amt</th>\n",
       "    </tr>\n",
       "    <tr>\n",
       "      <th>client_id</th>\n",
       "      <th></th>\n",
       "      <th></th>\n",
       "      <th></th>\n",
       "      <th></th>\n",
       "      <th></th>\n",
       "      <th></th>\n",
       "      <th></th>\n",
       "      <th></th>\n",
       "    </tr>\n",
       "  </thead>\n",
       "  <tbody>\n",
       "    <tr>\n",
       "      <th>1.0</th>\n",
       "      <td>0.0</td>\n",
       "      <td>0.074287</td>\n",
       "      <td>0.065387</td>\n",
       "      <td>0.143001</td>\n",
       "      <td>0.000000</td>\n",
       "      <td>0.034116</td>\n",
       "      <td>0.009629</td>\n",
       "      <td>0.109050</td>\n",
       "    </tr>\n",
       "    <tr>\n",
       "      <th>3.0</th>\n",
       "      <td>0.0</td>\n",
       "      <td>0.093813</td>\n",
       "      <td>0.101566</td>\n",
       "      <td>0.198528</td>\n",
       "      <td>0.000000</td>\n",
       "      <td>0.037924</td>\n",
       "      <td>0.000453</td>\n",
       "      <td>0.187152</td>\n",
       "    </tr>\n",
       "    <tr>\n",
       "      <th>4.0</th>\n",
       "      <td>0.0</td>\n",
       "      <td>0.123588</td>\n",
       "      <td>0.123455</td>\n",
       "      <td>0.270953</td>\n",
       "      <td>0.000000</td>\n",
       "      <td>0.047254</td>\n",
       "      <td>0.000264</td>\n",
       "      <td>0.224035</td>\n",
       "    </tr>\n",
       "    <tr>\n",
       "      <th>5.0</th>\n",
       "      <td>0.0</td>\n",
       "      <td>0.231972</td>\n",
       "      <td>0.230521</td>\n",
       "      <td>0.142302</td>\n",
       "      <td>0.119433</td>\n",
       "      <td>0.191542</td>\n",
       "      <td>0.235468</td>\n",
       "      <td>0.000000</td>\n",
       "    </tr>\n",
       "    <tr>\n",
       "      <th>6.0</th>\n",
       "      <td>0.0</td>\n",
       "      <td>0.338928</td>\n",
       "      <td>0.329952</td>\n",
       "      <td>0.466020</td>\n",
       "      <td>0.000000</td>\n",
       "      <td>0.209253</td>\n",
       "      <td>0.334141</td>\n",
       "      <td>0.000000</td>\n",
       "    </tr>\n",
       "  </tbody>\n",
       "</table>\n",
       "</div>"
      ],
      "text/plain": [
       "           choice_amt_x  expenditure_amt  income_amt  account_transfer_amt  \\\n",
       "client_id                                                                    \n",
       "1.0                 0.0         0.074287    0.065387              0.143001   \n",
       "3.0                 0.0         0.093813    0.101566              0.198528   \n",
       "4.0                 0.0         0.123588    0.123455              0.270953   \n",
       "5.0                 0.0         0.231972    0.230521              0.142302   \n",
       "6.0                 0.0         0.338928    0.329952              0.466020   \n",
       "\n",
       "           card_amt  choice_amt_y  deposit_amt  transfer_from_account_amt  \n",
       "client_id                                                                  \n",
       "1.0        0.000000      0.034116     0.009629                   0.109050  \n",
       "3.0        0.000000      0.037924     0.000453                   0.187152  \n",
       "4.0        0.000000      0.047254     0.000264                   0.224035  \n",
       "5.0        0.119433      0.191542     0.235468                   0.000000  \n",
       "6.0        0.000000      0.209253     0.334141                   0.000000  "
      ]
     },
     "execution_count": 56,
     "metadata": {},
     "output_type": "execute_result"
    }
   ],
   "source": [
    "from sklearn.preprocessing import MinMaxScaler\n",
    "\n",
    "scaler = MinMaxScaler()\n",
    "mdf = pd.DataFrame(scaler.fit_transform(pcdf), columns=pcdf.columns, index=pcdf.index)\n",
    "mdf.head()"
   ]
  },
  {
   "cell_type": "markdown",
   "metadata": {},
   "source": [
    "#### Optimizacija metaparametra pomoću SSE"
   ]
  },
  {
   "cell_type": "code",
   "execution_count": 57,
   "metadata": {},
   "outputs": [],
   "source": [
    "from sklearn.cluster import KMeans\n",
    "\n",
    "sse = [KMeans(n_clusters=k, random_state=42).fit(mdf).inertia_ for k in range(1, 10)]"
   ]
  },
  {
   "cell_type": "code",
   "execution_count": 58,
   "metadata": {},
   "outputs": [
    {
     "data": {
      "text/plain": [
       "Text(0, 0.5, 'Suma kvadrata udaljenosti elementa od centroida')"
      ]
     },
     "execution_count": 58,
     "metadata": {},
     "output_type": "execute_result"
    },
    {
     "data": {
      "image/png": "[encoded data removed]",
      "text/plain": [
       "<Figure size 1440x504 with 1 Axes>"
      ]
     },
     "metadata": {
      "needs_background": "light"
     },
     "output_type": "display_data"
    }
   ],
   "source": [
    "plt.plot(range(1, 10), sse)\n",
    "plt.xlabel('Broj klastera')\n",
    "plt.ylabel('Suma kvadrata udaljenosti elementa od centroida')"
   ]
  },
  {
   "cell_type": "code",
   "execution_count": 59,
   "metadata": {},
   "outputs": [
    {
     "data": {
      "text/plain": [
       "456.09334782518397"
      ]
     },
     "execution_count": 59,
     "metadata": {},
     "output_type": "execute_result"
    }
   ],
   "source": [
    "sse[1] # k=2"
   ]
  },
  {
   "cell_type": "code",
   "execution_count": 60,
   "metadata": {},
   "outputs": [
    {
     "data": {
      "text/plain": [
       "KMeans(algorithm='auto', copy_x=True, init='k-means++', max_iter=300,\n",
       "       n_clusters=2, n_init=10, n_jobs=None, precompute_distances='auto',\n",
       "       random_state=42, tol=0.0001, verbose=0)"
      ]
     },
     "execution_count": 60,
     "metadata": {},
     "output_type": "execute_result"
    }
   ],
   "source": [
    "k=2\n",
    "model = KMeans(n_clusters=k, random_state=42)\n",
    "\n",
    "model.fit(mdf)"
   ]
  },
  {
   "cell_type": "code",
   "execution_count": 61,
   "metadata": {
    "scrolled": false
   },
   "outputs": [
    {
     "data": {
      "text/plain": [
       "array([[0.0186316 , 0.13382309, 0.13231489, 0.16019461, 0.03294693,\n",
       "        0.09148246, 0.09391625, 0.07745661],\n",
       "       [0.21850456, 0.51401152, 0.51804486, 0.40061271, 0.10906003,\n",
       "        0.43474534, 0.47599967, 0.07779411]])"
      ]
     },
     "execution_count": 61,
     "metadata": {},
     "output_type": "execute_result"
    }
   ],
   "source": [
    "model.cluster_centers_"
   ]
  },
  {
   "cell_type": "code",
   "execution_count": 62,
   "metadata": {
    "scrolled": true
   },
   "outputs": [
    {
     "data": {
      "text/html": [
       "<div>\n",
       "<style scoped>\n",
       "    .dataframe tbody tr th:only-of-type {\n",
       "        vertical-align: middle;\n",
       "    }\n",
       "\n",
       "    .dataframe tbody tr th {\n",
       "        vertical-align: top;\n",
       "    }\n",
       "\n",
       "    .dataframe thead th {\n",
       "        text-align: right;\n",
       "    }\n",
       "</style>\n",
       "<table border=\"1\" class=\"dataframe\">\n",
       "  <thead>\n",
       "    <tr style=\"text-align: right;\">\n",
       "      <th></th>\n",
       "      <th>choice_amt_x</th>\n",
       "      <th>expenditure_amt</th>\n",
       "      <th>income_amt</th>\n",
       "      <th>account_transfer_amt</th>\n",
       "      <th>card_amt</th>\n",
       "      <th>choice_amt_y</th>\n",
       "      <th>deposit_amt</th>\n",
       "      <th>transfer_from_account_amt</th>\n",
       "    </tr>\n",
       "    <tr>\n",
       "      <th>Cluster</th>\n",
       "      <th></th>\n",
       "      <th></th>\n",
       "      <th></th>\n",
       "      <th></th>\n",
       "      <th></th>\n",
       "      <th></th>\n",
       "      <th></th>\n",
       "      <th></th>\n",
       "    </tr>\n",
       "  </thead>\n",
       "  <tbody>\n",
       "    <tr>\n",
       "      <th>0</th>\n",
       "      <td>0.018632</td>\n",
       "      <td>0.133823</td>\n",
       "      <td>0.132315</td>\n",
       "      <td>0.160195</td>\n",
       "      <td>0.032947</td>\n",
       "      <td>0.091482</td>\n",
       "      <td>0.093916</td>\n",
       "      <td>0.077457</td>\n",
       "    </tr>\n",
       "    <tr>\n",
       "      <th>1</th>\n",
       "      <td>0.218505</td>\n",
       "      <td>0.514012</td>\n",
       "      <td>0.518045</td>\n",
       "      <td>0.400613</td>\n",
       "      <td>0.109060</td>\n",
       "      <td>0.434745</td>\n",
       "      <td>0.476000</td>\n",
       "      <td>0.077794</td>\n",
       "    </tr>\n",
       "  </tbody>\n",
       "</table>\n",
       "</div>"
      ],
      "text/plain": [
       "         choice_amt_x  expenditure_amt  income_amt  account_transfer_amt  \\\n",
       "Cluster                                                                    \n",
       "0            0.018632         0.133823    0.132315              0.160195   \n",
       "1            0.218505         0.514012    0.518045              0.400613   \n",
       "\n",
       "         card_amt  choice_amt_y  deposit_amt  transfer_from_account_amt  \n",
       "Cluster                                                                  \n",
       "0        0.032947      0.091482     0.093916                   0.077457  \n",
       "1        0.109060      0.434745     0.476000                   0.077794  "
      ]
     },
     "execution_count": 62,
     "metadata": {},
     "output_type": "execute_result"
    }
   ],
   "source": [
    "mdf_with_cluster = mdf.copy()\n",
    "mdf_with_cluster['Cluster'] = model.predict(mdf)\n",
    "\n",
    "mdf_with_cluster.groupby('Cluster').mean()"
   ]
  },
  {
   "cell_type": "markdown",
   "metadata": {},
   "source": [
    "    3. Prikazati centroide na osnovu linijskog grafa, \n",
    "    4. Opisati svaki klaster u nekoliko rečenica (zapisati u Notebook-u)."
   ]
  },
  {
   "cell_type": "code",
   "execution_count": 63,
   "metadata": {},
   "outputs": [
    {
     "data": {
      "image/png": "[encoded data removed]",
      "text/plain": [
       "<Figure size 1440x504 with 1 Axes>"
      ]
     },
     "metadata": {
      "needs_background": "light"
     },
     "output_type": "display_data"
    }
   ],
   "source": [
    "plt.rcParams['figure.figsize'] = (20, 7)\n",
    "\n",
    "plt.plot(model.cluster_centers_[0, :], c='r', label=\"Standardni\")\n",
    "plt.plot(model.cluster_centers_[1, :], c='y', label=\"Štediše\")\n",
    "\n",
    "plt.xticks(list(range(mdf_with_cluster.shape[1] - 1)), mdf_with_cluster.columns[:-1])\n",
    "plt.legend(loc=\"upper left\")\n",
    "\n",
    "plt.show()"
   ]
  },
  {
   "cell_type": "markdown",
   "metadata": {},
   "source": [
    "1. Crveni klaster predstavlja prosečne korisnike sa izraženim odlazećim transferom sa računa. Možemo ih zvati `Standardni`.\n",
    "2. Žuti klaster su korisnici koji račun koriste za štednju i transfera sa računa, dok ređe plaćaju karticom. Ovaj klaster je tri puta manji od klastera standardnih korisnika. Oni su `Štediše`. "
   ]
  },
  {
   "cell_type": "code",
   "execution_count": 64,
   "metadata": {},
   "outputs": [
    {
     "data": {
      "text/html": [
       "<div>\n",
       "<style scoped>\n",
       "    .dataframe tbody tr th:only-of-type {\n",
       "        vertical-align: middle;\n",
       "    }\n",
       "\n",
       "    .dataframe tbody tr th {\n",
       "        vertical-align: top;\n",
       "    }\n",
       "\n",
       "    .dataframe thead th {\n",
       "        text-align: right;\n",
       "    }\n",
       "</style>\n",
       "<table border=\"1\" class=\"dataframe\">\n",
       "  <thead>\n",
       "    <tr style=\"text-align: right;\">\n",
       "      <th></th>\n",
       "      <th>norm</th>\n",
       "      <th>eval_method</th>\n",
       "      <th>clusters</th>\n",
       "      <th>sse</th>\n",
       "      <th>silhoutte_score</th>\n",
       "    </tr>\n",
       "  </thead>\n",
       "  <tbody>\n",
       "    <tr>\n",
       "      <th>0</th>\n",
       "      <td>standard_scaler</td>\n",
       "      <td>sse</td>\n",
       "      <td>3</td>\n",
       "      <td>11555.193864</td>\n",
       "      <td>0.551638</td>\n",
       "    </tr>\n",
       "    <tr>\n",
       "      <th>1</th>\n",
       "      <td>standard_scaler</td>\n",
       "      <td>silhoutte</td>\n",
       "      <td>4</td>\n",
       "      <td>9329.710073</td>\n",
       "      <td>0.449800</td>\n",
       "    </tr>\n",
       "    <tr>\n",
       "      <th>2</th>\n",
       "      <td>minmax</td>\n",
       "      <td>sse</td>\n",
       "      <td>2</td>\n",
       "      <td>456.093348</td>\n",
       "      <td>0.514233</td>\n",
       "    </tr>\n",
       "  </tbody>\n",
       "</table>\n",
       "</div>"
      ],
      "text/plain": [
       "              norm eval_method clusters           sse  silhoutte_score\n",
       "0  standard_scaler         sse        3  11555.193864         0.551638\n",
       "1  standard_scaler   silhoutte        4   9329.710073         0.449800\n",
       "2           minmax         sse        2    456.093348         0.514233"
      ]
     },
     "execution_count": 64,
     "metadata": {},
     "output_type": "execute_result"
    }
   ],
   "source": [
    "model_eval_df.loc[len(model_eval_df)] = ['minmax', 'sse', k, model.inertia_, silhouette_score(mdf, model.labels_)]\n",
    "model_eval_df"
   ]
  },
  {
   "cell_type": "markdown",
   "metadata": {},
   "source": [
    "#### Optimizacija metaparametra pomoću Silhoutte skora"
   ]
  },
  {
   "cell_type": "code",
   "execution_count": 65,
   "metadata": {},
   "outputs": [],
   "source": [
    "import scikitplot as skplt\n",
    "from sklearn.metrics import silhouette_score"
   ]
  },
  {
   "cell_type": "code",
   "execution_count": 66,
   "metadata": {},
   "outputs": [],
   "source": [
    "silhouette_index = [silhouette_score(mdf, KMeans(n_clusters=k, random_state=42).fit_predict(mdf)) \\\n",
    "                    for k in range(2, 10)]"
   ]
  },
  {
   "cell_type": "code",
   "execution_count": 67,
   "metadata": {},
   "outputs": [
    {
     "data": {
      "text/plain": [
       "Text(0, 0.5, 'Suma kvadrata udaljenosti elementa od centroida')"
      ]
     },
     "execution_count": 67,
     "metadata": {},
     "output_type": "execute_result"
    },
    {
     "data": {
      "image/png": "[encoded data removed]",
      "text/plain": [
       "<Figure size 1440x504 with 1 Axes>"
      ]
     },
     "metadata": {
      "needs_background": "light"
     },
     "output_type": "display_data"
    }
   ],
   "source": [
    "plt.plot(range(2, 10), silhouette_index)\n",
    "plt.xlabel('Broj klastera')\n",
    "plt.ylabel('Suma kvadrata udaljenosti elementa od centroida')"
   ]
  },
  {
   "cell_type": "code",
   "execution_count": 68,
   "metadata": {},
   "outputs": [
    {
     "data": {
      "text/plain": [
       "0.4309861593987252"
      ]
     },
     "execution_count": 68,
     "metadata": {},
     "output_type": "execute_result"
    }
   ],
   "source": [
    "silhouette_index[2]  # k=3"
   ]
  },
  {
   "cell_type": "code",
   "execution_count": 114,
   "metadata": {},
   "outputs": [
    {
     "data": {
      "text/plain": [
       "KMeans(algorithm='auto', copy_x=True, init='k-means++', max_iter=300,\n",
       "       n_clusters=3, n_init=10, n_jobs=None, precompute_distances='auto',\n",
       "       random_state=42, tol=0.0001, verbose=0)"
      ]
     },
     "execution_count": 114,
     "metadata": {},
     "output_type": "execute_result"
    }
   ],
   "source": [
    "k=3\n",
    "model = KMeans(n_clusters=3, random_state=42)\n",
    "model.fit(mdf)"
   ]
  },
  {
   "cell_type": "code",
   "execution_count": 70,
   "metadata": {},
   "outputs": [
    {
     "data": {
      "text/plain": [
       "array([[0.00927316, 0.10067801, 0.09926488, 0.12666096, 0.01462819,\n",
       "        0.06658161, 0.06031522, 0.07898497],\n",
       "       [0.09013223, 0.32874727, 0.32786572, 0.33959861, 0.10424491,\n",
       "        0.24618014, 0.2775229 , 0.09501117],\n",
       "       [0.31099891, 0.63056733, 0.63852467, 0.4082847 , 0.11500675,\n",
       "        0.56384706, 0.62164638, 0.03227792]])"
      ]
     },
     "execution_count": 70,
     "metadata": {},
     "output_type": "execute_result"
    }
   ],
   "source": [
    "model.cluster_centers_"
   ]
  },
  {
   "cell_type": "code",
   "execution_count": 115,
   "metadata": {},
   "outputs": [
    {
     "data": {
      "text/html": [
       "<div>\n",
       "<style scoped>\n",
       "    .dataframe tbody tr th:only-of-type {\n",
       "        vertical-align: middle;\n",
       "    }\n",
       "\n",
       "    .dataframe tbody tr th {\n",
       "        vertical-align: top;\n",
       "    }\n",
       "\n",
       "    .dataframe thead th {\n",
       "        text-align: right;\n",
       "    }\n",
       "</style>\n",
       "<table border=\"1\" class=\"dataframe\">\n",
       "  <thead>\n",
       "    <tr style=\"text-align: right;\">\n",
       "      <th></th>\n",
       "      <th>choice_amt_x</th>\n",
       "      <th>expenditure_amt</th>\n",
       "      <th>income_amt</th>\n",
       "      <th>account_transfer_amt</th>\n",
       "      <th>card_amt</th>\n",
       "      <th>choice_amt_y</th>\n",
       "      <th>deposit_amt</th>\n",
       "      <th>transfer_from_account_amt</th>\n",
       "    </tr>\n",
       "    <tr>\n",
       "      <th>Cluster</th>\n",
       "      <th></th>\n",
       "      <th></th>\n",
       "      <th></th>\n",
       "      <th></th>\n",
       "      <th></th>\n",
       "      <th></th>\n",
       "      <th></th>\n",
       "      <th></th>\n",
       "    </tr>\n",
       "  </thead>\n",
       "  <tbody>\n",
       "    <tr>\n",
       "      <th>0</th>\n",
       "      <td>0.009273</td>\n",
       "      <td>0.100678</td>\n",
       "      <td>0.099265</td>\n",
       "      <td>0.126661</td>\n",
       "      <td>0.014628</td>\n",
       "      <td>0.066582</td>\n",
       "      <td>0.060315</td>\n",
       "      <td>0.078985</td>\n",
       "    </tr>\n",
       "    <tr>\n",
       "      <th>1</th>\n",
       "      <td>0.090132</td>\n",
       "      <td>0.328747</td>\n",
       "      <td>0.327866</td>\n",
       "      <td>0.339599</td>\n",
       "      <td>0.104245</td>\n",
       "      <td>0.246180</td>\n",
       "      <td>0.277523</td>\n",
       "      <td>0.095011</td>\n",
       "    </tr>\n",
       "    <tr>\n",
       "      <th>2</th>\n",
       "      <td>0.310999</td>\n",
       "      <td>0.630567</td>\n",
       "      <td>0.638525</td>\n",
       "      <td>0.408285</td>\n",
       "      <td>0.115007</td>\n",
       "      <td>0.563847</td>\n",
       "      <td>0.621646</td>\n",
       "      <td>0.032278</td>\n",
       "    </tr>\n",
       "  </tbody>\n",
       "</table>\n",
       "</div>"
      ],
      "text/plain": [
       "         choice_amt_x  expenditure_amt  income_amt  account_transfer_amt  \\\n",
       "Cluster                                                                    \n",
       "0            0.009273         0.100678    0.099265              0.126661   \n",
       "1            0.090132         0.328747    0.327866              0.339599   \n",
       "2            0.310999         0.630567    0.638525              0.408285   \n",
       "\n",
       "         card_amt  choice_amt_y  deposit_amt  transfer_from_account_amt  \n",
       "Cluster                                                                  \n",
       "0        0.014628      0.066582     0.060315                   0.078985  \n",
       "1        0.104245      0.246180     0.277523                   0.095011  \n",
       "2        0.115007      0.563847     0.621646                   0.032278  "
      ]
     },
     "execution_count": 115,
     "metadata": {},
     "output_type": "execute_result"
    }
   ],
   "source": [
    "mdf_with_cluster = pd.DataFrame()\n",
    "mdf_with_cluster = mdf.copy()\n",
    "mdf_with_cluster['Cluster'] = model.predict(mdf)\n",
    "\n",
    "mdf_with_cluster.groupby('Cluster').mean()"
   ]
  },
  {
   "cell_type": "markdown",
   "metadata": {},
   "source": [
    "    3. Prikazati centroide na osnovu linijskog grafa, \n",
    "    4. Opisati svaki klaster u nekoliko rečenica (zapisati u Notebook-u)."
   ]
  },
  {
   "cell_type": "code",
   "execution_count": 116,
   "metadata": {},
   "outputs": [
    {
     "data": {
      "image/png": "[encoded data removed]",
      "text/plain": [
       "<Figure size 1440x504 with 1 Axes>"
      ]
     },
     "metadata": {
      "needs_background": "light"
     },
     "output_type": "display_data"
    }
   ],
   "source": [
    "plt.rcParams['figure.figsize'] = (20, 7)\n",
    "\n",
    "plt.plot(model.cluster_centers_[0, :], c='r', label='Standard')\n",
    "plt.plot(model.cluster_centers_[1, :], c='y', label='Štediše')\n",
    "plt.plot(model.cluster_centers_[2, :], c='b', label='Gold')\n",
    "\n",
    "plt.xticks(list(range(mdf_with_cluster.shape[1] - 1)), mdf_with_cluster.columns[:-1])\n",
    "plt.legend(loc=\"upper left\")\n",
    "\n",
    "plt.show()"
   ]
  },
  {
   "cell_type": "markdown",
   "metadata": {},
   "source": [
    "Vidimo da smo zadržali slične klastere, Standardne i Štediše, dok nam se odvojila i treća grupa koju možemo nazvati Gold, jer ih karakterišu daleko visoki iznosi transankcija."
   ]
  },
  {
   "cell_type": "code",
   "execution_count": 74,
   "metadata": {},
   "outputs": [],
   "source": [
    "model_eval_df.loc[len(model_eval_df)] = ['minmax', 'silhoutte', k, model.inertia_, silhouette_score(mdf, model.labels_)]"
   ]
  },
  {
   "cell_type": "code",
   "execution_count": 75,
   "metadata": {},
   "outputs": [
    {
     "data": {
      "text/html": [
       "<div>\n",
       "<style scoped>\n",
       "    .dataframe tbody tr th:only-of-type {\n",
       "        vertical-align: middle;\n",
       "    }\n",
       "\n",
       "    .dataframe tbody tr th {\n",
       "        vertical-align: top;\n",
       "    }\n",
       "\n",
       "    .dataframe thead th {\n",
       "        text-align: right;\n",
       "    }\n",
       "</style>\n",
       "<table border=\"1\" class=\"dataframe\">\n",
       "  <thead>\n",
       "    <tr style=\"text-align: right;\">\n",
       "      <th></th>\n",
       "      <th>norm</th>\n",
       "      <th>eval_method</th>\n",
       "      <th>clusters</th>\n",
       "      <th>sse</th>\n",
       "      <th>silhoutte_score</th>\n",
       "    </tr>\n",
       "  </thead>\n",
       "  <tbody>\n",
       "    <tr>\n",
       "      <th>3</th>\n",
       "      <td>minmax</td>\n",
       "      <td>silhoutte</td>\n",
       "      <td>3</td>\n",
       "      <td>369.815690</td>\n",
       "      <td>0.409500</td>\n",
       "    </tr>\n",
       "    <tr>\n",
       "      <th>1</th>\n",
       "      <td>standard_scaler</td>\n",
       "      <td>silhoutte</td>\n",
       "      <td>4</td>\n",
       "      <td>9329.710073</td>\n",
       "      <td>0.449800</td>\n",
       "    </tr>\n",
       "    <tr>\n",
       "      <th>2</th>\n",
       "      <td>minmax</td>\n",
       "      <td>sse</td>\n",
       "      <td>2</td>\n",
       "      <td>456.093348</td>\n",
       "      <td>0.514233</td>\n",
       "    </tr>\n",
       "    <tr>\n",
       "      <th>0</th>\n",
       "      <td>standard_scaler</td>\n",
       "      <td>sse</td>\n",
       "      <td>3</td>\n",
       "      <td>11555.193864</td>\n",
       "      <td>0.551638</td>\n",
       "    </tr>\n",
       "  </tbody>\n",
       "</table>\n",
       "</div>"
      ],
      "text/plain": [
       "              norm eval_method clusters           sse  silhoutte_score\n",
       "3           minmax   silhoutte        3    369.815690         0.409500\n",
       "1  standard_scaler   silhoutte        4   9329.710073         0.449800\n",
       "2           minmax         sse        2    456.093348         0.514233\n",
       "0  standard_scaler         sse        3  11555.193864         0.551638"
      ]
     },
     "execution_count": 75,
     "metadata": {},
     "output_type": "execute_result"
    }
   ],
   "source": [
    "model_eval_df.sort_values(by=['silhoutte_score', 'sse'])"
   ]
  },
  {
   "cell_type": "markdown",
   "metadata": {},
   "source": [
    "Iako po merama kvaliteta modela vidimo da je najbolji poslednji model koji smo napravili, kao finalni model biramo drugi model. \n",
    "Razlog za to je daleko bolja interpretabilnost. Pomoću poslednja dva modela dobili smo klastere koji međusobno jako liče, a najveća razlika je u iznosima transakcija (vidimo da su linije zapravo samo \"podignute i preslikane\"). Koristeći drugi model dobijamo klastere koji više govore o tipu korisnika i načinu na koji koristi svoje račune, pa je taj model daleko upotrebljiviji, zbog čega žrtvujemo malo tačnosti."
   ]
  },
  {
   "cell_type": "markdown",
   "metadata": {},
   "source": [
    "## Hijerarhijsko klasterovanje"
   ]
  },
  {
   "cell_type": "markdown",
   "metadata": {},
   "source": [
    "Kreirati hijerarhijski model klasterovanja.\n",
    "1. Prikazati denrogram.\n",
    "2. Odrediti granicu preseka na osnovu dendrograma i kreirati klastere (opisati klastere u Notebook-u i opisati zašto ste izabrali baš taj broj klastera)."
   ]
  },
  {
   "cell_type": "code",
   "execution_count": 76,
   "metadata": {},
   "outputs": [],
   "source": [
    "from scipy.cluster.hierarchy import dendrogram, linkage\n",
    "Z = linkage(mdf, 'ward')"
   ]
  },
  {
   "cell_type": "code",
   "execution_count": 77,
   "metadata": {},
   "outputs": [
    {
     "data": {
      "image/png": "[encoded data removed]",
      "text/plain": [
       "<Figure size 1800x720 with 1 Axes>"
      ]
     },
     "metadata": {
      "needs_background": "light"
     },
     "output_type": "display_data"
    }
   ],
   "source": [
    "plt.figure(figsize=(25, 10))\n",
    "plt.title('Hijerarhijsko klasterovanje')\n",
    "plt.xlabel('Klijenti')\n",
    "plt.ylabel('Udaljenost')\n",
    "\n",
    "dendrogram(Z)\n",
    "\n",
    "plt.show()"
   ]
  },
  {
   "cell_type": "code",
   "execution_count": 86,
   "metadata": {},
   "outputs": [
    {
     "data": {
      "text/plain": [
       "AgglomerativeClustering(affinity='euclidean', compute_full_tree='auto',\n",
       "                        connectivity=None, distance_threshold=None,\n",
       "                        linkage='ward', memory=None, n_clusters=4,\n",
       "                        pooling_func='deprecated')"
      ]
     },
     "execution_count": 86,
     "metadata": {},
     "output_type": "execute_result"
    }
   ],
   "source": [
    "from sklearn.cluster import AgglomerativeClustering\n",
    "\n",
    "model = AgglomerativeClustering(n_clusters=4, linkage='ward')\n",
    "model.fit(mdf)"
   ]
  },
  {
   "cell_type": "code",
   "execution_count": 87,
   "metadata": {},
   "outputs": [
    {
     "data": {
      "text/plain": [
       "0.3993200190365685"
      ]
     },
     "execution_count": 87,
     "metadata": {},
     "output_type": "execute_result"
    }
   ],
   "source": [
    "silhouette_score(mdf, model.labels_)"
   ]
  },
  {
   "cell_type": "code",
   "execution_count": 88,
   "metadata": {},
   "outputs": [
    {
     "data": {
      "text/plain": [
       "<matplotlib.axes._subplots.AxesSubplot at 0x1a25663748>"
      ]
     },
     "execution_count": 88,
     "metadata": {},
     "output_type": "execute_result"
    },
    {
     "data": {
      "image/png": "[encoded data removed]",
      "text/plain": [
       "<Figure size 1440x504 with 1 Axes>"
      ]
     },
     "metadata": {
      "needs_background": "light"
     },
     "output_type": "display_data"
    }
   ],
   "source": [
    "skplt.metrics.plot_silhouette(pcdf, model.labels_)"
   ]
  },
  {
   "cell_type": "code",
   "execution_count": 90,
   "metadata": {},
   "outputs": [],
   "source": [
    "mdf_with_cluster = pd.DataFrame()\n",
    "mdf_with_cluster = mdf.copy()\n",
    "mdf_with_cluster['Cluster'] = model.labels_"
   ]
  },
  {
   "cell_type": "code",
   "execution_count": 108,
   "metadata": {},
   "outputs": [],
   "source": [
    "mdf_agg_clusters = mdf_with_cluster.groupby('Cluster').mean()"
   ]
  },
  {
   "cell_type": "code",
   "execution_count": 110,
   "metadata": {},
   "outputs": [
    {
     "data": {
      "image/png": "[encoded data removed]",
      "text/plain": [
       "<Figure size 1440x504 with 1 Axes>"
      ]
     },
     "metadata": {
      "needs_background": "light"
     },
     "output_type": "display_data"
    }
   ],
   "source": [
    "plt.rcParams['figure.figsize'] = (20, 7)\n",
    "\n",
    "plt.plot(mdf_agg_clusters.iloc[0, :], c='r', label='Gold')\n",
    "plt.plot(mdf_agg_clusters.iloc[1, :], c='y', label='Tradicionalni')\n",
    "plt.plot(mdf_agg_clusters.iloc[2, :], c='b', label='Aktivni')\n",
    "plt.plot(mdf_agg_clusters.iloc[3, :], c='pink', label='Biznis')\n",
    "\n",
    "plt.legend(loc=\"upper left\")\n",
    "\n",
    "plt.xticks(list(range(mdf_agg_clusters.shape[1])), mdf_agg_clusters.columns)\n",
    "\n",
    "plt.show()"
   ]
  },
  {
   "cell_type": "markdown",
   "metadata": {},
   "source": [
    "Prvi klaster (linija žute boje) čine korisnici koji najčešće koriste transfere sa i na račun, dok retko koriste karticu. Ovo je najveći klaster i iznosi transakcija nisu veliki. Možemo reći da su ovo `Tradicionalni` korisnici. \n",
    "\n",
    "Drugi klaster (linija plave boje) čine korisnici koji većinu svojih plaćanja vrše preko banke. Vidimo da imaju veliki transfer sa računa i koriste kartice. Takođe, vidimo viši novio depozita od prethedne grupe što potvrđuje pretpostavku da retko koriste gotovini. Ovaj klaster možemo nazvati `Aktivni`.\n",
    "\n",
    "Treći klaster (linija roze boje) predstavlja ljude koje karakteriše visok nivo transfera na račun, dok su po ostalim tipovima transakcija prosečni. Takođe ih izdvaja i nizak nivo štednje. Nazvaćemo ih `Biznis`. \n",
    "\n",
    "Četvrtom klasteru (linija crvene boje) pripadaju korisnici sa veoma visokim primanjima. Oni takođe imaju i visoke iznose na drugim tipovima transakcija, a najviše na štednji. Nazvaćemo ih `Gold`. "
   ]
  }
 ],
 "metadata": {
  "kernelspec": {
   "display_name": "Python 3",
   "language": "python",
   "name": "python3"
  },
  "language_info": {
   "codemirror_mode": {
    "name": "ipython",
    "version": 3
   },
   "file_extension": ".py",
   "mimetype": "text/x-python",
   "name": "python",
   "nbconvert_exporter": "python",
   "pygments_lexer": "ipython3",
   "version": "3.7.3"
  },
  "toc": {
   "base_numbering": 1,
   "nav_menu": {},
   "number_sections": true,
   "sideBar": true,
   "skip_h1_title": false,
   "title_cell": "Table of Contents",
   "title_sidebar": "Contents",
   "toc_cell": false,
   "toc_position": {
    "height": "calc(100% - 180px)",
    "left": "10px",
    "top": "150px",
    "width": "475px"
   },
   "toc_section_display": true,
   "toc_window_display": true
  },
  "varInspector": {
   "cols": {
    "lenName": 16,
    "lenType": 16,
    "lenVar": 40
   },
   "kernels_config": {
    "python": {
     "delete_cmd_postfix": "",
     "delete_cmd_prefix": "del ",
     "library": "var_list.py",
     "varRefreshCmd": "print(var_dic_list())"
    },
    "r": {
     "delete_cmd_postfix": ") ",
     "delete_cmd_prefix": "rm(",
     "library": "var_list.r",
     "varRefreshCmd": "cat(var_dic_list()) "
    }
   },
   "position": {
    "height": "283px",
    "left": "1486px",
    "right": "20px",
    "top": "80px",
    "width": "413px"
   },
   "types_to_exclude": [
    "module",
    "function",
    "builtin_function_or_method",
    "instance",
    "_Feature"
   ],
   "window_display": true
  }
 },
 "nbformat": 4,
 "nbformat_minor": 2
}
